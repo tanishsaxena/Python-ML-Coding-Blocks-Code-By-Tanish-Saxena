{
 "cells": [
  {
   "cell_type": "code",
   "execution_count": 42,
   "metadata": {
    "collapsed": false
   },
   "outputs": [],
   "source": [
    "import numpy as np\n",
    "import matplotlib.pyplot as plt\n",
    "import pandas as pd"
   ]
  },
  {
   "cell_type": "code",
   "execution_count": 43,
   "metadata": {
    "collapsed": false
   },
   "outputs": [],
   "source": [
    "%matplotlib inline"
   ]
  },
  {
   "cell_type": "code",
   "execution_count": 44,
   "metadata": {
    "collapsed": true
   },
   "outputs": [],
   "source": [
    "data=pd.read_csv(\"mnist_train_small.csv\")"
   ]
  },
  {
   "cell_type": "code",
   "execution_count": 45,
   "metadata": {
    "collapsed": true
   },
   "outputs": [],
   "source": [
    "val=data.values"
   ]
  },
  {
   "cell_type": "code",
   "execution_count": 46,
   "metadata": {
    "collapsed": false
   },
   "outputs": [
    {
     "data": {
      "text/html": [
       "<div>\n",
       "<table border=\"1\" class=\"dataframe\">\n",
       "  <thead>\n",
       "    <tr style=\"text-align: right;\">\n",
       "      <th></th>\n",
       "      <th>Unnamed: 0</th>\n",
       "      <th>5</th>\n",
       "      <th>0</th>\n",
       "      <th>0.1</th>\n",
       "      <th>0.2</th>\n",
       "      <th>0.3</th>\n",
       "      <th>0.4</th>\n",
       "      <th>0.5</th>\n",
       "      <th>0.6</th>\n",
       "      <th>0.7</th>\n",
       "      <th>...</th>\n",
       "      <th>0.608</th>\n",
       "      <th>0.609</th>\n",
       "      <th>0.610</th>\n",
       "      <th>0.611</th>\n",
       "      <th>0.612</th>\n",
       "      <th>0.613</th>\n",
       "      <th>0.614</th>\n",
       "      <th>0.615</th>\n",
       "      <th>0.616</th>\n",
       "      <th>0.617</th>\n",
       "    </tr>\n",
       "  </thead>\n",
       "  <tbody>\n",
       "    <tr>\n",
       "      <th>0</th>\n",
       "      <td>0</td>\n",
       "      <td>0</td>\n",
       "      <td>0</td>\n",
       "      <td>0</td>\n",
       "      <td>0</td>\n",
       "      <td>0</td>\n",
       "      <td>0</td>\n",
       "      <td>0</td>\n",
       "      <td>0</td>\n",
       "      <td>0</td>\n",
       "      <td>...</td>\n",
       "      <td>0</td>\n",
       "      <td>0</td>\n",
       "      <td>0</td>\n",
       "      <td>0</td>\n",
       "      <td>0</td>\n",
       "      <td>0</td>\n",
       "      <td>0</td>\n",
       "      <td>0</td>\n",
       "      <td>0</td>\n",
       "      <td>0</td>\n",
       "    </tr>\n",
       "    <tr>\n",
       "      <th>1</th>\n",
       "      <td>1</td>\n",
       "      <td>4</td>\n",
       "      <td>0</td>\n",
       "      <td>0</td>\n",
       "      <td>0</td>\n",
       "      <td>0</td>\n",
       "      <td>0</td>\n",
       "      <td>0</td>\n",
       "      <td>0</td>\n",
       "      <td>0</td>\n",
       "      <td>...</td>\n",
       "      <td>0</td>\n",
       "      <td>0</td>\n",
       "      <td>0</td>\n",
       "      <td>0</td>\n",
       "      <td>0</td>\n",
       "      <td>0</td>\n",
       "      <td>0</td>\n",
       "      <td>0</td>\n",
       "      <td>0</td>\n",
       "      <td>0</td>\n",
       "    </tr>\n",
       "    <tr>\n",
       "      <th>2</th>\n",
       "      <td>2</td>\n",
       "      <td>1</td>\n",
       "      <td>0</td>\n",
       "      <td>0</td>\n",
       "      <td>0</td>\n",
       "      <td>0</td>\n",
       "      <td>0</td>\n",
       "      <td>0</td>\n",
       "      <td>0</td>\n",
       "      <td>0</td>\n",
       "      <td>...</td>\n",
       "      <td>0</td>\n",
       "      <td>0</td>\n",
       "      <td>0</td>\n",
       "      <td>0</td>\n",
       "      <td>0</td>\n",
       "      <td>0</td>\n",
       "      <td>0</td>\n",
       "      <td>0</td>\n",
       "      <td>0</td>\n",
       "      <td>0</td>\n",
       "    </tr>\n",
       "    <tr>\n",
       "      <th>3</th>\n",
       "      <td>3</td>\n",
       "      <td>9</td>\n",
       "      <td>0</td>\n",
       "      <td>0</td>\n",
       "      <td>0</td>\n",
       "      <td>0</td>\n",
       "      <td>0</td>\n",
       "      <td>0</td>\n",
       "      <td>0</td>\n",
       "      <td>0</td>\n",
       "      <td>...</td>\n",
       "      <td>0</td>\n",
       "      <td>0</td>\n",
       "      <td>0</td>\n",
       "      <td>0</td>\n",
       "      <td>0</td>\n",
       "      <td>0</td>\n",
       "      <td>0</td>\n",
       "      <td>0</td>\n",
       "      <td>0</td>\n",
       "      <td>0</td>\n",
       "    </tr>\n",
       "    <tr>\n",
       "      <th>4</th>\n",
       "      <td>4</td>\n",
       "      <td>2</td>\n",
       "      <td>0</td>\n",
       "      <td>0</td>\n",
       "      <td>0</td>\n",
       "      <td>0</td>\n",
       "      <td>0</td>\n",
       "      <td>0</td>\n",
       "      <td>0</td>\n",
       "      <td>0</td>\n",
       "      <td>...</td>\n",
       "      <td>0</td>\n",
       "      <td>0</td>\n",
       "      <td>0</td>\n",
       "      <td>0</td>\n",
       "      <td>0</td>\n",
       "      <td>0</td>\n",
       "      <td>0</td>\n",
       "      <td>0</td>\n",
       "      <td>0</td>\n",
       "      <td>0</td>\n",
       "    </tr>\n",
       "  </tbody>\n",
       "</table>\n",
       "<p>5 rows × 786 columns</p>\n",
       "</div>"
      ],
      "text/plain": [
       "   Unnamed: 0  5  0  0.1  0.2  0.3  0.4  0.5  0.6  0.7  ...    0.608  0.609  \\\n",
       "0           0  0  0    0    0    0    0    0    0    0  ...        0      0   \n",
       "1           1  4  0    0    0    0    0    0    0    0  ...        0      0   \n",
       "2           2  1  0    0    0    0    0    0    0    0  ...        0      0   \n",
       "3           3  9  0    0    0    0    0    0    0    0  ...        0      0   \n",
       "4           4  2  0    0    0    0    0    0    0    0  ...        0      0   \n",
       "\n",
       "   0.610  0.611  0.612  0.613  0.614  0.615  0.616  0.617  \n",
       "0      0      0      0      0      0      0      0      0  \n",
       "1      0      0      0      0      0      0      0      0  \n",
       "2      0      0      0      0      0      0      0      0  \n",
       "3      0      0      0      0      0      0      0      0  \n",
       "4      0      0      0      0      0      0      0      0  \n",
       "\n",
       "[5 rows x 786 columns]"
      ]
     },
     "execution_count": 46,
     "metadata": {},
     "output_type": "execute_result"
    }
   ],
   "source": [
    "data.head()"
   ]
  },
  {
   "cell_type": "code",
   "execution_count": 40,
   "metadata": {
    "collapsed": false
   },
   "outputs": [
    {
     "data": {
      "text/plain": [
       "<bound method NDFrame.head of       Unnamed: 0  5  0  0.1  0.2  0.3  0.4  0.5  0.6  0.7  ...    0.608  \\\n",
       "0              0  0  0    0    0    0    0    0    0    0  ...        0   \n",
       "1              1  4  0    0    0    0    0    0    0    0  ...        0   \n",
       "2              2  1  0    0    0    0    0    0    0    0  ...        0   \n",
       "3              3  9  0    0    0    0    0    0    0    0  ...        0   \n",
       "4              4  2  0    0    0    0    0    0    0    0  ...        0   \n",
       "5              5  1  0    0    0    0    0    0    0    0  ...        0   \n",
       "6              6  3  0    0    0    0    0    0    0    0  ...        0   \n",
       "7              7  1  0    0    0    0    0    0    0    0  ...        0   \n",
       "8              8  4  0    0    0    0    0    0    0    0  ...        0   \n",
       "9              9  3  0    0    0    0    0    0    0    0  ...        0   \n",
       "10            10  5  0    0    0    0    0    0    0    0  ...        0   \n",
       "11            11  3  0    0    0    0    0    0    0    0  ...        0   \n",
       "12            12  6  0    0    0    0    0    0    0    0  ...        0   \n",
       "13            13  1  0    0    0    0    0    0    0    0  ...        0   \n",
       "14            14  7  0    0    0    0    0    0    0    0  ...        0   \n",
       "15            15  2  0    0    0    0    0    0    0    0  ...        0   \n",
       "16            16  8  0    0    0    0    0    0    0    0  ...        0   \n",
       "17            17  6  0    0    0    0    0    0    0    0  ...        0   \n",
       "18            18  9  0    0    0    0    0    0    0    0  ...        0   \n",
       "19            19  4  0    0    0    0    0    0    0    0  ...        0   \n",
       "20            20  0  0    0    0    0    0    0    0    0  ...        0   \n",
       "21            21  9  0    0    0    0    0    0    0    0  ...        0   \n",
       "22            22  1  0    0    0    0    0    0    0    0  ...        0   \n",
       "23            23  1  0    0    0    0    0    0    0    0  ...        0   \n",
       "24            24  2  0    0    0    0    0    0    0    0  ...        0   \n",
       "25            25  4  0    0    0    0    0    0    0    0  ...        0   \n",
       "26            26  3  0    0    0    0    0    0    0    0  ...        0   \n",
       "27            27  2  0    0    0    0    0    0    0    0  ...        0   \n",
       "28            28  7  0    0    0    0    0    0    0    0  ...        0   \n",
       "29            29  3  0    0    0    0    0    0    0    0  ...        0   \n",
       "...          ... .. ..  ...  ...  ...  ...  ...  ...  ...  ...      ...   \n",
       "7970        7970  1  0    0    0    0    0    0    0    0  ...        0   \n",
       "7971        7971  6  0    0    0    0    0    0    0    0  ...        0   \n",
       "7972        7972  1  0    0    0    0    0    0    0    0  ...        0   \n",
       "7973        7973  4  0    0    0    0    0    0    0    0  ...        0   \n",
       "7974        7974  9  0    0    0    0    0    0    0    0  ...        0   \n",
       "7975        7975  3  0    0    0    0    0    0    0    0  ...        0   \n",
       "7976        7976  9  0    0    0    0    0    0    0    0  ...        0   \n",
       "7977        7977  0  0    0    0    0    0    0    0    0  ...        0   \n",
       "7978        7978  8  0    0    0    0    0    0    0    0  ...        0   \n",
       "7979        7979  3  0    0    0    0    0    0    0    0  ...        0   \n",
       "7980        7980  0  0    0    0    0    0    0    0    0  ...        0   \n",
       "7981        7981  3  0    0    0    0    0    0    0    0  ...        0   \n",
       "7982        7982  2  0    0    0    0    0    0    0    0  ...        0   \n",
       "7983        7983  4  0    0    0    0    0    0    0    0  ...        0   \n",
       "7984        7984  0  0    0    0    0    0    0    0    0  ...        0   \n",
       "7985        7985  2  0    0    0    0    0    0    0    0  ...        0   \n",
       "7986        7986  3  0    0    0    0    0    0    0    0  ...        0   \n",
       "7987        7987  5  0    0    0    0    0    0    0    0  ...        0   \n",
       "7988        7988  5  0    0    0    0    0    0    0    0  ...        0   \n",
       "7989        7989  6  0    0    0    0    0    0    0    0  ...        0   \n",
       "7990        7990  6  0    0    0    0    0    0    0    0  ...        0   \n",
       "7991        7991  7  0    0    0    0    0    0    0    0  ...        0   \n",
       "7992        7992  1  0    0    0    0    0    0    0    0  ...        0   \n",
       "7993        7993  7  0    0    0    0    0    0    0    0  ...        0   \n",
       "7994        7994  8  0    0    0    0    0    0    0    0  ...        0   \n",
       "7995        7995  1  0    0    0    0    0    0    0    0  ...        0   \n",
       "7996        7996  6  0    0    0    0    0    0    0    0  ...        0   \n",
       "7997        7997  5  0    0    0    0    0    0    0    0  ...        0   \n",
       "7998        7998  4  0    0    0    0    0    0    0    0  ...        0   \n",
       "7999        7999  0  0    0    0    0    0    0    0    0  ...        0   \n",
       "\n",
       "      0.609  0.610  0.611  0.612  0.613  0.614  0.615  0.616  0.617  \n",
       "0         0      0      0      0      0      0      0      0      0  \n",
       "1         0      0      0      0      0      0      0      0      0  \n",
       "2         0      0      0      0      0      0      0      0      0  \n",
       "3         0      0      0      0      0      0      0      0      0  \n",
       "4         0      0      0      0      0      0      0      0      0  \n",
       "5         0      0      0      0      0      0      0      0      0  \n",
       "6         0      0      0      0      0      0      0      0      0  \n",
       "7         0      0      0      0      0      0      0      0      0  \n",
       "8         0      0      0      0      0      0      0      0      0  \n",
       "9         0      0      0      0      0      0      0      0      0  \n",
       "10        0      0      0      0      0      0      0      0      0  \n",
       "11        0      0      0      0      0      0      0      0      0  \n",
       "12        0      0      0      0      0      0      0      0      0  \n",
       "13        0      0      0      0      0      0      0      0      0  \n",
       "14        0      0      0      0      0      0      0      0      0  \n",
       "15        0      0      0      0      0      0      0      0      0  \n",
       "16        0      0      0      0      0      0      0      0      0  \n",
       "17        0      0      0      0      0      0      0      0      0  \n",
       "18        0      0      0      0      0      0      0      0      0  \n",
       "19        0      0      0      0      0      0      0      0      0  \n",
       "20        0      0      0      0      0      0      0      0      0  \n",
       "21        0      0      0      0      0      0      0      0      0  \n",
       "22        0      0      0      0      0      0      0      0      0  \n",
       "23        0      0      0      0      0      0      0      0      0  \n",
       "24        0      0      0      0      0      0      0      0      0  \n",
       "25        0      0      0      0      0      0      0      0      0  \n",
       "26        0      0      0      0      0      0      0      0      0  \n",
       "27        0      0      0      0      0      0      0      0      0  \n",
       "28        0      0      0      0      0      0      0      0      0  \n",
       "29        0      0      0      0      0      0      0      0      0  \n",
       "...     ...    ...    ...    ...    ...    ...    ...    ...    ...  \n",
       "7970      0      0      0      0      0      0      0      0      0  \n",
       "7971      0      0      0      0      0      0      0      0      0  \n",
       "7972      0      0      0      0      0      0      0      0      0  \n",
       "7973      0      0      0      0      0      0      0      0      0  \n",
       "7974      0      0      0      0      0      0      0      0      0  \n",
       "7975      0      0      0      0      0      0      0      0      0  \n",
       "7976      0      0      0      0      0      0      0      0      0  \n",
       "7977      0      0      0      0      0      0      0      0      0  \n",
       "7978      0      0      0      0      0      0      0      0      0  \n",
       "7979      0      0      0      0      0      0      0      0      0  \n",
       "7980      0      0      0      0      0      0      0      0      0  \n",
       "7981      0      0      0      0      0      0      0      0      0  \n",
       "7982      0      0      0      0      0      0      0      0      0  \n",
       "7983      0      0      0      0      0      0      0      0      0  \n",
       "7984      0      0      0      0      0      0      0      0      0  \n",
       "7985      0      0      0      0      0      0      0      0      0  \n",
       "7986      0      0      0      0      0      0      0      0      0  \n",
       "7987      0      0      0      0      0      0      0      0      0  \n",
       "7988      0      0      0      0      0      0      0      0      0  \n",
       "7989      0      0      0      0      0      0      0      0      0  \n",
       "7990      0      0      0      0      0      0      0      0      0  \n",
       "7991      0      0      0      0      0      0      0      0      0  \n",
       "7992      0      0      0      0      0      0      0      0      0  \n",
       "7993      0      0      0      0      0      0      0      0      0  \n",
       "7994      0      0      0      0      0      0      0      0      0  \n",
       "7995      0      0      0      0      0      0      0      0      0  \n",
       "7996      0      0      0      0      0      0      0      0      0  \n",
       "7997      0      0      0      0      0      0      0      0      0  \n",
       "7998      0      0      0      0      0      0      0      0      0  \n",
       "7999      0      0      0      0      0      0      0      0      0  \n",
       "\n",
       "[8000 rows x 786 columns]>"
      ]
     },
     "execution_count": 40,
     "metadata": {},
     "output_type": "execute_result"
    }
   ],
   "source": []
  },
  {
   "cell_type": "code",
   "execution_count": 5,
   "metadata": {
    "collapsed": false
   },
   "outputs": [],
   "source": [
    "X=val[:,2:]\n",
    "y=val[:,1]"
   ]
  },
  {
   "cell_type": "code",
   "execution_count": 6,
   "metadata": {
    "collapsed": false
   },
   "outputs": [],
   "source": [
    "img=X[0].reshape([28,28])\n",
    "\n"
   ]
  },
  {
   "cell_type": "code",
   "execution_count": 7,
   "metadata": {
    "collapsed": false
   },
   "outputs": [
    {
     "data": {
      "text/plain": [
       "<matplotlib.image.AxesImage at 0x1ba63698048>"
      ]
     },
     "execution_count": 7,
     "metadata": {},
     "output_type": "execute_result"
    },
    {
     "data": {
      "image/png": "[encoded data removed]",
      "text/plain": [
       "<Figure size 432x288 with 1 Axes>"
      ]
     },
     "metadata": {},
     "output_type": "display_data"
    }
   ],
   "source": [
    "plt.imshow(img,cmap=\"gray\")"
   ]
  },
  {
   "cell_type": "code",
   "execution_count": 8,
   "metadata": {
    "collapsed": false
   },
   "outputs": [
    {
     "name": "stdout",
     "output_type": "stream",
     "text": [
      "Object `train_test_split` not found.\n"
     ]
    }
   ],
   "source": [
    "from sklearn.cross_validation import train_test_split?"
   ]
  },
  {
   "cell_type": "code",
   "execution_count": null,
   "metadata": {
    "collapsed": true
   },
   "outputs": [],
   "source": [
    "from sklearn.cross_validation import train_test_split"
   ]
  },
  {
   "cell_type": "code",
   "execution_count": 9,
   "metadata": {
    "collapsed": true
   },
   "outputs": [],
   "source": [
    "from sklearn.cross_validation import train_test_split"
   ]
  },
  {
   "cell_type": "code",
   "execution_count": 10,
   "metadata": {
    "collapsed": true
   },
   "outputs": [],
   "source": [
    "from sklearn.cross_validation import train_test_split"
   ]
  },
  {
   "cell_type": "code",
   "execution_count": 11,
   "metadata": {
    "collapsed": true
   },
   "outputs": [],
   "source": [
    "from sklearn.cross_validation import train_test_split"
   ]
  },
  {
   "cell_type": "code",
   "execution_count": 12,
   "metadata": {
    "collapsed": true
   },
   "outputs": [],
   "source": [
    "from sklearn.cross_validation import train_test_split"
   ]
  },
  {
   "cell_type": "code",
   "execution_count": 13,
   "metadata": {
    "collapsed": true
   },
   "outputs": [],
   "source": [
    "from sklearn.cross_validation import train_test_split"
   ]
  },
  {
   "cell_type": "code",
   "execution_count": 14,
   "metadata": {
    "collapsed": false
   },
   "outputs": [],
   "source": [
    "X_train,X_test,y_train,y_test=train_test_split(X,y,test_size=0.33,random_state=42)"
   ]
  },
  {
   "cell_type": "code",
   "execution_count": 15,
   "metadata": {
    "collapsed": false
   },
   "outputs": [],
   "source": [
    "class KNN:\n",
    "    \n",
    "    def __init__(self,k):\n",
    "        self.k=k\n",
    "        self.X=None\n",
    "        self.y=None\n",
    "        \n",
    "    \n",
    "    @classmethod\n",
    "    def distance(self,p1,p2):\n",
    "        return np.sum((p1-p2)**2)\n",
    "    \n",
    "    def fit(self,X,y):\n",
    "        self.X=X\n",
    "        self.y=y\n",
    "    \n",
    "    \n",
    "    def predict_point(self,point):\n",
    "        distances=[]\n",
    "        for X_test,y_test in zip(self.X,self.y):\n",
    "            dis=KNN.distance(point,X_test)\n",
    "            distances.append((dis,y_test))\n",
    "        distances=sorted(distances)\n",
    "        top=np.array(distances[:self.k])\n",
    "        val,count=np.unique(top[:,1],return_counts=True)\n",
    "        return val[np.argmax(count)]\n",
    "    \n",
    "    def predict(self,points):\n",
    "        res=[]\n",
    "        for point in points:\n",
    "            res.append(self.predict_point(point))\n",
    "        return np.array(res,dtype=int)\n",
    "    \n",
    "    def accuracy(self,X,y):\n",
    "        return np.sum((self.predict(X)==y)/len(y))\n",
    "    "
   ]
  },
  {
   "cell_type": "code",
   "execution_count": 16,
   "metadata": {
    "collapsed": false
   },
   "outputs": [],
   "source": [
    "model=KNN(10)\n",
    "model.fit(X_train,y_train)\n",
    "#model.predict(X_test)\n",
    "#model.accuracy(X_test,y_test)"
   ]
  },
  {
   "cell_type": "code",
   "execution_count": 31,
   "metadata": {
    "collapsed": false
   },
   "outputs": [
    {
     "data": {
      "text/plain": [
       "array([9, 1, 4, 8, 0, 8, 2, 2, 4, 0, 6, 5, 1, 4, 0, 9, 2, 1, 2, 8, 7, 1, 7,\n",
       "       0, 7, 9, 1, 4, 9, 7, 9, 5, 7, 7, 3, 7, 0, 3, 6, 0, 3, 1, 6, 6, 6, 2,\n",
       "       0, 5, 8, 1, 4, 7, 7, 8, 6, 1, 0, 5, 9, 3, 9, 4, 1, 3, 0, 3, 7, 7, 6,\n",
       "       7, 9, 4, 8, 7, 5, 1, 3, 1, 8, 2, 0, 3, 7, 8, 1, 7, 9, 1, 3, 1, 0, 0,\n",
       "       0, 1, 0, 4, 2, 1, 4, 3])"
      ]
     },
     "execution_count": 31,
     "metadata": {},
     "output_type": "execute_result"
    }
   ],
   "source": [
    "model.predict(X_test[:100])"
   ]
  },
  {
   "cell_type": "code",
   "execution_count": 32,
   "metadata": {
    "collapsed": false
   },
   "outputs": [
    {
     "data": {
      "text/plain": [
       "array([9, 1, 4, 8, 0, 8, 2, 2, 4, 8, 6, 5, 1, 4, 0, 9, 2, 1, 2, 8, 7, 1, 7,\n",
       "       0, 7, 9, 1, 4, 9, 7, 9, 5, 7, 7, 3, 7, 0, 3, 6, 0, 3, 1, 6, 6, 6, 2,\n",
       "       0, 5, 8, 1, 4, 7, 7, 8, 6, 2, 0, 5, 9, 3, 9, 4, 1, 3, 0, 3, 7, 7, 6,\n",
       "       7, 9, 9, 8, 9, 5, 4, 3, 5, 8, 2, 0, 3, 7, 8, 1, 7, 9, 1, 3, 1, 6, 0,\n",
       "       0, 1, 0, 4, 2, 1, 4, 3], dtype=int64)"
      ]
     },
     "execution_count": 32,
     "metadata": {},
     "output_type": "execute_result"
    }
   ],
   "source": [
    "y_test[:100]"
   ]
  },
  {
   "cell_type": "code",
   "execution_count": 33,
   "metadata": {
    "collapsed": false
   },
   "outputs": [
    {
     "data": {
      "text/plain": [
       "0.92999999999999994"
      ]
     },
     "execution_count": 33,
     "metadata": {},
     "output_type": "execute_result"
    }
   ],
   "source": [
    "model.accuracy(X_test[:100],y_test[:100])"
   ]
  },
  {
   "cell_type": "code",
   "execution_count": null,
   "metadata": {
    "collapsed": true
   },
   "outputs": [],
   "source": []
  },
  {
   "cell_type": "code",
   "execution_count": null,
   "metadata": {
    "collapsed": true
   },
   "outputs": [],
   "source": []
  },
  {
   "cell_type": "code",
   "execution_count": null,
   "metadata": {
    "collapsed": true
   },
   "outputs": [],
   "source": []
  },
  {
   "cell_type": "code",
   "execution_count": null,
   "metadata": {
    "collapsed": true
   },
   "outputs": [],
   "source": []
  }
 ],
 "metadata": {
  "anaconda-cloud": {},
  "kernelspec": {
   "display_name": "Python [default]",
   "language": "python",
   "name": "python3"
  },
  "language_info": {
   "codemirror_mode": {
    "name": "ipython",
    "version": 3
   },
   "file_extension": ".py",
   "mimetype": "text/x-python",
   "name": "python",
   "nbconvert_exporter": "python",
   "pygments_lexer": "ipython3",
   "version": "3.5.2"
  }
 },
 "nbformat": 4,
 "nbformat_minor": 1
}
