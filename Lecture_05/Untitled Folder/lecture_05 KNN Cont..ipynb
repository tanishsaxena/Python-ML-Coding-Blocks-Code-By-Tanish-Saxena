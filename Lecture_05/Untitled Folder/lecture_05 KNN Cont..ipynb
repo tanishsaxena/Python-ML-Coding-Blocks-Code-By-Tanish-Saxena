{
 "cells": [
  {
   "cell_type": "code",
   "execution_count": 1,
   "metadata": {
    "collapsed": true
   },
   "outputs": [],
   "source": [
    "import numpy as np\n",
    "import matplotlib.pyplot as plt\n",
    "%matplotlib inline"
   ]
  },
  {
   "cell_type": "code",
   "execution_count": 70,
   "metadata": {
    "collapsed": false
   },
   "outputs": [],
   "source": [
    "m1=[4,4]\n",
    "m2=[8,8]\n",
    "\n",
    "cov1=[[1,0],[0,1]]\n",
    "cov2=[[2,0.5],[0.5,2]]\n",
    "\n",
    "dist1=np.random.multivariate_normal(m1,cov1,500)\n",
    "dist2=np.random.multivariate_normal(m2,cov2,500)\n"
   ]
  },
  {
   "cell_type": "code",
   "execution_count": 71,
   "metadata": {
    "collapsed": false
   },
   "outputs": [
    {
     "data": {
      "text/plain": [
       "array([[ 3.90912453,  2.88312345],\n",
       "       [ 3.99494837,  4.97783151],\n",
       "       [ 3.96940891,  2.90175597],\n",
       "       [ 4.2093802 ,  3.12707126],\n",
       "       [ 2.58869734,  2.79030616],\n",
       "       [ 3.74859039,  3.75866459],\n",
       "       [ 3.67122396,  1.89180605],\n",
       "       [ 4.36060371,  2.32384665],\n",
       "       [ 4.94368953,  4.3765262 ],\n",
       "       [ 4.23786447,  3.19926835],\n",
       "       [ 3.461916  ,  2.08555018],\n",
       "       [ 5.81265282,  4.11402426],\n",
       "       [ 5.97258878,  4.1406953 ],\n",
       "       [ 4.78087927,  3.28667178],\n",
       "       [ 3.4963651 ,  4.60672978],\n",
       "       [ 2.9785663 ,  2.58771751],\n",
       "       [ 4.68197103,  4.63031655],\n",
       "       [ 3.4756543 ,  3.58690231],\n",
       "       [ 5.01413698,  2.49298197],\n",
       "       [ 4.50625951,  4.79474448],\n",
       "       [ 4.79830133,  3.17867777],\n",
       "       [ 2.99242151,  5.17323624],\n",
       "       [ 4.17120178,  4.63990066],\n",
       "       [ 5.0524214 ,  3.71419743],\n",
       "       [ 3.91708418,  2.47998916],\n",
       "       [ 5.87333324,  3.85014443],\n",
       "       [ 5.23643102,  3.31863532],\n",
       "       [ 4.93119122,  4.11083918],\n",
       "       [ 3.60754043,  4.83367546],\n",
       "       [ 5.58878368,  4.76603312],\n",
       "       [ 3.09721774,  4.11288922],\n",
       "       [ 4.24629914,  3.91813896],\n",
       "       [ 4.34475478,  4.12477453],\n",
       "       [ 3.47218943,  3.30803594],\n",
       "       [ 5.59760736,  2.86643309],\n",
       "       [ 5.51629577,  5.34507492],\n",
       "       [ 3.56563312,  4.98544522],\n",
       "       [ 3.40922662,  5.38847512],\n",
       "       [ 4.22603935,  3.5639822 ],\n",
       "       [ 3.80735407,  4.19839826],\n",
       "       [ 2.95005939,  5.13633563],\n",
       "       [ 4.46902045,  4.18509059],\n",
       "       [ 4.0075861 ,  2.0629018 ],\n",
       "       [ 2.69042156,  3.89718917],\n",
       "       [ 4.30836902,  5.01524597],\n",
       "       [ 4.89470408,  4.95154029],\n",
       "       [ 4.47011789,  2.71820717],\n",
       "       [ 3.76231741,  3.13557202],\n",
       "       [ 5.31582768,  4.51711978],\n",
       "       [ 5.65669643,  5.44440359],\n",
       "       [ 5.13601813,  4.66846191],\n",
       "       [ 2.43687914,  4.16970846],\n",
       "       [ 4.14470535,  4.40154353],\n",
       "       [ 3.92934272,  2.96146377],\n",
       "       [ 3.6277964 ,  3.97507708],\n",
       "       [ 2.69922335,  3.92587834],\n",
       "       [ 2.55683623,  4.26946056],\n",
       "       [ 4.85735169,  3.85011957],\n",
       "       [ 3.49487536,  5.074708  ],\n",
       "       [ 3.25215872,  4.06931464],\n",
       "       [ 4.78740963,  5.23505729],\n",
       "       [ 3.1221853 ,  3.4210129 ],\n",
       "       [ 2.3147456 ,  5.17441247],\n",
       "       [ 4.57175674,  3.92072762],\n",
       "       [ 2.7097072 ,  3.72079775],\n",
       "       [ 2.74110519,  4.23848956],\n",
       "       [ 4.55196453,  4.29961856],\n",
       "       [ 3.7525798 ,  4.36759455],\n",
       "       [ 2.88617626,  3.68544672],\n",
       "       [ 4.31238001,  3.30017413],\n",
       "       [ 3.46169452,  5.24150874],\n",
       "       [ 4.32386502,  3.92917884],\n",
       "       [ 3.82478302,  2.81663788],\n",
       "       [ 5.25907814,  4.61723816],\n",
       "       [ 4.44353485,  4.10291679],\n",
       "       [ 3.06664581,  4.87991089],\n",
       "       [ 3.41942694,  2.84673718],\n",
       "       [ 4.13201546,  7.36692184],\n",
       "       [ 4.0334161 ,  4.6336042 ],\n",
       "       [ 3.66133021,  3.61932999],\n",
       "       [ 4.20006519,  2.65044613],\n",
       "       [ 4.25027725,  4.31378604],\n",
       "       [ 5.54814366,  2.38360906],\n",
       "       [ 3.12317583,  4.67620916],\n",
       "       [ 3.61006631,  1.91278036],\n",
       "       [ 1.76282885,  4.48466936],\n",
       "       [ 3.00704895,  3.31972316],\n",
       "       [ 3.99430236,  4.25855237],\n",
       "       [ 2.8188467 ,  3.74638577],\n",
       "       [ 3.89961326,  4.97556483],\n",
       "       [ 3.06921081,  2.77752801],\n",
       "       [ 4.64293229,  4.50658198],\n",
       "       [ 4.71633369,  5.04173424],\n",
       "       [ 4.55629111,  2.87921514],\n",
       "       [ 4.58091196,  4.01196528],\n",
       "       [ 3.42026258,  2.80276831],\n",
       "       [ 3.78901278,  4.28751165],\n",
       "       [ 5.48566891,  6.70073391],\n",
       "       [ 6.69097579,  1.61144987],\n",
       "       [ 5.21958224,  3.68447049],\n",
       "       [ 3.58123758,  3.42605103],\n",
       "       [ 2.93271365,  4.91048005],\n",
       "       [ 3.15541139,  3.01808955],\n",
       "       [ 5.66251755,  4.91183793],\n",
       "       [ 4.30800251,  4.30600964],\n",
       "       [ 3.24519918,  5.29423758],\n",
       "       [ 6.55515147,  6.32525629],\n",
       "       [ 4.63657287,  6.55016755],\n",
       "       [ 3.48836314,  3.27429866],\n",
       "       [ 5.06600109,  2.95842163],\n",
       "       [ 4.50090985,  2.1770837 ],\n",
       "       [ 4.92171025,  4.61234286],\n",
       "       [ 5.26501593,  4.92964136],\n",
       "       [ 6.21390526,  3.5929659 ],\n",
       "       [ 3.2422534 ,  5.42677026],\n",
       "       [ 4.28499948,  5.20634819],\n",
       "       [ 4.69353637,  4.26959062],\n",
       "       [ 5.63830559,  3.29029556],\n",
       "       [ 4.62504343,  4.15523623],\n",
       "       [ 3.88317787,  5.40268887],\n",
       "       [ 2.3263631 ,  3.96124114],\n",
       "       [ 4.24779581,  5.94079095],\n",
       "       [ 3.40560041,  2.19634598],\n",
       "       [ 5.18826511,  3.82770083],\n",
       "       [ 3.97010724,  2.40702974],\n",
       "       [ 3.75532251,  4.52837369],\n",
       "       [ 4.03444237,  3.76285561],\n",
       "       [ 4.6489938 ,  1.96667589],\n",
       "       [ 5.57179054,  4.80508579],\n",
       "       [ 3.61721976,  4.28063133],\n",
       "       [ 3.49681515,  3.83698814],\n",
       "       [ 3.05818001,  4.47839044],\n",
       "       [ 3.19883446,  3.97779951],\n",
       "       [ 3.8156092 ,  3.669366  ],\n",
       "       [ 4.26930392,  4.47290872],\n",
       "       [ 4.57968937,  3.92499671],\n",
       "       [ 2.69315809,  5.4166225 ],\n",
       "       [ 4.64024855,  2.59711334],\n",
       "       [ 3.52011413,  3.22024886],\n",
       "       [ 4.61040039,  3.59322001],\n",
       "       [ 2.99177486,  4.16707189],\n",
       "       [ 4.61707213,  4.73400873],\n",
       "       [ 5.42969044,  4.0113866 ],\n",
       "       [ 3.40779213,  4.31572777],\n",
       "       [ 3.93872234,  4.65627254],\n",
       "       [ 4.48562943,  3.35596115],\n",
       "       [ 3.55325841,  5.4837984 ],\n",
       "       [ 3.79313523,  5.20792375],\n",
       "       [ 4.46684128,  3.78432059],\n",
       "       [ 3.28934388,  3.7966498 ],\n",
       "       [ 2.74387502,  4.00692514],\n",
       "       [ 5.24937259,  4.76801522],\n",
       "       [ 3.7159841 ,  3.66011156],\n",
       "       [ 5.28051432,  3.72318557],\n",
       "       [ 3.60224087,  3.36141451],\n",
       "       [ 5.02933523,  4.33516702],\n",
       "       [ 5.26614449,  4.92812668],\n",
       "       [ 3.15503714,  5.14931285],\n",
       "       [ 3.87110358,  1.98692055],\n",
       "       [ 3.36279995,  3.76936235],\n",
       "       [ 4.36747418,  1.21321117],\n",
       "       [ 3.6634609 ,  5.18688177],\n",
       "       [ 5.09214192,  2.73406896],\n",
       "       [ 4.53225054,  3.74854842],\n",
       "       [ 4.51570589,  5.17548969],\n",
       "       [ 1.64760485,  3.67185534],\n",
       "       [ 4.13814014,  4.56710193],\n",
       "       [ 4.15680043,  2.74344943],\n",
       "       [ 2.029867  ,  3.2326304 ],\n",
       "       [ 3.27984694,  4.47862493],\n",
       "       [ 4.00095971,  3.27038745],\n",
       "       [ 4.7488961 ,  6.10579069],\n",
       "       [ 4.01595259,  6.11595875],\n",
       "       [ 4.30608125,  3.1845926 ],\n",
       "       [ 5.39539646,  3.0661741 ],\n",
       "       [ 4.25948714,  5.04603209],\n",
       "       [ 4.41551206,  4.36789241],\n",
       "       [ 4.33974717,  4.89528085],\n",
       "       [ 4.42202753,  5.26917247],\n",
       "       [ 3.53845299,  4.12485171],\n",
       "       [ 4.49119187,  3.3571016 ],\n",
       "       [ 3.105105  ,  4.67478399],\n",
       "       [ 3.09130204,  3.75683922],\n",
       "       [ 3.66057411,  6.06742973],\n",
       "       [ 3.4771452 ,  2.55976951],\n",
       "       [ 3.30527185,  3.63655347],\n",
       "       [ 4.17789285,  2.6252663 ],\n",
       "       [ 2.91948693,  2.86095927],\n",
       "       [ 3.56565633,  4.25897957],\n",
       "       [ 2.77612593,  3.20685844],\n",
       "       [ 2.34006176,  4.02809393],\n",
       "       [ 3.84015184,  3.14401235],\n",
       "       [ 4.47324336,  3.17912138],\n",
       "       [ 3.15989117,  3.98085334],\n",
       "       [ 4.37420171,  4.61063573],\n",
       "       [ 5.11919367,  3.86671002],\n",
       "       [ 3.71634222,  3.878446  ],\n",
       "       [ 3.80611138,  3.84868828],\n",
       "       [ 3.01777741,  2.03583266],\n",
       "       [ 5.69328929,  5.61883047],\n",
       "       [ 3.49489943,  6.0338042 ],\n",
       "       [ 4.55049712,  2.92764006],\n",
       "       [ 2.77236218,  4.86349901],\n",
       "       [ 3.48290268,  3.44601977],\n",
       "       [ 4.23912731,  6.01652245],\n",
       "       [ 3.7170856 ,  3.84127499],\n",
       "       [ 4.00705095,  2.55652131],\n",
       "       [ 2.85391376,  6.27086735],\n",
       "       [ 2.40210527,  2.85748473],\n",
       "       [ 5.21925334,  3.84642397],\n",
       "       [ 3.74044798,  5.8791467 ],\n",
       "       [ 4.23278272,  3.40461075],\n",
       "       [ 3.44373006,  3.59716363],\n",
       "       [ 4.65527417,  5.76126108],\n",
       "       [ 3.51657466,  2.59322684],\n",
       "       [ 2.37727949,  4.01372858],\n",
       "       [ 4.41853648,  2.63952636],\n",
       "       [ 3.05094772,  4.83932619],\n",
       "       [ 3.55971151,  3.27050836],\n",
       "       [ 1.7578599 ,  3.93035009],\n",
       "       [ 2.59427224,  3.38176134],\n",
       "       [ 4.20360529,  3.97720402],\n",
       "       [ 4.06131124,  3.34210396],\n",
       "       [ 4.63123369,  6.87126648],\n",
       "       [ 4.14111927,  5.30679088],\n",
       "       [ 4.75403922,  5.76616377],\n",
       "       [ 4.82270837,  3.48744085],\n",
       "       [ 3.68687311,  5.04393483],\n",
       "       [ 3.0055265 ,  4.65764122],\n",
       "       [ 6.03997827,  4.17769454],\n",
       "       [ 2.03815609,  5.01051509],\n",
       "       [ 3.85395446,  5.45842025],\n",
       "       [ 3.18017643,  4.44689111],\n",
       "       [ 3.6634814 ,  3.17078021],\n",
       "       [ 3.46849764,  4.30455659],\n",
       "       [ 3.13081577,  2.83120799],\n",
       "       [ 3.43411908,  4.90550134],\n",
       "       [ 3.65104033,  3.59333644],\n",
       "       [ 2.78043541,  2.8732255 ],\n",
       "       [ 3.69147988,  2.95861148],\n",
       "       [ 2.68148793,  4.2273832 ],\n",
       "       [ 4.05883909,  4.00431097],\n",
       "       [ 2.91908688,  4.27646093],\n",
       "       [ 3.53317211,  2.33333933],\n",
       "       [ 2.59606668,  2.06414772],\n",
       "       [ 3.07054044,  4.57418676],\n",
       "       [ 3.31421879,  4.24818548],\n",
       "       [ 4.07820392,  4.95088553],\n",
       "       [ 3.14543264,  5.42815915],\n",
       "       [ 3.75162   ,  4.67122089],\n",
       "       [ 3.29719756,  3.14870002],\n",
       "       [ 3.62813623,  3.77930213],\n",
       "       [ 3.41493835,  3.85867709],\n",
       "       [ 2.78007546,  2.27938964],\n",
       "       [ 3.7260313 ,  3.71695105],\n",
       "       [ 4.90824891,  4.3411937 ],\n",
       "       [ 3.37186737,  4.70827117],\n",
       "       [ 3.04403752,  6.03147544],\n",
       "       [ 3.29873208,  3.05507281],\n",
       "       [ 3.03954739,  3.4252163 ],\n",
       "       [ 3.94092331,  4.691221  ],\n",
       "       [ 5.83522804,  3.91332204],\n",
       "       [ 4.25541236,  2.91549569],\n",
       "       [ 3.55353969,  3.93929353],\n",
       "       [ 3.47919304,  4.33502381],\n",
       "       [ 3.59279922,  5.9059779 ],\n",
       "       [ 4.79576021,  4.45248402],\n",
       "       [ 3.32400388,  3.11412876],\n",
       "       [ 2.62828148,  6.86952403],\n",
       "       [ 4.73130796,  1.69884151],\n",
       "       [ 2.819895  ,  4.20019439],\n",
       "       [ 4.60976042,  4.23280038],\n",
       "       [ 4.45219994,  4.12661458],\n",
       "       [ 3.62757611,  3.36629404],\n",
       "       [ 5.53145475,  3.81023306],\n",
       "       [ 5.90363467,  4.48046683],\n",
       "       [ 6.09603542,  3.54842412],\n",
       "       [ 3.69013284,  3.52297644],\n",
       "       [ 3.06105222,  4.55029506],\n",
       "       [ 3.58730234,  4.22383193],\n",
       "       [ 4.0900358 ,  4.28983745],\n",
       "       [ 4.55737166,  5.69144107],\n",
       "       [ 3.02711879,  4.63601109],\n",
       "       [ 4.0637009 ,  5.47579177],\n",
       "       [ 2.95989667,  3.8642068 ],\n",
       "       [ 2.6695533 ,  4.31383763],\n",
       "       [ 3.53952797,  4.07158901],\n",
       "       [ 2.33368556,  2.34366762],\n",
       "       [ 3.97373984,  3.23731894],\n",
       "       [ 4.33222843,  5.08537755],\n",
       "       [ 3.52061406,  2.42205324],\n",
       "       [ 2.15385555,  4.26112375],\n",
       "       [ 4.10619359,  4.29493465],\n",
       "       [ 5.72552469,  3.99559316],\n",
       "       [ 4.91279336,  3.3484361 ],\n",
       "       [ 4.60987209,  4.00113153],\n",
       "       [ 3.33401142,  3.5187721 ],\n",
       "       [ 3.18033117,  5.12278563],\n",
       "       [ 3.44719615,  4.93047578],\n",
       "       [ 4.66225358,  5.70576503],\n",
       "       [ 3.68154072,  2.80750836],\n",
       "       [ 4.33001532,  3.78030337],\n",
       "       [ 4.86511574,  4.86508781],\n",
       "       [ 4.36501086,  4.33360013],\n",
       "       [ 4.08263755,  5.28833371],\n",
       "       [ 4.92186451,  2.73590045],\n",
       "       [ 4.59775479,  2.05986999],\n",
       "       [ 6.02945792,  2.25862948],\n",
       "       [ 3.32494239,  4.95673681],\n",
       "       [ 5.66933988,  5.25374768],\n",
       "       [ 4.31431667,  3.92075301],\n",
       "       [ 3.26266931,  2.29738079],\n",
       "       [ 3.68625008,  4.43864727],\n",
       "       [ 3.95916341,  4.49427141],\n",
       "       [ 2.89799128,  5.21007412],\n",
       "       [ 2.31782386,  3.10678053],\n",
       "       [ 2.64444101,  5.02993822],\n",
       "       [ 5.31834013,  3.78575556],\n",
       "       [ 4.0533049 ,  3.8838945 ],\n",
       "       [ 3.82984531,  3.12518101],\n",
       "       [ 4.39198963,  2.47814681],\n",
       "       [ 4.31657929,  3.92966076],\n",
       "       [ 4.94320829,  4.73805482],\n",
       "       [ 1.29806698,  1.58269754],\n",
       "       [ 4.47781977,  3.68789454],\n",
       "       [ 2.55200837,  3.10086756],\n",
       "       [ 3.529135  ,  4.30120332],\n",
       "       [ 3.48094921,  2.9675999 ],\n",
       "       [ 3.07168845,  1.79694719],\n",
       "       [ 6.14651268,  5.33413723],\n",
       "       [ 4.93054793,  6.0027614 ],\n",
       "       [ 3.74387177,  4.26610986],\n",
       "       [ 2.22932604,  2.17797693],\n",
       "       [ 3.47462924,  2.21163314],\n",
       "       [ 3.92542921,  2.82384183],\n",
       "       [ 2.77728127,  5.2495353 ],\n",
       "       [ 3.0066196 ,  3.85227329],\n",
       "       [ 5.89152281,  4.65120189],\n",
       "       [ 5.34750337,  3.43201649],\n",
       "       [ 5.76150941,  5.25347216],\n",
       "       [ 2.69911671,  3.70587016],\n",
       "       [ 5.58439246,  1.2966372 ],\n",
       "       [ 3.26334611,  2.35904131],\n",
       "       [ 3.57286627,  2.90108298],\n",
       "       [ 3.67815556,  4.39180978],\n",
       "       [ 4.3354834 ,  5.03098349],\n",
       "       [ 5.27092272,  4.33853215],\n",
       "       [ 5.9045821 ,  5.30221833],\n",
       "       [ 5.18773878,  2.8528826 ],\n",
       "       [ 2.62693982,  3.77083562],\n",
       "       [ 5.37662723,  3.29745392],\n",
       "       [ 3.11757136,  5.16400672],\n",
       "       [ 4.6537396 ,  2.80774331],\n",
       "       [ 4.16507073,  3.25366771],\n",
       "       [ 3.11050126,  5.26372379],\n",
       "       [ 5.58882598,  6.07612805],\n",
       "       [ 5.47710394,  3.99693975],\n",
       "       [ 4.16027196,  3.19370515],\n",
       "       [ 2.64214456,  3.05437409],\n",
       "       [ 2.94123365,  4.08239674],\n",
       "       [ 3.47295157,  3.30649385],\n",
       "       [ 2.00246102,  3.40860182],\n",
       "       [ 3.35234888,  3.82532991],\n",
       "       [ 2.92819046,  3.79051874],\n",
       "       [ 4.25415978,  2.76634538],\n",
       "       [ 4.49673477,  3.78108591],\n",
       "       [ 2.24380445,  4.06983461],\n",
       "       [ 4.03431927,  5.86502699],\n",
       "       [ 3.43392141,  4.8359269 ],\n",
       "       [ 4.09059127,  3.68644517],\n",
       "       [ 5.0473943 ,  3.29889731],\n",
       "       [ 3.6995793 ,  2.62015788],\n",
       "       [ 3.2947411 ,  4.25410189],\n",
       "       [ 5.56322844,  2.72082677],\n",
       "       [ 5.18355859,  5.10053793],\n",
       "       [ 5.11600126,  2.64992123],\n",
       "       [ 3.97800576,  5.51736348],\n",
       "       [ 2.43024042,  2.89004343],\n",
       "       [ 4.41205513,  4.16090114],\n",
       "       [ 4.41342729,  3.17553003],\n",
       "       [ 2.85896967,  5.21166606],\n",
       "       [ 4.96341422,  4.93001108],\n",
       "       [ 4.7796187 ,  1.90003563],\n",
       "       [ 5.30408635,  2.93538358],\n",
       "       [ 5.03527876,  3.75240971],\n",
       "       [ 4.68277356,  3.95628102],\n",
       "       [ 4.07694649,  3.76659476],\n",
       "       [ 4.27479648,  3.34992881],\n",
       "       [ 3.93472839,  2.96111286],\n",
       "       [ 4.01244041,  4.15368296],\n",
       "       [ 4.92558324,  4.40220693],\n",
       "       [ 2.74075883,  3.86964513],\n",
       "       [ 5.02303978,  3.44681579],\n",
       "       [ 4.76768144,  3.48945151],\n",
       "       [ 3.44978225,  4.37823004],\n",
       "       [ 3.08606986,  2.90491727],\n",
       "       [ 5.64374119,  5.01748746],\n",
       "       [ 3.20771568,  5.55874109],\n",
       "       [ 4.51233421,  4.72391245],\n",
       "       [ 2.9466437 ,  3.32932528],\n",
       "       [ 4.99143231,  2.71639658],\n",
       "       [ 3.17720483,  4.85114981],\n",
       "       [ 2.74904136,  4.02529609],\n",
       "       [ 3.74589078,  3.92701743],\n",
       "       [ 3.15218547,  4.42453558],\n",
       "       [ 3.32713541,  3.83631641],\n",
       "       [ 3.5197147 ,  3.10686345],\n",
       "       [ 4.18443628,  4.01274951],\n",
       "       [ 4.64865446,  5.03597912],\n",
       "       [ 3.78123979,  5.96276337],\n",
       "       [ 4.91015719,  4.1621044 ],\n",
       "       [ 3.13608876,  2.45365785],\n",
       "       [ 4.12241454,  4.76192347],\n",
       "       [ 4.44746757,  4.45088623],\n",
       "       [ 3.85392963,  3.58538715],\n",
       "       [ 3.37553482,  3.25315618],\n",
       "       [ 2.44351908,  3.51455858],\n",
       "       [ 4.50945649,  4.00524184],\n",
       "       [ 3.71612061,  4.25217108],\n",
       "       [ 3.62658389,  2.40714782],\n",
       "       [ 3.42538823,  4.52193948],\n",
       "       [ 3.25480859,  4.40234019],\n",
       "       [ 5.18608922,  4.79578333],\n",
       "       [ 4.53803102,  4.59100315],\n",
       "       [ 4.40745499,  5.27803113],\n",
       "       [ 4.52116674,  4.71310598],\n",
       "       [ 3.62087085,  3.08084436],\n",
       "       [ 2.59628733,  2.56551327],\n",
       "       [ 3.50626955,  4.64257344],\n",
       "       [ 3.66581563,  4.51410719],\n",
       "       [ 1.87242951,  3.16274363],\n",
       "       [ 4.02337991,  3.92309587],\n",
       "       [ 3.12755676,  2.57715032],\n",
       "       [ 4.25062037,  1.8822307 ],\n",
       "       [ 4.81919992,  4.14921156],\n",
       "       [ 6.02926612,  3.04324119],\n",
       "       [ 4.22551836,  3.81190678],\n",
       "       [ 4.46869613,  3.18405588],\n",
       "       [ 4.84921379,  4.97195569],\n",
       "       [ 3.46077292,  3.65506405],\n",
       "       [ 4.76571576,  6.07804391],\n",
       "       [ 4.17365446,  4.9761739 ],\n",
       "       [ 1.18681855,  4.70151789],\n",
       "       [ 4.74488235,  4.48610944],\n",
       "       [ 5.06226172,  4.48593553],\n",
       "       [ 4.00054594,  5.23165153],\n",
       "       [ 2.77326355,  2.08232922],\n",
       "       [ 2.71823749,  4.21633946],\n",
       "       [ 4.24582229,  4.63962983],\n",
       "       [ 3.608776  ,  3.4340275 ],\n",
       "       [ 4.62418003,  5.51906542],\n",
       "       [ 4.4298665 ,  4.65616488],\n",
       "       [ 4.01536268,  2.24785169],\n",
       "       [ 3.9519335 ,  3.32846322],\n",
       "       [ 4.10843307,  3.11723388],\n",
       "       [ 5.58124722,  3.7713688 ],\n",
       "       [ 4.70394221,  4.2081733 ],\n",
       "       [ 4.50510375,  3.85676404],\n",
       "       [ 3.55645699,  4.47481444],\n",
       "       [ 4.67240753,  5.10724678],\n",
       "       [ 3.08752431,  2.93600664],\n",
       "       [ 6.53446901,  3.74424587],\n",
       "       [ 3.90549655,  3.58591126],\n",
       "       [ 3.8149191 ,  3.93657789],\n",
       "       [ 5.48441525,  4.21194901],\n",
       "       [ 4.05370313,  5.10174772],\n",
       "       [ 5.02480595,  4.76541561],\n",
       "       [ 2.76209584,  4.3096828 ],\n",
       "       [ 4.77721729,  4.62835122],\n",
       "       [ 5.04413579,  4.84256885],\n",
       "       [ 4.43534831,  2.97028815],\n",
       "       [ 2.3757737 ,  4.31088637],\n",
       "       [ 4.31957338,  5.40023095],\n",
       "       [ 2.79236765,  4.6529448 ],\n",
       "       [ 4.72160473,  2.66148457],\n",
       "       [ 2.32882381,  4.63458827],\n",
       "       [ 4.08397001,  4.82896165],\n",
       "       [ 4.82974993,  4.48425617],\n",
       "       [ 2.22977253,  2.74531805],\n",
       "       [ 2.97083249,  5.15337415],\n",
       "       [ 3.88326248,  3.37417798],\n",
       "       [ 3.85911215,  3.92570798],\n",
       "       [ 3.1796771 ,  4.68217475],\n",
       "       [ 3.46703765,  1.83455086],\n",
       "       [ 3.8751907 ,  4.08558542],\n",
       "       [ 4.72898047,  4.52749784],\n",
       "       [ 3.36151606,  3.21473768],\n",
       "       [ 3.81389874,  4.34925314],\n",
       "       [ 4.72943613,  4.4305745 ],\n",
       "       [ 5.87045072,  4.62250996],\n",
       "       [ 3.05388763,  4.88968368],\n",
       "       [ 5.71906835,  5.05550432],\n",
       "       [ 5.63669736,  5.95858343],\n",
       "       [ 4.68547817,  3.46677752],\n",
       "       [ 4.03230181,  4.98338032],\n",
       "       [ 3.33863884,  2.54009557],\n",
       "       [ 3.53734754,  3.61344989],\n",
       "       [ 5.26040888,  3.89487355],\n",
       "       [ 1.62197852,  3.0918368 ],\n",
       "       [ 5.22781232,  5.5850474 ]])"
      ]
     },
     "execution_count": 71,
     "metadata": {},
     "output_type": "execute_result"
    }
   ],
   "source": [
    "dist1"
   ]
  },
  {
   "cell_type": "code",
   "execution_count": 3,
   "metadata": {
    "collapsed": false
   },
   "outputs": [
    {
     "name": "stderr",
     "output_type": "stream",
     "text": [
      "C:\\Users\\Tanish Saxena\\Anaconda3\\lib\\site-packages\\numpy\\core\\numeric.py:301: FutureWarning: in the future, full((500, 1), 1) will return an array of dtype('int32')\n",
      "  format(shape, fill_value, array(fill_value).dtype), FutureWarning)\n",
      "C:\\Users\\Tanish Saxena\\Anaconda3\\lib\\site-packages\\numpy\\core\\numeric.py:301: FutureWarning: in the future, full((500, 1), 2) will return an array of dtype('int32')\n",
      "  format(shape, fill_value, array(fill_value).dtype), FutureWarning)\n"
     ]
    }
   ],
   "source": [
    "ones=np.full((dist1.shape[0],1),1)\n",
    "twos=np.full((dist1.shape[0],1),2)"
   ]
  },
  {
   "cell_type": "code",
   "execution_count": 4,
   "metadata": {
    "collapsed": false
   },
   "outputs": [],
   "source": [
    "cat1=np.hstack([ones,dist1])\n",
    "cat2=np.hstack([twos,dist1])"
   ]
  },
  {
   "cell_type": "code",
   "execution_count": 5,
   "metadata": {
    "collapsed": true
   },
   "outputs": [],
   "source": [
    "dist=np.vstack([cat1,cat2])"
   ]
  },
  {
   "cell_type": "code",
   "execution_count": 72,
   "metadata": {
    "collapsed": false
   },
   "outputs": [
    {
     "data": {
      "text/plain": [
       "<matplotlib.collections.PathCollection at 0x23361bd8898>"
      ]
     },
     "execution_count": 72,
     "metadata": {},
     "output_type": "execute_result"
    },
    {
     "data": {
      "image/png": "[encoded data removed]",
      "text/plain": [
       "<matplotlib.figure.Figure at 0x23361b24c18>"
      ]
     },
     "metadata": {},
     "output_type": "display_data"
    }
   ],
   "source": [
    "plt.scatter(dist[:,1],dist[:,2])"
   ]
  },
  {
   "cell_type": "markdown",
   "metadata": {},
   "source": [
    "# We can use above tactics from sklearn"
   ]
  },
  {
   "cell_type": "code",
   "execution_count": 7,
   "metadata": {
    "collapsed": true
   },
   "outputs": [],
   "source": [
    "from sklearn.datasets import make_blobs"
   ]
  },
  {
   "cell_type": "code",
   "execution_count": 84,
   "metadata": {
    "collapsed": false
   },
   "outputs": [],
   "source": [
    "X,y=make_blobs(n_samples=1000,centers=3,random_state=42)"
   ]
  },
  {
   "cell_type": "code",
   "execution_count": 85,
   "metadata": {
    "collapsed": false
   },
   "outputs": [
    {
     "data": {
      "image/png": "[encoded data removed]",
      "text/plain": [
       "<matplotlib.figure.Figure at 0x23360048e48>"
      ]
     },
     "metadata": {},
     "output_type": "display_data"
    }
   ],
   "source": [
    "plt.scatter(X[:,0],X[:,1],c=y)\n",
    "plt.show()"
   ]
  },
  {
   "cell_type": "code",
   "execution_count": null,
   "metadata": {
    "collapsed": true
   },
   "outputs": [],
   "source": [
    "class KNN:\n",
    "    def __init__(self,k=10): # Initially here when values will not be given \n",
    "        self.X=None\n",
    "        self.y=None\n",
    "        self.k=k\n",
    "    def fit(self,X,y):   # Here it will fit the X & y coordinates\n",
    "        self.X=X\n",
    "        self.y=y\n",
    "    def predict(self,point):\n",
    "        distances=[]\n",
    "        for x_item, y_item in zip(self.X,self.y):\n",
    "            dis=KNN.distance(point,x_item)\n",
    "            distances.append((dis,y_item))\n",
    "        \n",
    "        distances=sorted(distances)\n",
    "        top=np.array(distances[:self.k])\n",
    "        \n",
    "        vals,count=np.unique(top[:,1],return_counts=True)\n",
    "        \n",
    "        return vals[np.argmax(count)]  #Here argmax returns the index position of the unique value from the array\n",
    "    \n",
    "    @classmethod\n",
    "    def distance(cls,p1,p2):  # Here it will count the distance\n",
    "        return np.sum((p1-p2)**2)\n",
    "        "
   ]
  },
  {
   "cell_type": "code",
   "execution_count": 52,
   "metadata": {
    "collapsed": true
   },
   "outputs": [],
   "source": [
    "class KNN:\n",
    "    \n",
    "    def __init__(self, k=10):\n",
    "        self.X = None\n",
    "        self.y = None\n",
    "        self.k = k\n",
    "        \n",
    "    def fit(self, X, y):\n",
    "        self.X = X\n",
    "        self.y = y\n",
    "        \n",
    "    def predict(self, points):\n",
    "        \n",
    "        res = []  #result\n",
    "        \n",
    "        for point in points:\n",
    "            res.append(self.predict_point(point))\n",
    "            \n",
    "        return np.array(res, dtype=int)\n",
    "    \n",
    "    def predict_point(self, point):\n",
    "        distances = []\n",
    "        \n",
    "        for x_item, y_item in zip(self.X, self.y):\n",
    "            dis = KNN.distance(point, x_item)\n",
    "            distances.append((dis, y_item))\n",
    "        \n",
    "        distances = sorted(distances)\n",
    "        top = np.array(distances[:self.k])\n",
    "        \n",
    "        vals, counts = np.unique(top[:, 1], return_counts=True)\n",
    "        \n",
    "        return vals[np.argmax(counts)]\n",
    "    \n",
    "    def accuracy(self, X, y):\n",
    "        return sum(self.predict(X) == y) / len(y)\n",
    "        \n",
    "    @classmethod\n",
    "    def distance(cls, p1, p2):\n",
    "        return np.sum((p1 - p2) ** 2)"
   ]
  },
  {
   "cell_type": "code",
   "execution_count": 53,
   "metadata": {
    "collapsed": true
   },
   "outputs": [],
   "source": [
    "model=KNN(10)"
   ]
  },
  {
   "cell_type": "code",
   "execution_count": 54,
   "metadata": {
    "collapsed": true
   },
   "outputs": [],
   "source": [
    "model.fit(X,y)"
   ]
  },
  {
   "cell_type": "code",
   "execution_count": 55,
   "metadata": {
    "collapsed": false
   },
   "outputs": [
    {
     "data": {
      "text/plain": [
       "array([1, 1])"
      ]
     },
     "execution_count": 55,
     "metadata": {},
     "output_type": "execute_result"
    }
   ],
   "source": [
    "model.predict(X[0])"
   ]
  },
  {
   "cell_type": "code",
   "execution_count": 56,
   "metadata": {
    "collapsed": false
   },
   "outputs": [
    {
     "data": {
      "text/plain": [
       "0"
      ]
     },
     "execution_count": 56,
     "metadata": {},
     "output_type": "execute_result"
    }
   ],
   "source": [
    "y[0]"
   ]
  },
  {
   "cell_type": "code",
   "execution_count": 57,
   "metadata": {
    "collapsed": false
   },
   "outputs": [
    {
     "name": "stdout",
     "output_type": "stream",
     "text": [
      "[1 1]\n",
      "[1 1]\n",
      "[1 1]\n",
      "[1 1]\n",
      "[1 1]\n",
      "[1 1]\n",
      "[1 1]\n",
      "[1 1]\n",
      "[1 1]\n",
      "[1 1]\n"
     ]
    }
   ],
   "source": [
    "for i in range(10):\n",
    "    print(model.predict(X[i]))"
   ]
  },
  {
   "cell_type": "code",
   "execution_count": 58,
   "metadata": {
    "collapsed": false
   },
   "outputs": [
    {
     "data": {
      "text/plain": [
       "array([0, 1, 1, 1, 1, 1, 1, 0, 1, 0])"
      ]
     },
     "execution_count": 58,
     "metadata": {},
     "output_type": "execute_result"
    }
   ],
   "source": [
    "y[:10]"
   ]
  },
  {
   "cell_type": "code",
   "execution_count": null,
   "metadata": {
    "collapsed": true
   },
   "outputs": [],
   "source": []
  },
  {
   "cell_type": "code",
   "execution_count": 59,
   "metadata": {
    "collapsed": false
   },
   "outputs": [],
   "source": [
    "from sklearn.cross_validation import train_test_split"
   ]
  },
  {
   "cell_type": "code",
   "execution_count": null,
   "metadata": {
    "collapsed": true
   },
   "outputs": [],
   "source": []
  },
  {
   "cell_type": "code",
   "execution_count": 60,
   "metadata": {
    "collapsed": true
   },
   "outputs": [],
   "source": [
    "X_train,X_test,y_train,y_test=train_test_split(X,y,test_size=0.33,random_state=42)"
   ]
  },
  {
   "cell_type": "code",
   "execution_count": 61,
   "metadata": {
    "collapsed": true
   },
   "outputs": [],
   "source": [
    "model.fit(X_train,y_train)"
   ]
  },
  {
   "cell_type": "code",
   "execution_count": 62,
   "metadata": {
    "collapsed": false
   },
   "outputs": [
    {
     "name": "stdout",
     "output_type": "stream",
     "text": [
      "[1 1]\n",
      "[1 1]\n",
      "[1 1]\n",
      "[1 1]\n",
      "[1 1]\n",
      "[1 1]\n",
      "[1 1]\n",
      "[1 1]\n",
      "[1 1]\n",
      "[1 1]\n"
     ]
    }
   ],
   "source": [
    "for point in X_test[:10]:\n",
    "    print(model.predict(point))"
   ]
  },
  {
   "cell_type": "code",
   "execution_count": 63,
   "metadata": {
    "collapsed": false
   },
   "outputs": [
    {
     "data": {
      "text/plain": [
       "array([1, 0, 1, 1, 0, 1, 0, 0, 0, 1])"
      ]
     },
     "execution_count": 63,
     "metadata": {},
     "output_type": "execute_result"
    }
   ],
   "source": [
    "y_test[:10]"
   ]
  },
  {
   "cell_type": "code",
   "execution_count": 64,
   "metadata": {
    "collapsed": true
   },
   "outputs": [],
   "source": [
    "from sklearn.neighbors import KNeighborsClassifier"
   ]
  },
  {
   "cell_type": "code",
   "execution_count": 65,
   "metadata": {
    "collapsed": true
   },
   "outputs": [],
   "source": [
    "model=KNeighborsClassifier(10)"
   ]
  },
  {
   "cell_type": "code",
   "execution_count": 66,
   "metadata": {
    "collapsed": false
   },
   "outputs": [
    {
     "data": {
      "text/plain": [
       "KNeighborsClassifier(algorithm='auto', leaf_size=30, metric='minkowski',\n",
       "           metric_params=None, n_jobs=1, n_neighbors=10, p=2,\n",
       "           weights='uniform')"
      ]
     },
     "execution_count": 66,
     "metadata": {},
     "output_type": "execute_result"
    }
   ],
   "source": [
    "model.fit(X_train,y_train)"
   ]
  },
  {
   "cell_type": "code",
   "execution_count": 67,
   "metadata": {
    "collapsed": false
   },
   "outputs": [
    {
     "data": {
      "text/plain": [
       "1.0"
      ]
     },
     "execution_count": 67,
     "metadata": {},
     "output_type": "execute_result"
    }
   ],
   "source": [
    "model.score(X_test,y_test)"
   ]
  },
  {
   "cell_type": "code",
   "execution_count": null,
   "metadata": {
    "collapsed": true
   },
   "outputs": [],
   "source": []
  },
  {
   "cell_type": "code",
   "execution_count": null,
   "metadata": {
    "collapsed": true
   },
   "outputs": [],
   "source": []
  },
  {
   "cell_type": "code",
   "execution_count": null,
   "metadata": {
    "collapsed": true
   },
   "outputs": [],
   "source": []
  }
 ],
 "metadata": {
  "anaconda-cloud": {},
  "kernelspec": {
   "display_name": "Python [default]",
   "language": "python",
   "name": "python3"
  },
  "language_info": {
   "codemirror_mode": {
    "name": "ipython",
    "version": 3
   },
   "file_extension": ".py",
   "mimetype": "text/x-python",
   "name": "python",
   "nbconvert_exporter": "python",
   "pygments_lexer": "ipython3",
   "version": "3.5.2"
  }
 },
 "nbformat": 4,
 "nbformat_minor": 1
}
