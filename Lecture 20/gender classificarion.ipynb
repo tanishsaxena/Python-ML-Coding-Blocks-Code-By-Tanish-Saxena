{
  "nbformat": 4,
  "nbformat_minor": 0,
  "metadata": {
    "colab": {
      "name": "gender classification",
      "version": "0.3.2",
      "provenance": []
    },
    "kernelspec": {
      "name": "python3",
      "display_name": "Python 3"
    }
  },
  "cells": [
    {
      "cell_type": "code",
      "metadata": {
        "id": "9OFIWXwItfkT",
        "colab_type": "code",
        "colab": {}
      },
      "source": [
        "import pandas as pd\n",
        "import numpy as np\n",
        "from sklearn.preprocessing import OneHotEncoder\n",
        "from keras.models import Sequential\n",
        "from keras.layers import Dense,LSTM,Dropout"
      ],
      "execution_count": 0,
      "outputs": []
    },
    {
      "cell_type": "markdown",
      "metadata": {
        "id": "lbch1gkf--3g",
        "colab_type": "text"
      },
      "source": [
        ""
      ]
    },
    {
      "cell_type": "code",
      "metadata": {
        "id": "ozIOxJCtt7dP",
        "colab_type": "code",
        "colab": {}
      },
      "source": [
        "dataM = pd.read_csv(\"Female-Names.csv\")\n",
        "dataF = pd.read_csv(\"Male-Names.csv\")"
      ],
      "execution_count": 0,
      "outputs": []
    },
    {
      "cell_type": "code",
      "metadata": {
        "id": "cTGJPibPx9vy",
        "colab_type": "code",
        "colab": {}
      },
      "source": [
        "df = pd.concat([dataM,dataF])"
      ],
      "execution_count": 0,
      "outputs": []
    },
    {
      "cell_type": "code",
      "metadata": {
        "id": "T5XwYytFyCou",
        "colab_type": "code",
        "colab": {
          "base_uri": "https://localhost:8080/",
          "height": 204
        },
        "outputId": "3d5837d5-1a12-4a8f-e2a4-b9bdd5401002"
      },
      "source": [
        "df.head()"
      ],
      "execution_count": 170,
      "outputs": [
        {
          "output_type": "execute_result",
          "data": {
            "text/html": [
              "<div>\n",
              "<style scoped>\n",
              "    .dataframe tbody tr th:only-of-type {\n",
              "        vertical-align: middle;\n",
              "    }\n",
              "\n",
              "    .dataframe tbody tr th {\n",
              "        vertical-align: top;\n",
              "    }\n",
              "\n",
              "    .dataframe thead th {\n",
              "        text-align: right;\n",
              "    }\n",
              "</style>\n",
              "<table border=\"1\" class=\"dataframe\">\n",
              "  <thead>\n",
              "    <tr style=\"text-align: right;\">\n",
              "      <th></th>\n",
              "      <th>name</th>\n",
              "      <th>gender</th>\n",
              "      <th>race</th>\n",
              "    </tr>\n",
              "  </thead>\n",
              "  <tbody>\n",
              "    <tr>\n",
              "      <th>0</th>\n",
              "      <td>shivani</td>\n",
              "      <td>f</td>\n",
              "      <td>indian</td>\n",
              "    </tr>\n",
              "    <tr>\n",
              "      <th>1</th>\n",
              "      <td>isha</td>\n",
              "      <td>f</td>\n",
              "      <td>indian</td>\n",
              "    </tr>\n",
              "    <tr>\n",
              "      <th>2</th>\n",
              "      <td>smt shyani devi</td>\n",
              "      <td>f</td>\n",
              "      <td>indian</td>\n",
              "    </tr>\n",
              "    <tr>\n",
              "      <th>3</th>\n",
              "      <td>divya</td>\n",
              "      <td>f</td>\n",
              "      <td>indian</td>\n",
              "    </tr>\n",
              "    <tr>\n",
              "      <th>4</th>\n",
              "      <td>mansi</td>\n",
              "      <td>f</td>\n",
              "      <td>indian</td>\n",
              "    </tr>\n",
              "  </tbody>\n",
              "</table>\n",
              "</div>"
            ],
            "text/plain": [
              "              name gender    race\n",
              "0          shivani      f  indian\n",
              "1             isha      f  indian\n",
              "2  smt shyani devi      f  indian\n",
              "3            divya      f  indian\n",
              "4            mansi      f  indian"
            ]
          },
          "metadata": {
            "tags": []
          },
          "execution_count": 170
        }
      ]
    },
    {
      "cell_type": "code",
      "metadata": {
        "id": "SM2ey-5YyFXd",
        "colab_type": "code",
        "colab": {}
      },
      "source": [
        "def should_keep(word):\n",
        "  if(len(word)) > 19:\n",
        "    return False\n",
        "  char_set = [' ', '.', '1', '0', '3', '2', '5', '4', '7', '6', '9', '8', 'END', 'a', 'c', 'b', 'e', 'd', 'g', 'f', 'i', 'h', 'k', 'j', 'm', 'l', 'o', 'n', 'q', 'p', 's', 'r', 'u', 't', 'w', 'v', 'y', 'x', 'z']  \n",
        "  for ch in word:\n",
        "    if ch not in set(char_set):\n",
        "      return False\n",
        "  return True\n",
        "  "
      ],
      "execution_count": 0,
      "outputs": []
    },
    {
      "cell_type": "code",
      "metadata": {
        "id": "PTjC5NpJys9i",
        "colab_type": "code",
        "colab": {}
      },
      "source": [
        "def clean(word):\n",
        "  name = str(word)\n",
        "  name = name.lower()\n",
        "  if should_keep(name):\n",
        "    return name\n",
        "  else:\n",
        "    return None \n",
        "df.name = df.name.apply(lambda word : clean(word))\n",
        "  "
      ],
      "execution_count": 0,
      "outputs": []
    },
    {
      "cell_type": "code",
      "metadata": {
        "id": "3plOwAbCzBMn",
        "colab_type": "code",
        "colab": {
          "base_uri": "https://localhost:8080/",
          "height": 359
        },
        "outputId": "90fd720b-df03-43b0-d88f-6fa7318c8092"
      },
      "source": [
        "df.head(10)"
      ],
      "execution_count": 173,
      "outputs": [
        {
          "output_type": "execute_result",
          "data": {
            "text/html": [
              "<div>\n",
              "<style scoped>\n",
              "    .dataframe tbody tr th:only-of-type {\n",
              "        vertical-align: middle;\n",
              "    }\n",
              "\n",
              "    .dataframe tbody tr th {\n",
              "        vertical-align: top;\n",
              "    }\n",
              "\n",
              "    .dataframe thead th {\n",
              "        text-align: right;\n",
              "    }\n",
              "</style>\n",
              "<table border=\"1\" class=\"dataframe\">\n",
              "  <thead>\n",
              "    <tr style=\"text-align: right;\">\n",
              "      <th></th>\n",
              "      <th>name</th>\n",
              "      <th>gender</th>\n",
              "      <th>race</th>\n",
              "    </tr>\n",
              "  </thead>\n",
              "  <tbody>\n",
              "    <tr>\n",
              "      <th>0</th>\n",
              "      <td>shivani</td>\n",
              "      <td>f</td>\n",
              "      <td>indian</td>\n",
              "    </tr>\n",
              "    <tr>\n",
              "      <th>1</th>\n",
              "      <td>isha</td>\n",
              "      <td>f</td>\n",
              "      <td>indian</td>\n",
              "    </tr>\n",
              "    <tr>\n",
              "      <th>2</th>\n",
              "      <td>smt shyani devi</td>\n",
              "      <td>f</td>\n",
              "      <td>indian</td>\n",
              "    </tr>\n",
              "    <tr>\n",
              "      <th>3</th>\n",
              "      <td>divya</td>\n",
              "      <td>f</td>\n",
              "      <td>indian</td>\n",
              "    </tr>\n",
              "    <tr>\n",
              "      <th>4</th>\n",
              "      <td>mansi</td>\n",
              "      <td>f</td>\n",
              "      <td>indian</td>\n",
              "    </tr>\n",
              "    <tr>\n",
              "      <th>5</th>\n",
              "      <td>mazida</td>\n",
              "      <td>f</td>\n",
              "      <td>indian</td>\n",
              "    </tr>\n",
              "    <tr>\n",
              "      <th>6</th>\n",
              "      <td>pooja</td>\n",
              "      <td>f</td>\n",
              "      <td>indian</td>\n",
              "    </tr>\n",
              "    <tr>\n",
              "      <th>7</th>\n",
              "      <td>kajal</td>\n",
              "      <td>f</td>\n",
              "      <td>indian</td>\n",
              "    </tr>\n",
              "    <tr>\n",
              "      <th>8</th>\n",
              "      <td>meena</td>\n",
              "      <td>f</td>\n",
              "      <td>indian</td>\n",
              "    </tr>\n",
              "    <tr>\n",
              "      <th>9</th>\n",
              "      <td>sonam</td>\n",
              "      <td>f</td>\n",
              "      <td>indian</td>\n",
              "    </tr>\n",
              "  </tbody>\n",
              "</table>\n",
              "</div>"
            ],
            "text/plain": [
              "              name gender    race\n",
              "0          shivani      f  indian\n",
              "1             isha      f  indian\n",
              "2  smt shyani devi      f  indian\n",
              "3            divya      f  indian\n",
              "4            mansi      f  indian\n",
              "5           mazida      f  indian\n",
              "6            pooja      f  indian\n",
              "7            kajal      f  indian\n",
              "8            meena      f  indian\n",
              "9            sonam      f  indian"
            ]
          },
          "metadata": {
            "tags": []
          },
          "execution_count": 173
        }
      ]
    },
    {
      "cell_type": "code",
      "metadata": {
        "id": "2vLCpumazHqY",
        "colab_type": "code",
        "colab": {}
      },
      "source": [
        "df = df.dropna()"
      ],
      "execution_count": 0,
      "outputs": []
    },
    {
      "cell_type": "code",
      "metadata": {
        "id": "2UqOuuSszmNm",
        "colab_type": "code",
        "colab": {}
      },
      "source": [
        "char_set = [' ', '.', '1', '0', '3', '2', '5', '4', '7', '6', '9', '8', 'END', 'a', 'c', 'b', 'e', 'd', 'g', 'f', 'i', 'h', 'k', 'j', 'm', 'l', 'o', 'n', 'q', 'p', 's', 'r', 'u', 't', 'w', 'v', 'y', 'x', 'z']\n",
        "char2idx = {}\n",
        "index = 0\n",
        "for ch in char_set:\n",
        "  char2idx[ch] = index\n",
        "  index+=1"
      ],
      "execution_count": 0,
      "outputs": []
    },
    {
      "cell_type": "code",
      "metadata": {
        "id": "Rl2zBNsLzNTH",
        "colab_type": "code",
        "colab": {}
      },
      "source": [
        "df = df.drop('race',axis=1)\n",
        "vector_length = 39\n",
        "max_word_len = 20\n",
        "words = []\n",
        "labels= []\n",
        "for name,gender in df.itertuples(index=False):\n",
        "  one_hots_word = []\n",
        "  \n",
        "  for ch in name:\n",
        "    vec = np.zeros(vector_length)\n",
        "    vec[char2idx[ch]] = 1\n",
        "    one_hots_word.append(vec)\n",
        "  for _ in range(max_word_len - len(name)):\n",
        "    vec = np.zeros(vector_length)\n",
        "    vec[char2idx['END']] = 1\n",
        "    one_hots_word.append(vec)\n",
        "  one_hots_word = np.array(one_hots_word)\n",
        "  words.append(one_hots_word)\n",
        "  labels.append(gender)"
      ],
      "execution_count": 0,
      "outputs": []
    },
    {
      "cell_type": "code",
      "metadata": {
        "id": "tR2IdXSD2Bar",
        "colab_type": "code",
        "colab": {}
      },
      "source": [
        "words = np.array(words)"
      ],
      "execution_count": 0,
      "outputs": []
    },
    {
      "cell_type": "code",
      "metadata": {
        "id": "O1vkTmD152Ux",
        "colab_type": "code",
        "colab": {
          "base_uri": "https://localhost:8080/",
          "height": 34
        },
        "outputId": "7c5e45fb-96e9-44bd-8f49-06dfb2631ade"
      },
      "source": [
        "words.shape"
      ],
      "execution_count": 178,
      "outputs": [
        {
          "output_type": "execute_result",
          "data": {
            "text/plain": [
              "(28000, 20, 39)"
            ]
          },
          "metadata": {
            "tags": []
          },
          "execution_count": 178
        }
      ]
    },
    {
      "cell_type": "code",
      "metadata": {
        "id": "4M4zOq9z9cXL",
        "colab_type": "code",
        "colab": {
          "base_uri": "https://localhost:8080/",
          "height": 34
        },
        "outputId": "d80cf5a9-05a3-461e-e729-4bb93967bb63"
      },
      "source": [
        "len(labels)"
      ],
      "execution_count": 179,
      "outputs": [
        {
          "output_type": "execute_result",
          "data": {
            "text/plain": [
              "28000"
            ]
          },
          "metadata": {
            "tags": []
          },
          "execution_count": 179
        }
      ]
    },
    {
      "cell_type": "code",
      "metadata": {
        "id": "PCf7fZkG6AJF",
        "colab_type": "code",
        "colab": {}
      },
      "source": [
        "labels = np.array(labels)\n",
        "one = OneHotEncoder()\n",
        "labels_one_hot = one.fit_transform(labels.reshape(-1 , 1)).todense()"
      ],
      "execution_count": 0,
      "outputs": []
    },
    {
      "cell_type": "code",
      "metadata": {
        "id": "iRUh-I656vjc",
        "colab_type": "code",
        "colab": {
          "base_uri": "https://localhost:8080/",
          "height": 272
        },
        "outputId": "c31ffc63-aa2f-4d25-ae19-d25dbb88e49f"
      },
      "source": [
        "model = Sequential()\n",
        "model.add(LSTM(128,input_shape=(20,39),return_sequences=True))\n",
        "model.add(LSTM(120))\n",
        "model.add(Dropout(.3))\n",
        "model.add(Dense(2,activation='softmax'))\n",
        "model.summary()"
      ],
      "execution_count": 181,
      "outputs": [
        {
          "output_type": "stream",
          "text": [
            "_________________________________________________________________\n",
            "Layer (type)                 Output Shape              Param #   \n",
            "=================================================================\n",
            "lstm_15 (LSTM)               (None, 20, 128)           86016     \n",
            "_________________________________________________________________\n",
            "lstm_16 (LSTM)               (None, 120)               119520    \n",
            "_________________________________________________________________\n",
            "dropout_8 (Dropout)          (None, 120)               0         \n",
            "_________________________________________________________________\n",
            "dense_8 (Dense)              (None, 2)                 242       \n",
            "=================================================================\n",
            "Total params: 205,778\n",
            "Trainable params: 205,778\n",
            "Non-trainable params: 0\n",
            "_________________________________________________________________\n"
          ],
          "name": "stdout"
        }
      ]
    },
    {
      "cell_type": "code",
      "metadata": {
        "id": "M1A-5YtN7onq",
        "colab_type": "code",
        "colab": {}
      },
      "source": [
        "model.compile(optimizer=\"adam\",loss=\"categorical_crossentropy\",metrics=[\"accuracy\"])"
      ],
      "execution_count": 0,
      "outputs": []
    },
    {
      "cell_type": "code",
      "metadata": {
        "id": "5SGclnYS8mUX",
        "colab_type": "code",
        "colab": {}
      },
      "source": [
        "from sklearn.model_selection import train_test_split"
      ],
      "execution_count": 0,
      "outputs": []
    },
    {
      "cell_type": "code",
      "metadata": {
        "id": "8R1ZdKbA8uIO",
        "colab_type": "code",
        "colab": {}
      },
      "source": [
        "train_test_split?"
      ],
      "execution_count": 0,
      "outputs": []
    },
    {
      "cell_type": "code",
      "metadata": {
        "id": "7F89xKof8wGP",
        "colab_type": "code",
        "colab": {}
      },
      "source": [
        "X_train, X_test, y_train, y_test = train_test_split(words,labels_one_hot , test_size=0.33, random_state=42)"
      ],
      "execution_count": 0,
      "outputs": []
    },
    {
      "cell_type": "code",
      "metadata": {
        "id": "eqtjuUxy82Sq",
        "colab_type": "code",
        "colab": {
          "base_uri": "https://localhost:8080/",
          "height": 275
        },
        "outputId": "40747313-612c-494d-feac-4319bb375196"
      },
      "source": [
        "model.fit(X_train,y_train,epochs=5)"
      ],
      "execution_count": 186,
      "outputs": [
        {
          "output_type": "stream",
          "text": [
            "W0718 12:17:32.690856 140048109221760 deprecation.py:323] From /usr/local/lib/python3.6/dist-packages/tensorflow/python/ops/math_grad.py:1250: add_dispatch_support.<locals>.wrapper (from tensorflow.python.ops.array_ops) is deprecated and will be removed in a future version.\n",
            "Instructions for updating:\n",
            "Use tf.where in 2.0, which has the same broadcast rule as np.where\n"
          ],
          "name": "stderr"
        },
        {
          "output_type": "stream",
          "text": [
            "Epoch 1/5\n",
            "18760/18760 [==============================] - 42s 2ms/step - loss: 0.4828 - acc: 0.7654\n",
            "Epoch 2/5\n",
            "18760/18760 [==============================] - 40s 2ms/step - loss: 0.3435 - acc: 0.8615\n",
            "Epoch 3/5\n",
            "18760/18760 [==============================] - 40s 2ms/step - loss: 0.2897 - acc: 0.8892\n",
            "Epoch 4/5\n",
            "18760/18760 [==============================] - 40s 2ms/step - loss: 0.2563 - acc: 0.9059\n",
            "Epoch 5/5\n",
            "18760/18760 [==============================] - 40s 2ms/step - loss: 0.2359 - acc: 0.9149\n"
          ],
          "name": "stdout"
        },
        {
          "output_type": "execute_result",
          "data": {
            "text/plain": [
              "<keras.callbacks.History at 0x7f5f35347f28>"
            ]
          },
          "metadata": {
            "tags": []
          },
          "execution_count": 186
        }
      ]
    },
    {
      "cell_type": "code",
      "metadata": {
        "id": "04UIjIrFAvOx",
        "colab_type": "code",
        "colab": {
          "base_uri": "https://localhost:8080/",
          "height": 51
        },
        "outputId": "8b0fcb38-dfe8-4568-cd76-7d0177666639"
      },
      "source": [
        "model.evaluate(X_test,y_test)"
      ],
      "execution_count": 188,
      "outputs": [
        {
          "output_type": "stream",
          "text": [
            "9240/9240 [==============================] - 5s 510us/step\n"
          ],
          "name": "stdout"
        },
        {
          "output_type": "execute_result",
          "data": {
            "text/plain": [
              "[0.2293326390254033, 0.9163419913935971]"
            ]
          },
          "metadata": {
            "tags": []
          },
          "execution_count": 188
        }
      ]
    },
    {
      "cell_type": "code",
      "metadata": {
        "id": "zErypMZCCMpD",
        "colab_type": "code",
        "colab": {}
      },
      "source": [
        "gur = \"gurpreet singh\"\n",
        "gurf = \"gurpreet kaur\"\n"
      ],
      "execution_count": 0,
      "outputs": []
    },
    {
      "cell_type": "code",
      "metadata": {
        "id": "k1FfaC3MC2dP",
        "colab_type": "code",
        "colab": {}
      },
      "source": [
        "cleaned = clean(gur)"
      ],
      "execution_count": 0,
      "outputs": []
    },
    {
      "cell_type": "code",
      "metadata": {
        "id": "9JW6OxR0DD8n",
        "colab_type": "code",
        "colab": {
          "base_uri": "https://localhost:8080/",
          "height": 34
        },
        "outputId": "0b821c56-e3aa-440b-dccb-c4c583ef626c"
      },
      "source": [
        "cleaned"
      ],
      "execution_count": 206,
      "outputs": [
        {
          "output_type": "execute_result",
          "data": {
            "text/plain": [
              "'gurpreet singh'"
            ]
          },
          "metadata": {
            "tags": []
          },
          "execution_count": 206
        }
      ]
    },
    {
      "cell_type": "code",
      "metadata": {
        "id": "jjHCD4M7DKPp",
        "colab_type": "code",
        "colab": {}
      },
      "source": [
        "def word2vec(urname):\n",
        "  char_set = [' ', '.', '1', '0', '3', '2', '5', '4', '7', '6', '9', '8', 'END', 'a', 'c', 'b', 'e', 'd', 'g', 'f', 'i', 'h', 'k', 'j', 'm', 'l', 'o', 'n', 'q', 'p', 's', 'r', 'u', 't', 'w', 'v', 'y', 'x', 'z']\n",
        "  char2idx = {}\n",
        "  index = 0\n",
        "  for ch in char_set:\n",
        "    char2idx[ch] = index\n",
        "    index+=1\n",
        "  vector_length = 39\n",
        "  max_word_len = 20\n",
        "  words =[]\n",
        "  one_hots_word = []\n",
        "  \n",
        "  for ch in urname:\n",
        "    vec = np.zeros(vector_length)\n",
        "    vec[char2idx[ch]] = 1\n",
        "    one_hots_word.append(vec)\n",
        "  for _ in range(max_word_len - len(urname)):\n",
        "    vec = np.zeros(vector_length)\n",
        "    vec[char2idx['END']] = 1\n",
        "    one_hots_word.append(vec)\n",
        "  one_hots_word = np.array(one_hots_word)\n",
        "  \n",
        "  return one_hots_word\n",
        " \n",
        "  "
      ],
      "execution_count": 0,
      "outputs": []
    },
    {
      "cell_type": "code",
      "metadata": {
        "id": "NwC9TxGvEEJP",
        "colab_type": "code",
        "colab": {}
      },
      "source": [
        "cleaned_mat = word2vec(\"gurpreet kaur\")"
      ],
      "execution_count": 0,
      "outputs": []
    },
    {
      "cell_type": "code",
      "metadata": {
        "id": "Ig6_ecG2EPCx",
        "colab_type": "code",
        "colab": {
          "base_uri": "https://localhost:8080/",
          "height": 34
        },
        "outputId": "96627ec2-2aab-4f62-a71c-5d45d49d7d59"
      },
      "source": [
        "cleaned_mat.shape"
      ],
      "execution_count": 243,
      "outputs": [
        {
          "output_type": "execute_result",
          "data": {
            "text/plain": [
              "(20, 39)"
            ]
          },
          "metadata": {
            "tags": []
          },
          "execution_count": 243
        }
      ]
    },
    {
      "cell_type": "code",
      "metadata": {
        "id": "cThwkWeDE7la",
        "colab_type": "code",
        "colab": {}
      },
      "source": [
        "cleaned_mat = cleaned_mat.reshape(1,20,39)"
      ],
      "execution_count": 0,
      "outputs": []
    },
    {
      "cell_type": "code",
      "metadata": {
        "id": "iF_HOgnSE_8y",
        "colab_type": "code",
        "colab": {
          "base_uri": "https://localhost:8080/",
          "height": 34
        },
        "outputId": "eb9d4574-35a9-4ea9-e2c1-5bd01731b565"
      },
      "source": [
        "model.predict(cleaned_mat)"
      ],
      "execution_count": 245,
      "outputs": [
        {
          "output_type": "execute_result",
          "data": {
            "text/plain": [
              "array([[0.9128404 , 0.08715957]], dtype=float32)"
            ]
          },
          "metadata": {
            "tags": []
          },
          "execution_count": 245
        }
      ]
    },
    {
      "cell_type": "code",
      "metadata": {
        "id": "bsYr8dgAFdCj",
        "colab_type": "code",
        "colab": {
          "base_uri": "https://localhost:8080/",
          "height": 34
        },
        "outputId": "f55165ad-291d-4c43-859f-0afdf546112b"
      },
      "source": [
        "np.argmax(model.predict(cleaned_mat))"
      ],
      "execution_count": 246,
      "outputs": [
        {
          "output_type": "execute_result",
          "data": {
            "text/plain": [
              "0"
            ]
          },
          "metadata": {
            "tags": []
          },
          "execution_count": 246
        }
      ]
    },
    {
      "cell_type": "code",
      "metadata": {
        "id": "4D5n7avIFqzI",
        "colab_type": "code",
        "colab": {
          "base_uri": "https://localhost:8080/",
          "height": 34
        },
        "outputId": "7be445f8-9b12-46cf-e84f-81459f8ef5c7"
      },
      "source": [
        "one.categories_"
      ],
      "execution_count": 247,
      "outputs": [
        {
          "output_type": "execute_result",
          "data": {
            "text/plain": [
              "[array(['f', 'm'], dtype='<U1')]"
            ]
          },
          "metadata": {
            "tags": []
          },
          "execution_count": 247
        }
      ]
    },
    {
      "cell_type": "code",
      "metadata": {
        "id": "PbLemqVbFw58",
        "colab_type": "code",
        "colab": {}
      },
      "source": [
        ""
      ],
      "execution_count": 0,
      "outputs": []
    }
  ]
}