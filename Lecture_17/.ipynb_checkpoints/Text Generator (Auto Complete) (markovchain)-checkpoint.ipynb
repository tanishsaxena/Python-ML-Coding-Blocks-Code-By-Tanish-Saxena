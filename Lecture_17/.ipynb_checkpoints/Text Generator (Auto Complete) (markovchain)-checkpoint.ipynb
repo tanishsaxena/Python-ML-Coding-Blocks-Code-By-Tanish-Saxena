{
 "cells": [
  {
   "cell_type": "code",
   "execution_count": 42,
   "metadata": {},
   "outputs": [],
   "source": [
    "text = open(\"speech.txt\",\"r\",encoding=\"utf8\").read()"
   ]
  },
  {
   "cell_type": "code",
   "execution_count": 43,
   "metadata": {},
   "outputs": [],
   "source": [
    "import numpy as np"
   ]
  },
  {
   "cell_type": "code",
   "execution_count": 44,
   "metadata": {},
   "outputs": [],
   "source": [
    "model={}"
   ]
  },
  {
   "cell_type": "code",
   "execution_count": 51,
   "metadata": {},
   "outputs": [],
   "source": [
    "k=7"
   ]
  },
  {
   "cell_type": "code",
   "execution_count": 52,
   "metadata": {},
   "outputs": [],
   "source": [
    "for i in range(len(text)-k):\n",
    "    cut=text[i:i+k]\n",
    "    ch=text[i+k]\n",
    "    if cut not in model:\n",
    "        model[cut]={}\n",
    "    if ch not in model[cut]:\n",
    "        model[cut][ch]=1\n",
    "    else:\n",
    "        model[cut][ch]+=1"
   ]
  },
  {
   "cell_type": "code",
   "execution_count": 53,
   "metadata": {},
   "outputs": [
    {
     "data": {
      "text/plain": [
       "dict"
      ]
     },
     "execution_count": 53,
     "metadata": {},
     "output_type": "execute_result"
    }
   ],
   "source": [
    "type(model[cut])"
   ]
  },
  {
   "cell_type": "code",
   "execution_count": 54,
   "metadata": {},
   "outputs": [],
   "source": [
    "generated=\"This is the purpose\""
   ]
  },
  {
   "cell_type": "code",
   "execution_count": 55,
   "metadata": {},
   "outputs": [],
   "source": [
    "for i in range(1000):\n",
    "    cut=generated[-k:]\n",
    "    freq=model[cut]\n",
    "    freq_list=np.array(list(freq.items()))\n",
    "    #Top three\n",
    "    best_three=np.argsort(freq_list[:,1])[-3:]\n",
    "    #generated random\n",
    "    best=np.random.randint(0,len(best_three),1)[0]\n",
    "    best_ch=freq_list[best,0]\n",
    "    generated+=best_ch"
   ]
  },
  {
   "cell_type": "code",
   "execution_count": 60,
   "metadata": {},
   "outputs": [
    {
     "name": "stdout",
     "output_type": "stream",
     "text": [
      "This is the purpose, is another sign of Sri La (3)\n",
      "We will drive is a relating things, but intangible. We already here. We share it's eyes; Every India wants it. \n",
      "Let no one platform- preferred destination.\n",
      "Recently, made avail\n",
      "of this statues that. Thank you,\n",
      "Thank You!\n",
      "#DELIMITER#\n",
      "7 11 2014, targeting systems try to Mother. \n",
      "Small Islands. We both is\n",
      "that thousand in anything, I think tank to cure the ground and in meeting. India' and if I am mustering this\n",
      "logistics. We watching India.\n",
      "ABP news has serving, but a large segment india pavillion poor people... and them is that of out of hundreds of troops have perform this verses. It inclusivity not exist for talking, the list. \n",
      "• MOODY’s have burnt. I understanding, initially its expertise, dedicates those two in the\n",
      "people’s Partner of Kargil war, each account not judgement summit where technologist till that money.' Organized. One just ask ourselves; and\n",
      "· Not just over-runs. Only minimal area or a separated by various eminent learners, to encouraging\n"
     ]
    }
   ],
   "source": [
    "print(generated)"
   ]
  },
  {
   "cell_type": "code",
   "execution_count": null,
   "metadata": {},
   "outputs": [],
   "source": []
  }
 ],
 "metadata": {
  "kernelspec": {
   "display_name": "Python 3",
   "language": "python",
   "name": "python3"
  },
  "language_info": {
   "codemirror_mode": {
    "name": "ipython",
    "version": 3
   },
   "file_extension": ".py",
   "mimetype": "text/x-python",
   "name": "python",
   "nbconvert_exporter": "python",
   "pygments_lexer": "ipython3",
   "version": "3.7.3"
  }
 },
 "nbformat": 4,
 "nbformat_minor": 2
}
