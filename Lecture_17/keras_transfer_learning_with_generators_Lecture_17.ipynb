{
 "cells": [
  {
   "cell_type": "code",
   "execution_count": 3,
   "metadata": {
    "colab": {
     "base_uri": "https://localhost:8080/",
     "height": 147
    },
    "colab_type": "code",
    "id": "fg2KzAUW9jZa",
    "outputId": "d4b6ad18-b669-4f9f-a3e9-715b6a7550b6"
   },
   "outputs": [
    {
     "name": "stdout",
     "output_type": "stream",
     "text": [
      "Traceback (most recent call last):\n",
      "  File \"/usr/local/bin/kaggle\", line 6, in <module>\n",
      "    from kaggle.cli import main\n",
      "  File \"/usr/local/lib/python2.7/dist-packages/kaggle/__init__.py\", line 23, in <module>\n",
      "    api.authenticate()\n",
      "  File \"/usr/local/lib/python2.7/dist-packages/kaggle/api/kaggle_api_extended.py\", line 146, in authenticate\n",
      "    self.config_file, self.config_dir))\n",
      "IOError: Could not find kaggle.json. Make sure it's located in /root/.kaggle. Or use the environment method.\n"
     ]
    }
   ],
   "source": [
    "! kaggle"
   ]
  },
  {
   "cell_type": "code",
   "execution_count": 0,
   "metadata": {
    "colab": {},
    "colab_type": "code",
    "id": "lglsIQn49jck"
   },
   "outputs": [],
   "source": [
    "! cp kaggle.json  /root/.kaggle/kaggle.json"
   ]
  },
  {
   "cell_type": "code",
   "execution_count": 0,
   "metadata": {
    "colab": {},
    "colab_type": "code",
    "id": "6x902LqM9kZF"
   },
   "outputs": [],
   "source": [
    "! chmod 600 /root/.kaggle/kaggle.json"
   ]
  },
  {
   "cell_type": "code",
   "execution_count": 6,
   "metadata": {
    "colab": {
     "base_uri": "https://localhost:8080/",
     "height": 66
    },
    "colab_type": "code",
    "id": "9jyHW6Zh-Bap",
    "outputId": "7ca5d09e-63d9-4567-852d-44ecbdfad616"
   },
   "outputs": [
    {
     "name": "stdout",
     "output_type": "stream",
     "text": [
      "Downloading 4classimages.zip to /content\n",
      " 57% 11.0M/19.2M [00:00<00:00, 11.7MB/s]\n",
      "100% 19.2M/19.2M [00:00<00:00, 26.4MB/s]\n"
     ]
    }
   ],
   "source": [
    "! kaggle datasets download ellenyusa/4classimages"
   ]
  },
  {
   "cell_type": "code",
   "execution_count": 13,
   "metadata": {
    "colab": {
     "base_uri": "https://localhost:8080/",
     "height": 33
    },
    "colab_type": "code",
    "id": "Ahgs2Twg-BdZ",
    "outputId": "4418271b-9bcc-4058-97b5-e94cf046167a"
   },
   "outputs": [
    {
     "name": "stdout",
     "output_type": "stream",
     "text": [
      "replace data/cats/cat.1.jpg? [y]es, [n]o, [A]ll, [N]one, [r]ename: "
     ]
    }
   ],
   "source": [
    "! unzip -qq 4classimages.zip"
   ]
  },
  {
   "cell_type": "code",
   "execution_count": 8,
   "metadata": {
    "colab": {
     "base_uri": "https://localhost:8080/",
     "height": 33
    },
    "colab_type": "code",
    "id": "z7tbU1FYcZ8T",
    "outputId": "b62f10b6-e865-4581-dd3d-835979c31542"
   },
   "outputs": [
    {
     "name": "stderr",
     "output_type": "stream",
     "text": [
      "Using TensorFlow backend.\n"
     ]
    }
   ],
   "source": [
    "from keras.models import Model\n",
    "from keras.layers import Dense #This is the layer which shows the layer is connected to all previous neuron\n",
    "from keras.layers import Input\n",
    "#from sklearn.datasets import make_circles\n",
    "#from keras.losses import categorical_crossentropy\n",
    "#from sklearn.model_selection import train_test_split\n",
    "import matplotlib.pyplot as plt\n",
    "#from sklearn.preprocessing import OneHotEncoder\n",
    "import pandas as pd\n",
    "import numpy as np\n",
    "from keras.layers import Conv2D, MaxPool2D, Flatten,Dropout,GlobalAveragePooling2D\n",
    "import cv2\n",
    "\n",
    "\n",
    "from keras.preprocessing import image\n",
    "#import matplotlib.pyplot as plt\n",
    "from keras.preprocessing.image import ImageDataGenerator ,image\n",
    "#import numpy as np"
   ]
  },
  {
   "cell_type": "markdown",
   "metadata": {
    "colab_type": "text",
    "id": "lxaV9_CzEUqe"
   },
   "source": [
    "# **Here is the starting**"
   ]
  },
  {
   "cell_type": "markdown",
   "metadata": {
    "colab_type": "text",
    "id": "xWcBmpxUEUnT"
   },
   "source": []
  },
  {
   "cell_type": "code",
   "execution_count": 0,
   "metadata": {
    "colab": {},
    "colab_type": "code",
    "id": "DHbUE9OAl7c5"
   },
   "outputs": [],
   "source": [
    "from keras.applications import ResNet50\n",
    "from keras.applications.resnet50 import preprocess_input"
   ]
  },
  {
   "cell_type": "code",
   "execution_count": 1,
   "metadata": {
    "colab": {
     "base_uri": "https://localhost:8080/",
     "height": 33
    },
    "colab_type": "code",
    "id": "tDhPif8ADiQA",
    "outputId": "5edcf12a-55cf-44dc-9495-fa7c542129b3"
   },
   "outputs": [
    {
     "ename": "NameError",
     "evalue": "name 'ImageDataGenerator' is not defined",
     "output_type": "error",
     "traceback": [
      "\u001b[1;31m---------------------------------------------------------------------------\u001b[0m",
      "\u001b[1;31mNameError\u001b[0m                                 Traceback (most recent call last)",
      "\u001b[1;32m<ipython-input-1-eb55772c1ce3>\u001b[0m in \u001b[0;36m<module>\u001b[1;34m\u001b[0m\n\u001b[1;32m----> 1\u001b[1;33m \u001b[0mtrain_datagen\u001b[0m\u001b[1;33m=\u001b[0m\u001b[0mImageDataGenerator\u001b[0m\u001b[1;33m(\u001b[0m\u001b[0mhorizontal_flip\u001b[0m\u001b[1;33m=\u001b[0m\u001b[1;32mTrue\u001b[0m\u001b[1;33m,\u001b[0m\u001b[0mshear_range\u001b[0m\u001b[1;33m=\u001b[0m\u001b[1;36m.2\u001b[0m\u001b[1;33m,\u001b[0m\u001b[0mrotation_range\u001b[0m\u001b[1;33m=\u001b[0m\u001b[1;36m10\u001b[0m\u001b[1;33m)\u001b[0m\u001b[1;33m\u001b[0m\u001b[1;33m\u001b[0m\u001b[0m\n\u001b[0m\u001b[0;32m      2\u001b[0m \u001b[0mtrain_generator\u001b[0m\u001b[1;33m=\u001b[0m\u001b[0mtrain_datagen\u001b[0m\u001b[1;33m.\u001b[0m\u001b[0mflow_from_directory\u001b[0m\u001b[1;33m(\u001b[0m\u001b[0mdirectory\u001b[0m\u001b[1;33m=\u001b[0m\u001b[1;34m'data/'\u001b[0m\u001b[1;33m,\u001b[0m\u001b[0mtarget_size\u001b[0m\u001b[1;33m=\u001b[0m\u001b[1;33m(\u001b[0m\u001b[1;36m256\u001b[0m\u001b[1;33m,\u001b[0m\u001b[1;36m256\u001b[0m\u001b[1;33m)\u001b[0m\u001b[1;33m)\u001b[0m\u001b[1;33m\u001b[0m\u001b[1;33m\u001b[0m\u001b[0m\n",
      "\u001b[1;31mNameError\u001b[0m: name 'ImageDataGenerator' is not defined"
     ]
    }
   ],
   "source": [
    "train_datagen=ImageDataGenerator(horizontal_flip=True,shear_range=.2,rotation_range=10)\n",
    "train_generator=train_datagen.flow_from_directory(directory='data/',target_size=(256,256))"
   ]
  },
  {
   "cell_type": "code",
   "execution_count": 17,
   "metadata": {
    "colab": {
     "base_uri": "https://localhost:8080/",
     "height": 33
    },
    "colab_type": "code",
    "id": "kSBKCCUDwfJ8",
    "outputId": "0b577a21-2db6-4b88-a083-1ffab0fe2846"
   },
   "outputs": [
    {
     "data": {
      "text/plain": [
       "{'Humans': 0, 'cats': 1, 'dogs': 2, 'horses': 3}"
      ]
     },
     "execution_count": 17,
     "metadata": {
      "tags": []
     },
     "output_type": "execute_result"
    }
   ],
   "source": [
    "train_generator.class_indices"
   ]
  },
  {
   "cell_type": "code",
   "execution_count": 37,
   "metadata": {
    "colab": {
     "base_uri": "https://localhost:8080/",
     "height": 70
    },
    "colab_type": "code",
    "id": "cCDv-V__CvUS",
    "outputId": "d8551031-392d-4441-f84f-02afac35bad0"
   },
   "outputs": [
    {
     "name": "stderr",
     "output_type": "stream",
     "text": [
      "/usr/local/lib/python3.6/dist-packages/keras_applications/resnet50.py:265: UserWarning: The output shape of `ResNet50(include_top=False)` has been changed since Keras 2.2.0.\n",
      "  warnings.warn('The output shape of `ResNet50(include_top=False)` '\n"
     ]
    }
   ],
   "source": [
    "base_model=ResNet50(weights='imagenet',input_shape=(256,256,3),include_top=False,classes=len(train_generator.class_indices)) #input_shape has to be given to make it generalised for our input images\n",
    "\n",
    "x=base_model.output\n",
    "\n",
    "layer_1=Flatten()(x)  # we can use avgpool or maxpool depends which we want to do and it can used to give better acc\n",
    "\n",
    "layer_2=Dense(200,activation='tanh')(layer_1)\n",
    "layer_3=Dense(100,activation='tanh')(layer_2)\n",
    "layer_4=Dense(50,activation='tanh')(layer_3)\n",
    "preds=Dense(len(train_generator.class_indices),activation='softmax')(layer_4) "
   ]
  },
  {
   "cell_type": "code",
   "execution_count": 0,
   "metadata": {
    "colab": {},
    "colab_type": "code",
    "id": "5RSlsCx4DH1i"
   },
   "outputs": [],
   "source": [
    "model=Model(inputs=base_model.input,outputs=preds)"
   ]
  },
  {
   "cell_type": "code",
   "execution_count": 0,
   "metadata": {
    "colab": {},
    "colab_type": "code",
    "id": "xEFj4GqgiK3J"
   },
   "outputs": [],
   "source": [
    "# model.summary()"
   ]
  },
  {
   "cell_type": "code",
   "execution_count": 40,
   "metadata": {
    "colab": {
     "base_uri": "https://localhost:8080/",
     "height": 33
    },
    "colab_type": "code",
    "id": "717FtkObW3pe",
    "outputId": "90bfc020-ed7d-48fe-9e9f-9742373fc9ae"
   },
   "outputs": [
    {
     "data": {
      "text/plain": [
       "180"
      ]
     },
     "execution_count": 40,
     "metadata": {
      "tags": []
     },
     "output_type": "execute_result"
    }
   ],
   "source": [
    "len(model.layers)"
   ]
  },
  {
   "cell_type": "code",
   "execution_count": 0,
   "metadata": {
    "colab": {},
    "colab_type": "code",
    "id": "H9y43HsdDqEW"
   },
   "outputs": [],
   "source": [
    "for layer in model.layers[:176]:\n",
    "    layer.trainable=False\n",
    "for layer in model.layers[176:]:\n",
    "    layer.trainable=True"
   ]
  },
  {
   "cell_type": "code",
   "execution_count": 0,
   "metadata": {
    "colab": {},
    "colab_type": "code",
    "id": "e6I7N8quEOYo"
   },
   "outputs": [],
   "source": [
    "model.compile(optimizer='Adam',loss='categorical_crossentropy',metrics=['accuracy'])"
   ]
  },
  {
   "cell_type": "code",
   "execution_count": 43,
   "metadata": {
    "colab": {
     "base_uri": "https://localhost:8080/",
     "height": 196
    },
    "colab_type": "code",
    "id": "1mfoq4kMETBg",
    "outputId": "01710155-3537-4a12-9677-187b077f0d2d"
   },
   "outputs": [
    {
     "name": "stdout",
     "output_type": "stream",
     "text": [
      "Epoch 1/5\n",
      "10/10 [==============================] - 11s 1s/step - loss: 1.1750 - acc: 0.5938\n",
      "Epoch 2/5\n",
      "10/10 [==============================] - 3s 289ms/step - loss: 0.4633 - acc: 0.8656\n",
      "Epoch 3/5\n",
      "10/10 [==============================] - 4s 416ms/step - loss: 0.2752 - acc: 0.9159\n",
      "Epoch 4/5\n",
      "10/10 [==============================] - 4s 449ms/step - loss: 0.2680 - acc: 0.9062\n",
      "Epoch 5/5\n",
      "10/10 [==============================] - 4s 418ms/step - loss: 0.1410 - acc: 0.9685\n"
     ]
    },
    {
     "data": {
      "text/plain": [
       "<keras.callbacks.History at 0x7fd0e67349b0>"
      ]
     },
     "execution_count": 43,
     "metadata": {
      "tags": []
     },
     "output_type": "execute_result"
    }
   ],
   "source": [
    "#step_size_train=train_generator.samples//train_generator.batch_size\n",
    "model.fit_generator(generator=train_generator,\n",
    "                   steps_per_epoch=10,\n",
    "                   epochs=5)\n"
   ]
  },
  {
   "cell_type": "code",
   "execution_count": 44,
   "metadata": {
    "colab": {
     "base_uri": "https://localhost:8080/",
     "height": 33
    },
    "colab_type": "code",
    "id": "Ga-QHkTrI2hW",
    "outputId": "a97aff32-f1b7-4590-e1eb-ccca5c8bec15"
   },
   "outputs": [
    {
     "data": {
      "text/plain": [
       "[0.13678613305091858, 0.96875]"
      ]
     },
     "execution_count": 44,
     "metadata": {
      "tags": []
     },
     "output_type": "execute_result"
    }
   ],
   "source": [
    "model.evaluate_generator(train_generator,steps=10)"
   ]
  },
  {
   "cell_type": "markdown",
   "metadata": {
    "colab_type": "text",
    "id": "YHR7VjhT3Hez"
   },
   "source": [
    "# **Now this is the end of transfer learning on resnet**"
   ]
  },
  {
   "cell_type": "code",
   "execution_count": 0,
   "metadata": {
    "colab": {},
    "colab_type": "code",
    "id": "gQjgo2OhJy5h"
   },
   "outputs": [],
   "source": [
    "images_,values_=train_generator.next()"
   ]
  },
  {
   "cell_type": "code",
   "execution_count": 0,
   "metadata": {
    "colab": {
     "base_uri": "https://localhost:8080/",
     "height": 561
    },
    "colab_type": "code",
    "id": "J7GXWHPkK8P7",
    "outputId": "990d4de4-171c-40dc-c4fb-ac6d9884b851"
   },
   "outputs": [
    {
     "name": "stdout",
     "output_type": "stream",
     "text": [
      "horses\n",
      "Humans\n",
      "cats\n",
      "cats\n",
      "cats\n",
      "horses\n",
      "Humans\n",
      "dogs\n",
      "cats\n",
      "cats\n",
      "Humans\n",
      "cats\n",
      "cats\n",
      "horses\n",
      "Humans\n",
      "horses\n",
      "Humans\n",
      "cats\n",
      "cats\n",
      "dogs\n",
      "horses\n",
      "cats\n",
      "horses\n",
      "dogs\n",
      "Humans\n",
      "horses\n",
      "horses\n",
      "Humans\n",
      "Humans\n",
      "horses\n",
      "Humans\n",
      "Humans\n"
     ]
    }
   ],
   "source": [
    "for i in list(np.argmax(model.predict(images_,batch_size=20),axis=1)):\n",
    "  print(category_dict[i]) "
   ]
  },
  {
   "cell_type": "code",
   "execution_count": 0,
   "metadata": {
    "colab": {
     "base_uri": "https://localhost:8080/",
     "height": 51
    },
    "colab_type": "code",
    "id": "ev9SKnGkMX_v",
    "outputId": "4099c66f-fa6d-45bf-f377-725417ea105e"
   },
   "outputs": [
    {
     "name": "stdout",
     "output_type": "stream",
     "text": [
      "\r",
      "32/32 [==============================] - 4s 118ms/step\n"
     ]
    },
    {
     "data": {
      "text/plain": [
       "[0.04905354231595993, 0.96875]"
      ]
     },
     "execution_count": 208,
     "metadata": {
      "tags": []
     },
     "output_type": "execute_result"
    }
   ],
   "source": [
    "model.evaluate(images_,values_)"
   ]
  },
  {
   "cell_type": "markdown",
   "metadata": {
    "colab_type": "text",
    "id": "PVlR76_N5VDV"
   },
   "source": [
    "# **Here is the end of project self testing**"
   ]
  },
  {
   "cell_type": "markdown",
   "metadata": {
    "colab_type": "text",
    "id": "TEoTzfCr5U9e"
   },
   "source": []
  },
  {
   "cell_type": "code",
   "execution_count": 0,
   "metadata": {
    "colab": {},
    "colab_type": "code",
    "id": "uJPOSmFx3mTs"
   },
   "outputs": [],
   "source": []
  },
  {
   "cell_type": "markdown",
   "metadata": {
    "colab_type": "text",
    "id": "h9CJVSLy5U6G"
   },
   "source": []
  },
  {
   "cell_type": "code",
   "execution_count": 0,
   "metadata": {
    "colab": {},
    "colab_type": "code",
    "id": "qp2BwSoQMGCi"
   },
   "outputs": [],
   "source": [
    "# for image in images_:\n",
    "#   plt.figure()\n",
    "#   plt.imshow(image)"
   ]
  },
  {
   "cell_type": "code",
   "execution_count": 0,
   "metadata": {
    "colab": {},
    "colab_type": "code",
    "id": "5Wbc2mOGfzFz"
   },
   "outputs": [],
   "source": []
  },
  {
   "cell_type": "code",
   "execution_count": 0,
   "metadata": {
    "colab": {},
    "colab_type": "code",
    "id": "gUC6s2AMLXwP"
   },
   "outputs": [],
   "source": [
    "category_dict = dict([(value, key) for key, value in (train_generator.class_indices).items()]) "
   ]
  },
  {
   "cell_type": "code",
   "execution_count": 0,
   "metadata": {
    "colab": {},
    "colab_type": "code",
    "id": "y78Y9KQbjNBP"
   },
   "outputs": [],
   "source": []
  },
  {
   "cell_type": "code",
   "execution_count": 0,
   "metadata": {
    "colab": {
     "base_uri": "https://localhost:8080/",
     "height": 286
    },
    "colab_type": "code",
    "id": "mywS1DEpLwvj",
    "outputId": "4e429953-0e17-4e07-85cb-2fd21d0ed889"
   },
   "outputs": [
    {
     "data": {
      "text/plain": [
       "'horses'"
      ]
     },
     "execution_count": 136,
     "metadata": {
      "tags": []
     },
     "output_type": "execute_result"
    },
    {
     "data": {
      "image/png": "[encoded data removed]",
      "text/plain": [
       "<Figure size 432x288 with 1 Axes>"
      ]
     },
     "metadata": {
      "tags": []
     },
     "output_type": "display_data"
    }
   ],
   "source": [
    "import cv2\n",
    "animal=cv2.imread(\"horse.jpg\")\n",
    "plt.imshow(animal)\n",
    "animal=animal.reshape(-1,animal.shape[0],animal.shape[1],animal.shape[2])\n",
    "category_dict[list(np.argmax(model.predict(animal,batch_size=20),axis=1))[0]]\n",
    "  "
   ]
  },
  {
   "cell_type": "code",
   "execution_count": 0,
   "metadata": {
    "colab": {},
    "colab_type": "code",
    "id": "krpDmW28ddnL"
   },
   "outputs": [],
   "source": [
    "datagen=ImageDataGenerator(horizontal_flip=True,\n",
    "                           vertical_flip=True,\n",
    "                          zoom_range=2,\n",
    "                          rotation_range=20,\n",
    "                          shear_range=.3)\n"
   ]
  },
  {
   "cell_type": "code",
   "execution_count": 0,
   "metadata": {
    "colab": {},
    "colab_type": "code",
    "id": "g14j4N0bmjSa"
   },
   "outputs": [],
   "source": [
    "#animal=animal.reshape(-1,animal.shape[1],animal.shape[2],animal.shape[3])"
   ]
  },
  {
   "cell_type": "code",
   "execution_count": 0,
   "metadata": {
    "colab": {},
    "colab_type": "code",
    "id": "oTtjeDyTjdqS"
   },
   "outputs": [],
   "source": [
    "gen=datagen.flow(animal)"
   ]
  },
  {
   "cell_type": "code",
   "execution_count": 0,
   "metadata": {
    "colab": {},
    "colab_type": "code",
    "id": "RtO36zioj_LS"
   },
   "outputs": [],
   "source": [
    "l=[]\n",
    "for i in range(100):\n",
    "    animal_images=gen.next()\n",
    "    l.append(animal_images)"
   ]
  },
  {
   "cell_type": "code",
   "execution_count": 0,
   "metadata": {
    "colab": {},
    "colab_type": "code",
    "id": "pgWQexcson61"
   },
   "outputs": [],
   "source": [
    "l=np.array(l)"
   ]
  },
  {
   "cell_type": "code",
   "execution_count": 0,
   "metadata": {
    "colab": {
     "base_uri": "https://localhost:8080/",
     "height": 34
    },
    "colab_type": "code",
    "id": "Xr836RvZrZEl",
    "outputId": "624917db-afc7-46e2-fe2d-e97b35566c28"
   },
   "outputs": [
    {
     "data": {
      "text/plain": [
       "(100, 1, 400, 450, 3)"
      ]
     },
     "execution_count": 176,
     "metadata": {
      "tags": []
     },
     "output_type": "execute_result"
    }
   ],
   "source": [
    "l.shape"
   ]
  },
  {
   "cell_type": "code",
   "execution_count": 0,
   "metadata": {
    "colab": {
     "base_uri": "https://localhost:8080/",
     "height": 214
    },
    "colab_type": "code",
    "id": "r2uZfB1hpnzH",
    "outputId": "eeadd016-5c97-4f75-c210-5bef2f786b16"
   },
   "outputs": [
    {
     "ename": "TypeError",
     "evalue": "ignored",
     "output_type": "error",
     "traceback": [
      "\u001b[0;31m---------------------------------------------------------------------------\u001b[0m",
      "\u001b[0;31mTypeError\u001b[0m                                 Traceback (most recent call last)",
      "\u001b[0;32m<ipython-input-178-0c7388b21949>\u001b[0m in \u001b[0;36m<module>\u001b[0;34m()\u001b[0m\n\u001b[1;32m      1\u001b[0m \u001b[0;32mfor\u001b[0m \u001b[0mi\u001b[0m \u001b[0;32min\u001b[0m \u001b[0mrange\u001b[0m\u001b[0;34m(\u001b[0m\u001b[0ml\u001b[0m\u001b[0;34m.\u001b[0m\u001b[0mshape\u001b[0m\u001b[0;34m[\u001b[0m\u001b[0;36m0\u001b[0m\u001b[0;34m]\u001b[0m\u001b[0;34m)\u001b[0m\u001b[0;34m:\u001b[0m\u001b[0;34m\u001b[0m\u001b[0;34m\u001b[0m\u001b[0m\n\u001b[0;32m----> 2\u001b[0;31m   \u001b[0mj\u001b[0m\u001b[0;34m=\u001b[0m\u001b[0ml\u001b[0m\u001b[0;34m[\u001b[0m\u001b[0;36m0\u001b[0m\u001b[0;34m]\u001b[0m\u001b[0;34m.\u001b[0m\u001b[0mreshape\u001b[0m\u001b[0;34m(\u001b[0m\u001b[0ml\u001b[0m\u001b[0;34m[\u001b[0m\u001b[0;36m0\u001b[0m\u001b[0;34m]\u001b[0m\u001b[0;34m.\u001b[0m\u001b[0mshape\u001b[0m\u001b[0;34m[\u001b[0m\u001b[0;36m1\u001b[0m\u001b[0;34m]\u001b[0m\u001b[0;34m,\u001b[0m\u001b[0ml\u001b[0m\u001b[0;34m[\u001b[0m\u001b[0;36m0\u001b[0m\u001b[0;34m]\u001b[0m\u001b[0;34m.\u001b[0m\u001b[0mshape\u001b[0m\u001b[0;34m(\u001b[0m\u001b[0;36m2\u001b[0m\u001b[0;34m)\u001b[0m\u001b[0;34m,\u001b[0m\u001b[0;36m3\u001b[0m\u001b[0;34m)\u001b[0m\u001b[0;34m\u001b[0m\u001b[0;34m\u001b[0m\u001b[0m\n\u001b[0m\u001b[1;32m      3\u001b[0m   \u001b[0mplt\u001b[0m\u001b[0;34m.\u001b[0m\u001b[0mfigure\u001b[0m\u001b[0;34m(\u001b[0m\u001b[0;34m)\u001b[0m\u001b[0;34m\u001b[0m\u001b[0;34m\u001b[0m\u001b[0m\n\u001b[1;32m      4\u001b[0m   \u001b[0mplt\u001b[0m\u001b[0;34m.\u001b[0m\u001b[0mimshow\u001b[0m\u001b[0;34m(\u001b[0m\u001b[0mj\u001b[0m\u001b[0;34m)\u001b[0m\u001b[0;34m\u001b[0m\u001b[0;34m\u001b[0m\u001b[0m\n",
      "\u001b[0;31mTypeError\u001b[0m: 'tuple' object is not callable"
     ]
    }
   ],
   "source": [
    "for i in range(l.shape[0]):\n",
    "  j=l[0].reshape(l[0].shape[1],l[0].shape(2),3)\n",
    "  plt.figure()\n",
    "  plt.imshow(j)"
   ]
  },
  {
   "cell_type": "code",
   "execution_count": 0,
   "metadata": {
    "colab": {},
    "colab_type": "code",
    "id": "0Za5wi8apn2C"
   },
   "outputs": [],
   "source": []
  },
  {
   "cell_type": "code",
   "execution_count": 0,
   "metadata": {
    "colab": {
     "base_uri": "https://localhost:8080/",
     "height": 34
    },
    "colab_type": "code",
    "id": "hZyHTZLyk_o9",
    "outputId": "61026ec3-1976-47be-b74a-a6c18a4c49ce"
   },
   "outputs": [
    {
     "data": {
      "text/plain": [
       "(1, 400, 450, 3)"
      ]
     },
     "execution_count": 141,
     "metadata": {
      "tags": []
     },
     "output_type": "execute_result"
    }
   ],
   "source": [
    "animal_images.reshape(-1,animal_images.shape[1],animal_images.shape[2],animal_images.shape[3])"
   ]
  },
  {
   "cell_type": "code",
   "execution_count": 0,
   "metadata": {
    "colab": {
     "base_uri": "https://localhost:8080/",
     "height": 1000
    },
    "colab_type": "code",
    "id": "QLXNmV8md6di",
    "outputId": "f2ebecf9-a2ad-4005-a94f-81e13e419519"
   },
   "outputs": [
    {
     "name": "stdout",
     "output_type": "stream",
     "text": [
      "horses\n",
      "cats\n",
      "cats\n",
      "cats\n",
      "cats\n",
      "cats\n",
      "cats\n",
      "horses\n",
      "cats\n",
      "cats\n",
      "cats\n",
      "cats\n",
      "horses\n",
      "cats\n",
      "cats\n",
      "horses\n",
      "Humans\n",
      "horses\n",
      "horses\n",
      "horses\n",
      "cats\n",
      "cats\n",
      "cats\n",
      "Humans\n",
      "cats\n",
      "horses\n",
      "horses\n",
      "cats\n",
      "cats\n",
      "cats\n",
      "horses\n",
      "horses\n",
      "horses\n",
      "cats\n",
      "cats\n",
      "cats\n",
      "cats\n",
      "cats\n",
      "cats\n",
      "cats\n",
      "horses\n",
      "Humans\n",
      "cats\n",
      "horses\n",
      "cats\n",
      "cats\n",
      "cats\n",
      "horses\n",
      "cats\n",
      "cats\n",
      "horses\n",
      "Humans\n",
      "horses\n",
      "cats\n",
      "horses\n",
      "cats\n",
      "cats\n",
      "cats\n",
      "cats\n",
      "cats\n",
      "horses\n",
      "cats\n",
      "horses\n",
      "cats\n",
      "cats\n",
      "cats\n",
      "cats\n",
      "cats\n",
      "Humans\n",
      "cats\n",
      "horses\n",
      "Humans\n",
      "cats\n",
      "horses\n",
      "Humans\n",
      "cats\n",
      "cats\n",
      "Humans\n",
      "cats\n",
      "cats\n",
      "cats\n",
      "horses\n",
      "cats\n",
      "cats\n",
      "cats\n",
      "cats\n",
      "cats\n",
      "cats\n",
      "horses\n",
      "Humans\n",
      "cats\n",
      "cats\n",
      "cats\n",
      "cats\n",
      "cats\n",
      "horses\n",
      "horses\n",
      "cats\n",
      "cats\n",
      "cats\n"
     ]
    }
   ],
   "source": [
    "for i in list(np.argmax(model.predict(l,batch_size=20),axis=1)):\n",
    "  print(category_dict[i]) "
   ]
  },
  {
   "cell_type": "code",
   "execution_count": 0,
   "metadata": {
    "colab": {},
    "colab_type": "code",
    "id": "qXuVN8e4j1oL"
   },
   "outputs": [],
   "source": []
  }
 ],
 "metadata": {
  "accelerator": "GPU",
  "colab": {
   "collapsed_sections": [],
   "name": "keras transfer learning with generators Lecture 17.ipynb",
   "provenance": [],
   "toc_visible": true,
   "version": "0.3.2"
  },
  "kernelspec": {
   "display_name": "Python 3",
   "language": "python",
   "name": "python3"
  },
  "language_info": {
   "codemirror_mode": {
    "name": "ipython",
    "version": 3
   },
   "file_extension": ".py",
   "mimetype": "text/x-python",
   "name": "python",
   "nbconvert_exporter": "python",
   "pygments_lexer": "ipython3",
   "version": "3.7.3"
  }
 },
 "nbformat": 4,
 "nbformat_minor": 1
}
