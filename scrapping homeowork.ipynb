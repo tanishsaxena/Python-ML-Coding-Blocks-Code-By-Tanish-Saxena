{
 "cells": [
  {
   "cell_type": "code",
   "execution_count": 1,
   "metadata": {},
   "outputs": [],
   "source": [
    "from bs4 import BeautifulSoup\n",
    "import json\n",
    "import requests"
   ]
  },
  {
   "cell_type": "code",
   "execution_count": 2,
   "metadata": {},
   "outputs": [],
   "source": [
    "def process(content):\n",
    "    quotess=[]\n",
    "    soup=BeautifulSoup(content)\n",
    "    quotes_div=soup.find_all(\"div\",attrs={\"class\":\"quote\"})\n",
    "    for div in quotes_div:\n",
    "        qtext=div.find(\"div\",attrs={\"class\":\"quoteText\"})\n",
    "        quote=qtext.text.strip().split(\"\\n\")[0]\n",
    "        author=qtext.find(\"span\",attrs={\"class\":\"authorOrTitle\"}).text.strip()\n",
    "        quotes={\"quote\":quote, \"author\":author}\n",
    "        quotess.append(quotes)\n",
    "    return quotess"
   ]
  },
  {
   "cell_type": "code",
   "execution_count": 3,
   "metadata": {},
   "outputs": [
    {
     "name": "stdout",
     "output_type": "stream",
     "text": [
      "[{'quote': '“Because God is never cruel, there is a reason for all things. We must know the pain of loss; because if we never knew it, we would have no compassion for others, and we would become monsters of self-regard, creatures of unalloyed self-interest. The terrible pain of loss teaches humility to our prideful kind, has the power to soften uncaring hearts, to make a better person of a good one.”', 'author': 'Dean Koontz,'}, {'quote': \"“I see in the fight club the strongest and smartest men who've ever lived. I see all this potential and I see squandering. God damn it, an entire generation pumping gas, waiting tables, slaves with white collars, advertising has us chasing cars and clothes, working jobs we hate so we can buy shit we don't need. We're the middle children of the history man, no purpose or place, we have no Great war, no Great depression, our great war is a spiritual war, our great depression is our lives, we've been all raised by television to believe that one day we'd all be millionaires and movie gods and rock stars, but we won't and we're slowly learning that fact. and we're very very pissed off.”\", 'author': 'Chuck Palahniuk,'}, {'quote': '“Let us never forget to pray. God lives. He is near. He is real. He is not only aware of us but cares for us. He is our Father. He is accessible to all who will seek Him.”', 'author': 'Gordon B. Hinckley,'}, {'quote': \"“If there were such a thing as terminal literalism, you'd have died in childhood.”\", 'author': 'Cassandra Clare,'}, {'quote': '“We know that God is everywhere; but certainly we feel His presence most when His works are on the grandest scale spread before us; and it is in the unclouded night-sky, where His worlds wheel their silent course, that we read clearest His infinitude, His omnipotence, His omnipresence.”', 'author': 'Charlotte Brontë,'}, {'quote': '“Listen to God with a broken heart. He is not only the doctor who mends it, but also the father who wipes away the tears.”', 'author': 'Criss Jami'}, {'quote': \"“God answers all prayers, but sometimes his answer is 'no'.”\", 'author': 'Dan Brown,'}, {'quote': '“When one person suffers from a delusion, it is called insanity. When many people suffer from a delusion it is called a Religion.”', 'author': 'Robert M. Pirsig,'}, {'quote': '“His hands are holding my cheeks, and he pulls back just to look me in the eye and his chest is heaving and he says, \"I think,\" he says, \"my heart is going to explode,\" and I wish, more than ever, that I knew how to capture moments like these and revisit them forever. Because this.This is everything.”', 'author': 'Tahereh Mafi,'}, {'quote': '“I do not feel obliged to believe that the same God who has endowed us with sense, reason, and intellect has intended us to forgo their use.”', 'author': 'Galileo Galilei,'}, {'quote': '“No man can be called friendless who has God and the companionship of good books.”', 'author': 'Elizabeth Barrett Browning'}, {'quote': \"“I want a life that sizzles and pops and makes me laugh out loud. And I don't want to get to the end, or to tomorrow, even, and realize that my life is a collection of meetings and pop cans and errands and receipts and dirty dishes. I want to eat cold tangerines and sing out loud in the car with the windows open and wear pink shoes and stay up all night laughing and paint my walls the exact color of the sky right now. I want to sleep hard on clean white sheets and throw parties and eat ripe tomatoes and read books so good they make me jump up and down, and I want my everyday to make God belly laugh, glad that he gave life to someone who loves the gift.”\", 'author': 'Shauna Niequist,'}, {'quote': '“Safe?” said Mr. Beaver; “don’t you hear what Mrs. Beaver tells you? Who said anything about safe? ‘Course he isn’t safe. But he’s good. He’s the King, I tell you.”', 'author': 'C.S. Lewis,'}, {'quote': '“And if there were a God, I think it very unlikely that He would have such an uneasy vanity as to be offended by those who doubt His existence”', 'author': 'Bertrand Russell'}, {'quote': '“Whether or not you believe in God, you must believe this: when we as a species abandon our trust in a power greater than us, we abandon our sense of accountability. Faiths… all faiths… are admonitions that there is something we cannot understand, something to which we are accountable. With faith we are accountable to each other, to ourselves, and to a higher truth. Religion is flawed, but only because man is flawed. The church consists of a brotherhood of imperfect, simple souls wanting only to be a voice of compassion in a world spinning out of control.”', 'author': 'Dan Brown,'}, {'quote': \"“What you are is God's gift to you, what you become is your gift to God.”\", 'author': 'Hans Urs von Balthasar,'}, {'quote': \"“God's Final Message to His Creation:'We apologize for the inconvenience.”\", 'author': 'Douglas Adams,'}, {'quote': '“God is a circle whose center is everywhere and circumference nowhere.”', 'author': 'Voltaire'}, {'quote': '“It takes three to make love, not two: you, your spouse, and God. Without God people only succeed in bringing out the worst in one another. Lovers who have nothing else to do but love each other soon find there is nothing else. Without a central loyalty life is unfinished.”', 'author': 'Fulton J. Sheen,'}, {'quote': '“Independence is my happiness, and I view things as they are, without regard to place or person; my country is the world, and my religion is to do good.”', 'author': 'thomas paine,'}, {'quote': '“What comes into our minds when we think about God is the most important thing about us.”', 'author': 'A.W. Tozer'}, {'quote': '“We may ignore, but we can nowhere evade the presence of God. The world is crowded with Him. He walks everywhere incognito.”', 'author': 'C.S. Lewis'}, {'quote': \"“25 And the Lord spake unto the Angel that guarded the eastern gate, saying 'Where is the flaming sword that was given unto thee?'26 And the Angel said, 'I had it here only a moment ago, I must have put it down some where, forget my own head next.'27 And the Lord did not ask him again.”\", 'author': 'Neil Gaiman & Terry Pratchett,'}, {'quote': '“Down on the lake rosy reflections of celestial vapor appeared, and I said, \"God, I love you\" and looked to the sky and really meant it. \"I have fallen in love with you, God. Take care of us all, one way or the other.\" To the children and the innocent it\\'s all the same.”', 'author': 'Jack Kerouac,'}, {'quote': '“With or without religion, good people can behave well and bad people can do evil; but for good people to do evil - that takes religion.”', 'author': 'Steven Weinberg'}, {'quote': '“There is but one good; that is God. Everything else is good when it looks to Him and bad when it turns from Him.”', 'author': 'C.S. Lewis,'}, {'quote': '“God is a concept by which we measure our pain.”', 'author': 'John Lennon'}, {'quote': '“My religion consists of a humble admiration of the illimitable superior spirit who reveals himself in the slight details we are able to perceive with our frail and feeble mind.”', 'author': 'Albert Einstein'}, {'quote': '“The irony is that while God doesn’t need us but still wants us, we desperately need God but don’t really want Him most of the time.”', 'author': 'Francis Chan'}, {'quote': '“You are someone who is different, but who wants to be the same as everyone else. And that in my view is a serious illness. God chose you to be different. Why are you disappointing God with this kind of attitude?”', 'author': 'Paulo Coelho,'}]\n"
     ]
    }
   ],
   "source": [
    "base_url=(\"http://www.goodreads.com/quotes/tag/{0}?page={1}\")\n",
    "emotions=[\"Love\",\"God\"]\n",
    "for emotion in emotions:\n",
    "    for page in range (1,4):\n",
    "        url=base_url.format(emotion,page)\n",
    "        page=requests.get(url)\n",
    "        content=page.text\n",
    "        quotes_selected=process(content)\n",
    "print(quotes_selected)"
   ]
  },
  {
   "cell_type": "code",
   "execution_count": 4,
   "metadata": {},
   "outputs": [],
   "source": [
    "f=open(\"written.json\",\"w\",encoding=\"utf16\")"
   ]
  },
  {
   "cell_type": "code",
   "execution_count": 5,
   "metadata": {},
   "outputs": [],
   "source": [
    "json.dump(quotes_selected,f)"
   ]
  },
  {
   "cell_type": "code",
   "execution_count": null,
   "metadata": {},
   "outputs": [],
   "source": []
  }
 ],
 "metadata": {
  "kernelspec": {
   "display_name": "Python 3",
   "language": "python",
   "name": "python3"
  },
  "language_info": {
   "codemirror_mode": {
    "name": "ipython",
    "version": 3
   },
   "file_extension": ".py",
   "mimetype": "text/x-python",
   "name": "python",
   "nbconvert_exporter": "python",
   "pygments_lexer": "ipython3",
   "version": "3.7.3"
  }
 },
 "nbformat": 4,
 "nbformat_minor": 2
}
