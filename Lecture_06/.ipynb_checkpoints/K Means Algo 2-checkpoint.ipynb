{
 "cells": [
  {
   "cell_type": "code",
   "execution_count": 3,
   "metadata": {
    "collapsed": false
   },
   "outputs": [],
   "source": [
    "import numpy as np\n",
    "import matplotlib.pyplot as plt\n",
    "from sklearn.datasets import make_blobs\n",
    "%matplotlib inline"
   ]
  },
  {
   "cell_type": "code",
   "execution_count": 5,
   "metadata": {
    "collapsed": false
   },
   "outputs": [
    {
     "data": {
      "text/plain": [
       "<matplotlib.collections.PathCollection at 0x1f124d66550>"
      ]
     },
     "execution_count": 5,
     "metadata": {},
     "output_type": "execute_result"
    },
    {
     "data": {
      "image/png": "[encoded data removed]",
      "text/plain": [
       "<Figure size 432x288 with 1 Axes>"
      ]
     },
     "metadata": {},
     "output_type": "display_data"
    }
   ],
   "source": [
    "X,y=make_blobs(1000,centers=2,random_state=42)\n",
    "\n",
    "plt.scatter(X[:,0],X[:,1])"
   ]
  },
  {
   "cell_type": "code",
   "execution_count": 15,
   "metadata": {
    "collapsed": true
   },
   "outputs": [],
   "source": [
    "class KMeans:\n",
    "    def __init__(self,k):\n",
    "        self.k=k\n",
    "        self.X=None\n",
    "        self.y=None\n",
    "        self.clusters=None\n",
    "    \n",
    "    def fit(self,X):\n",
    "        self.X=X\n",
    "        \n",
    "        self.clusters=[]\n",
    "        \n",
    "        for index in range(self.k):\n",
    "            cluster=Cluster(X[index])\n",
    "            self.clusters.append(cluster)\n",
    "            \n",
    "        for _ in range(5):\n",
    "            for point in self.X:\n",
    "                distances=[]\n",
    "                for cluster in self.clusters:\n",
    "                    dis=cluster.distance(point)\n",
    "                    distances.append((dis,cluster))\n",
    "                distances=sorted(distances)\n",
    "                chosen=distances[0][1]\n",
    "                \n",
    "                chosen.points.append(point)\n",
    "        \n",
    "        \n",
    "\n",
    "class Cluster:\n",
    "    \n",
    "    def __init__(self,center):\n",
    "        self.center=center\n",
    "        self.points=[]\n",
    "        \n",
    "        \n",
    "    def update_center(self):\n",
    "        points=np.array(self.points)\n",
    "        self.center=np.mean(points,axis=0)\n",
    "        self.points=[]\n",
    "        \n",
    "    def distance(self,point):\n",
    "        return np.sum((self.center-point)**2)"
   ]
  },
  {
   "cell_type": "code",
   "execution_count": 16,
   "metadata": {
    "collapsed": true
   },
   "outputs": [],
   "source": [
    "model=KMeans(4)"
   ]
  },
  {
   "cell_type": "code",
   "execution_count": 17,
   "metadata": {
    "collapsed": false
   },
   "outputs": [],
   "source": [
    "model.fit(X)"
   ]
  },
  {
   "cell_type": "code",
   "execution_count": null,
   "metadata": {
    "collapsed": true
   },
   "outputs": [],
   "source": []
  }
 ],
 "metadata": {
  "anaconda-cloud": {},
  "kernelspec": {
   "display_name": "Python [default]",
   "language": "python",
   "name": "python3"
  },
  "language_info": {
   "codemirror_mode": {
    "name": "ipython",
    "version": 3
   },
   "file_extension": ".py",
   "mimetype": "text/x-python",
   "name": "python",
   "nbconvert_exporter": "python",
   "pygments_lexer": "ipython3",
   "version": "3.5.2"
  }
 },
 "nbformat": 4,
 "nbformat_minor": 1
}
