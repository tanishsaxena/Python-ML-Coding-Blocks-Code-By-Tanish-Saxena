{
 "cells": [
  {
   "cell_type": "code",
   "execution_count": 1,
   "metadata": {},
   "outputs": [],
   "source": [
    "from bs4 import BeautifulSoup\n",
    "import requests\n",
    "import json"
   ]
  },
  {
   "cell_type": "code",
   "execution_count": null,
   "metadata": {},
   "outputs": [],
   "source": []
  },
  {
   "cell_type": "code",
   "execution_count": 2,
   "metadata": {},
   "outputs": [],
   "source": [
    "def process(content):\n",
    "    soup=BeautifulSoup(content)\n",
    "    quotes_divs=soup.find_all(\"div\",attrs={\"class\":\"quote\"})\n",
    "    quotes=[]\n",
    "    for div in quotes_divs:\n",
    "        qtext=div.find(\"div\",attrs={\"class\":\"quoteText\"})\n",
    "        quote=qtext.text.strip().split(\"\\n\")[0]\n",
    "        author=qtext.find(\"span\",attrs={\"class\":\"authorOrTitle\"}).text.strip()\n",
    "        \n",
    "        q_dict={\"Quote\":quote,\"Author\":author}\n",
    "        quotes.append(q_dict)\n",
    "    return quotes"
   ]
  },
  {
   "cell_type": "code",
   "execution_count": 3,
   "metadata": {},
   "outputs": [],
   "source": [
    "#base_url=(\"http://www.goodreads.com/quotes/tag/{0}?page={1}\")\n",
    "\n",
    "#emotions=[\"Love\"]\n",
    "\n",
    "\n",
    "#quotes=[]\n",
    "\n",
    "#for emotion in emotions:\n",
    " #   for index in range(1,2):\n",
    "  #      final_url=base_url.format(emotion,index)\n",
    "   #     page=requests.get(final_url)\n",
    "    #    content=page.text\n",
    "     #   quotes+=process(content)\n",
    "      #  process(content)"
   ]
  },
  {
   "cell_type": "code",
   "execution_count": 8,
   "metadata": {},
   "outputs": [],
   "source": [
    "temp_url=(\"http://www.goodreads.com/quotes/tag/Love?page={1}\")\n",
    "page=requests.get(temp_url)\n",
    "content=page.text\n",
    "a=process(content)"
   ]
  },
  {
   "cell_type": "code",
   "execution_count": 9,
   "metadata": {},
   "outputs": [],
   "source": [
    "f=open(\"quotes.json\",\"w\",encoding=\"utf8\")"
   ]
  },
  {
   "cell_type": "code",
   "execution_count": 10,
   "metadata": {},
   "outputs": [],
   "source": [
    "json.dump(a,f)"
   ]
  },
  {
   "cell_type": "code",
   "execution_count": null,
   "metadata": {},
   "outputs": [],
   "source": []
  }
 ],
 "metadata": {
  "kernelspec": {
   "display_name": "Python 3",
   "language": "python",
   "name": "python3"
  },
  "language_info": {
   "codemirror_mode": {
    "name": "ipython",
    "version": 3
   },
   "file_extension": ".py",
   "mimetype": "text/x-python",
   "name": "python",
   "nbconvert_exporter": "python",
   "pygments_lexer": "ipython3",
   "version": "3.7.3"
  }
 },
 "nbformat": 4,
 "nbformat_minor": 2
}
