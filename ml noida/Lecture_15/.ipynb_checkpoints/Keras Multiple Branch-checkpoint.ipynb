{
 "cells": [
  {
   "cell_type": "code",
   "execution_count": 2,
   "metadata": {},
   "outputs": [
    {
     "name": "stderr",
     "output_type": "stream",
     "text": [
      "Using TensorFlow backend.\n"
     ]
    }
   ],
   "source": [
    "from keras.models import Model\n",
    "from keras.layers import Dense #This is the layer which shows the layer is connected to all previous neuron\n",
    "from keras.layers import Input\n",
    "#from sklearn.datasets import make_circles\n",
    "#from keras.losses import categorical_crossentropy\n",
    "from sklearn.model_selection import train_test_split\n",
    "import matplotlib.pyplot as plt\n",
    "from sklearn.preprocessing import OneHotEncoder\n",
    "import pandas as pd\n",
    "import numpy as np"
   ]
  },
  {
   "cell_type": "code",
   "execution_count": 3,
   "metadata": {},
   "outputs": [],
   "source": [
    "data=pd.read_csv(\"mnist_train_small.csv\").values"
   ]
  },
  {
   "cell_type": "code",
   "execution_count": 4,
   "metadata": {},
   "outputs": [],
   "source": [
    "X=data[:,2:]"
   ]
  },
  {
   "cell_type": "code",
   "execution_count": 5,
   "metadata": {},
   "outputs": [],
   "source": [
    "y=data[:,1]"
   ]
  },
  {
   "cell_type": "code",
   "execution_count": 6,
   "metadata": {},
   "outputs": [],
   "source": [
    "ohe=OneHotEncoder(categories=\"auto\")"
   ]
  },
  {
   "cell_type": "code",
   "execution_count": 63,
   "metadata": {},
   "outputs": [],
   "source": [
    "y_hot=ohe.fit_transform(y.reshape(-1,1)).todense()\n",
    "y_sec=ohe.fit_transform((9-y).reshape(-1,1)).todense()"
   ]
  },
  {
   "cell_type": "code",
   "execution_count": 62,
   "metadata": {},
   "outputs": [],
   "source": [
    "# X_train, X_test, y_train, y_test = train_test_split(X, y_hot, test_size=0.33, random_state=42)"
   ]
  },
  {
   "cell_type": "code",
   "execution_count": 9,
   "metadata": {},
   "outputs": [
    {
     "name": "stderr",
     "output_type": "stream",
     "text": [
      "WARNING: Logging before flag parsing goes to stderr.\n",
      "W0706 17:05:25.617402 13532 deprecation_wrapper.py:119] From c:\\users\\tanish saxena\\appdata\\local\\programs\\python\\python37\\lib\\site-packages\\keras\\backend\\tensorflow_backend.py:74: The name tf.get_default_graph is deprecated. Please use tf.compat.v1.get_default_graph instead.\n",
      "\n"
     ]
    }
   ],
   "source": [
    "model=Model()"
   ]
  },
  {
   "cell_type": "code",
   "execution_count": 10,
   "metadata": {},
   "outputs": [
    {
     "data": {
      "text/plain": [
       "(8000, 784)"
      ]
     },
     "execution_count": 10,
     "metadata": {},
     "output_type": "execute_result"
    }
   ],
   "source": [
    "X.shape"
   ]
  },
  {
   "cell_type": "code",
   "execution_count": 11,
   "metadata": {},
   "outputs": [
    {
     "name": "stderr",
     "output_type": "stream",
     "text": [
      "W0706 17:05:25.800823 13532 deprecation_wrapper.py:119] From c:\\users\\tanish saxena\\appdata\\local\\programs\\python\\python37\\lib\\site-packages\\keras\\backend\\tensorflow_backend.py:517: The name tf.placeholder is deprecated. Please use tf.compat.v1.placeholder instead.\n",
      "\n",
      "W0706 17:05:25.809828 13532 deprecation_wrapper.py:119] From c:\\users\\tanish saxena\\appdata\\local\\programs\\python\\python37\\lib\\site-packages\\keras\\backend\\tensorflow_backend.py:4138: The name tf.random_uniform is deprecated. Please use tf.random.uniform instead.\n",
      "\n"
     ]
    }
   ],
   "source": [
    "in_layer=Input(shape=[784])# This is showing inputs of first layer\n",
    "layer_1=Dense(200,activation=\"relu\")(in_layer)\n",
    "layer_2=Dense(50,activation=\"relu\")(layer_1)  #This shows it is connected to layer 1 and this is called functinal api that means layer 1 is function of layer 1 in this\n",
    "layer_3=Dense(10,activation=\"softmax\")(layer_2)"
   ]
  },
  {
   "cell_type": "code",
   "execution_count": 12,
   "metadata": {},
   "outputs": [],
   "source": [
    "model=Model(inputs=[in_layer],outputs=[layer_3])"
   ]
  },
  {
   "cell_type": "code",
   "execution_count": 13,
   "metadata": {},
   "outputs": [
    {
     "name": "stdout",
     "output_type": "stream",
     "text": [
      "_________________________________________________________________\n",
      "Layer (type)                 Output Shape              Param #   \n",
      "=================================================================\n",
      "input_1 (InputLayer)         (None, 784)               0         \n",
      "_________________________________________________________________\n",
      "dense_1 (Dense)              (None, 200)               157000    \n",
      "_________________________________________________________________\n",
      "dense_2 (Dense)              (None, 50)                10050     \n",
      "_________________________________________________________________\n",
      "dense_3 (Dense)              (None, 10)                510       \n",
      "=================================================================\n",
      "Total params: 167,560\n",
      "Trainable params: 167,560\n",
      "Non-trainable params: 0\n",
      "_________________________________________________________________\n"
     ]
    }
   ],
   "source": [
    "model.summary()"
   ]
  },
  {
   "cell_type": "code",
   "execution_count": 14,
   "metadata": {},
   "outputs": [
    {
     "name": "stderr",
     "output_type": "stream",
     "text": [
      "W0706 17:05:26.111725 13532 deprecation_wrapper.py:119] From c:\\users\\tanish saxena\\appdata\\local\\programs\\python\\python37\\lib\\site-packages\\keras\\optimizers.py:790: The name tf.train.Optimizer is deprecated. Please use tf.compat.v1.train.Optimizer instead.\n",
      "\n",
      "W0706 17:05:26.157695 13532 deprecation_wrapper.py:119] From c:\\users\\tanish saxena\\appdata\\local\\programs\\python\\python37\\lib\\site-packages\\keras\\backend\\tensorflow_backend.py:3295: The name tf.log is deprecated. Please use tf.math.log instead.\n",
      "\n"
     ]
    }
   ],
   "source": [
    "model.compile(optimizer=\"adam\",loss=\"categorical_crossentropy\",metrics=[\"accuracy\"])"
   ]
  },
  {
   "cell_type": "code",
   "execution_count": null,
   "metadata": {},
   "outputs": [],
   "source": []
  },
  {
   "cell_type": "code",
   "execution_count": 15,
   "metadata": {},
   "outputs": [
    {
     "name": "stderr",
     "output_type": "stream",
     "text": [
      "W0706 17:05:26.286061 13532 deprecation.py:323] From c:\\users\\tanish saxena\\appdata\\local\\programs\\python\\python37\\lib\\site-packages\\tensorflow\\python\\ops\\math_grad.py:1250: add_dispatch_support.<locals>.wrapper (from tensorflow.python.ops.array_ops) is deprecated and will be removed in a future version.\n",
      "Instructions for updating:\n",
      "Use tf.where in 2.0, which has the same broadcast rule as np.where\n",
      "W0706 17:05:26.372015 13532 deprecation_wrapper.py:119] From c:\\users\\tanish saxena\\appdata\\local\\programs\\python\\python37\\lib\\site-packages\\keras\\backend\\tensorflow_backend.py:986: The name tf.assign_add is deprecated. Please use tf.compat.v1.assign_add instead.\n",
      "\n"
     ]
    },
    {
     "name": "stdout",
     "output_type": "stream",
     "text": [
      "Epoch 1/10\n",
      "5360/5360 [==============================] - 1s 113us/step - loss: 10.2087 - acc: 0.3554\n",
      "Epoch 2/10\n",
      "5360/5360 [==============================] - 0s 74us/step - loss: 7.3972 - acc: 0.5308\n",
      "Epoch 3/10\n",
      "5360/5360 [==============================] - 0s 73us/step - loss: 6.1766 - acc: 0.6091\n",
      "Epoch 4/10\n",
      "5360/5360 [==============================] - 0s 74us/step - loss: 5.9963 - acc: 0.6218\n",
      "Epoch 5/10\n",
      "5360/5360 [==============================] - 0s 59us/step - loss: 6.0729 - acc: 0.6172\n",
      "Epoch 6/10\n",
      "5360/5360 [==============================] - 0s 59us/step - loss: 5.7988 - acc: 0.6360: 0s - loss: 5.9756 - acc: 0.6\n",
      "Epoch 7/10\n",
      "5360/5360 [==============================] - 0s 63us/step - loss: 5.6812 - acc: 0.6444\n",
      "Epoch 8/10\n",
      "5360/5360 [==============================] - 0s 54us/step - loss: 5.9376 - acc: 0.6280\n",
      "Epoch 9/10\n",
      "5360/5360 [==============================] - 0s 56us/step - loss: 5.5685 - acc: 0.6521\n",
      "Epoch 10/10\n",
      "5360/5360 [==============================] - 0s 71us/step - loss: 5.4881 - acc: 0.6567\n"
     ]
    }
   ],
   "source": [
    "hist=model.fit(X_train,y_train,epochs=10,batch_size=200)"
   ]
  },
  {
   "cell_type": "code",
   "execution_count": 16,
   "metadata": {},
   "outputs": [],
   "source": [
    "hist_accu=hist.history[\"acc\"]"
   ]
  },
  {
   "cell_type": "code",
   "execution_count": 17,
   "metadata": {},
   "outputs": [
    {
     "data": {
      "text/plain": [
       "[<matplotlib.lines.Line2D at 0x2249e6739e8>]"
      ]
     },
     "execution_count": 17,
     "metadata": {},
     "output_type": "execute_result"
    },
    {
     "data": {
      "image/png": "[encoded data removed]",
      "text/plain": [
       "<Figure size 432x288 with 1 Axes>"
      ]
     },
     "metadata": {
      "needs_background": "light"
     },
     "output_type": "display_data"
    }
   ],
   "source": [
    "plt.plot(hist_accu)"
   ]
  },
  {
   "cell_type": "code",
   "execution_count": 18,
   "metadata": {},
   "outputs": [],
   "source": [
    "hist_loss=hist.history[\"loss\"]"
   ]
  },
  {
   "cell_type": "code",
   "execution_count": 19,
   "metadata": {},
   "outputs": [
    {
     "data": {
      "text/plain": [
       "[<matplotlib.lines.Line2D at 0x2249e70e780>]"
      ]
     },
     "execution_count": 19,
     "metadata": {},
     "output_type": "execute_result"
    },
    {
     "data": {
      "image/png": "[encoded data removed]",
      "text/plain": [
       "<Figure size 432x288 with 1 Axes>"
      ]
     },
     "metadata": {
      "needs_background": "light"
     },
     "output_type": "display_data"
    }
   ],
   "source": [
    "plt.plot(hist_loss)"
   ]
  },
  {
   "cell_type": "markdown",
   "metadata": {},
   "source": [
    "# For mutiple branch"
   ]
  },
  {
   "cell_type": "code",
   "execution_count": null,
   "metadata": {},
   "outputs": [],
   "source": []
  },
  {
   "cell_type": "code",
   "execution_count": 71,
   "metadata": {},
   "outputs": [],
   "source": [
    "in_layer=Input(shape=[784])# This is showing inputs of first layer\n",
    "layer_1=Dense(200,activation=\"tanh\")(in_layer)\n",
    "layer_2=Dense(1000,activation=\"tanh\")(layer_1)  #This shows it is connected to layer 1 and this is called functinal api that means layer 1 is function of layer 1 in this\n",
    "\n",
    "layer_2_1=Dense(50,activation=\"tanh\")(layer_2)\n",
    "layer_2_2=Dense(50,activation=\"tanh\")(layer_2)\n",
    "\n",
    "layer_3_1=Dense(10,activation=\"softmax\")(layer_2_1)\n",
    "\n",
    "layer_3_2=Dense(10,activation=\"softmax\")(layer_2_2)\n"
   ]
  },
  {
   "cell_type": "code",
   "execution_count": 72,
   "metadata": {},
   "outputs": [],
   "source": [
    "model=Model(inputs=[in_layer],outputs=[layer_3_1,layer_3_2])"
   ]
  },
  {
   "cell_type": "code",
   "execution_count": 73,
   "metadata": {},
   "outputs": [
    {
     "name": "stdout",
     "output_type": "stream",
     "text": [
      "__________________________________________________________________________________________________\n",
      "Layer (type)                    Output Shape         Param #     Connected to                     \n",
      "==================================================================================================\n",
      "input_5 (InputLayer)            (None, 784)          0                                            \n",
      "__________________________________________________________________________________________________\n",
      "dense_20 (Dense)                (None, 200)          157000      input_5[0][0]                    \n",
      "__________________________________________________________________________________________________\n",
      "dense_21 (Dense)                (None, 1000)         201000      dense_20[0][0]                   \n",
      "__________________________________________________________________________________________________\n",
      "dense_22 (Dense)                (None, 50)           50050       dense_21[0][0]                   \n",
      "__________________________________________________________________________________________________\n",
      "dense_23 (Dense)                (None, 50)           50050       dense_21[0][0]                   \n",
      "__________________________________________________________________________________________________\n",
      "dense_24 (Dense)                (None, 10)           510         dense_22[0][0]                   \n",
      "__________________________________________________________________________________________________\n",
      "dense_25 (Dense)                (None, 10)           510         dense_23[0][0]                   \n",
      "==================================================================================================\n",
      "Total params: 459,120\n",
      "Trainable params: 459,120\n",
      "Non-trainable params: 0\n",
      "__________________________________________________________________________________________________\n"
     ]
    }
   ],
   "source": [
    "model.summary()"
   ]
  },
  {
   "cell_type": "code",
   "execution_count": 74,
   "metadata": {},
   "outputs": [],
   "source": [
    "model.compile(optimizer=\"adam\",loss=\"categorical_crossentropy\",metrics=[\"accuracy\"])"
   ]
  },
  {
   "cell_type": "code",
   "execution_count": 75,
   "metadata": {},
   "outputs": [
    {
     "name": "stdout",
     "output_type": "stream",
     "text": [
      "Epoch 1/10\n",
      "8000/8000 [==============================] - 2s 275us/step - loss: 1.5338 - dense_24_loss: 0.7856 - dense_25_loss: 0.7482 - dense_24_acc: 0.7719 - dense_25_acc: 0.7766\n",
      "Epoch 2/10\n",
      "8000/8000 [==============================] - 2s 194us/step - loss: 0.8000 - dense_24_loss: 0.4068 - dense_25_loss: 0.3931 - dense_24_acc: 0.8838 - dense_25_acc: 0.8869\n",
      "Epoch 3/10\n",
      "8000/8000 [==============================] - 2s 198us/step - loss: 0.6814 - dense_24_loss: 0.3442 - dense_25_loss: 0.3373 - dense_24_acc: 0.9012 - dense_25_acc: 0.8994\n",
      "Epoch 4/10\n",
      "8000/8000 [==============================] - 1s 180us/step - loss: 0.6656 - dense_24_loss: 0.3390 - dense_25_loss: 0.3266 - dense_24_acc: 0.9005 - dense_25_acc: 0.9031\n",
      "Epoch 5/10\n",
      "8000/8000 [==============================] - 2s 189us/step - loss: 0.6130 - dense_24_loss: 0.3116 - dense_25_loss: 0.3014 - dense_24_acc: 0.9067 - dense_25_acc: 0.9130\n",
      "Epoch 6/10\n",
      "8000/8000 [==============================] - 1s 176us/step - loss: 0.5609 - dense_24_loss: 0.2810 - dense_25_loss: 0.2799 - dense_24_acc: 0.9148 - dense_25_acc: 0.9143\n",
      "Epoch 7/10\n",
      "8000/8000 [==============================] - 1s 181us/step - loss: 0.5315 - dense_24_loss: 0.2649 - dense_25_loss: 0.2666 - dense_24_acc: 0.9188 - dense_25_acc: 0.9189\n",
      "Epoch 8/10\n",
      "8000/8000 [==============================] - 1s 186us/step - loss: 0.5240 - dense_24_loss: 0.2625 - dense_25_loss: 0.2616 - dense_24_acc: 0.9164 - dense_25_acc: 0.9154\n",
      "Epoch 9/10\n",
      "8000/8000 [==============================] - 2s 201us/step - loss: 0.5412 - dense_24_loss: 0.2752 - dense_25_loss: 0.2660 - dense_24_acc: 0.9139 - dense_25_acc: 0.9146\n",
      "Epoch 10/10\n",
      "8000/8000 [==============================] - 2s 218us/step - loss: 0.5129 - dense_24_loss: 0.2587 - dense_25_loss: 0.2542 - dense_24_acc: 0.9176 - dense_25_acc: 0.9188\n"
     ]
    }
   ],
   "source": [
    "hist=model.fit(X,[y_hot,y_sec],epochs=10,batch_size=200)"
   ]
  },
  {
   "cell_type": "code",
   "execution_count": 81,
   "metadata": {},
   "outputs": [],
   "source": [
    "# hist.history"
   ]
  },
  {
   "cell_type": "code",
   "execution_count": 80,
   "metadata": {},
   "outputs": [],
   "source": [
    "#model.predict(X_test[:10])"
   ]
  },
  {
   "cell_type": "code",
   "execution_count": 78,
   "metadata": {},
   "outputs": [
    {
     "data": {
      "text/plain": [
       "array([9, 1, 7, 8, 0, 2, 2, 2, 4, 2], dtype=int64)"
      ]
     },
     "execution_count": 78,
     "metadata": {},
     "output_type": "execute_result"
    }
   ],
   "source": [
    "np.argmax(model.predict(X_test[:10])[0],axis=1)\n"
   ]
  },
  {
   "cell_type": "code",
   "execution_count": 79,
   "metadata": {},
   "outputs": [
    {
     "data": {
      "text/plain": [
       "array([0, 8, 5, 1, 9, 1, 7, 7, 5, 7], dtype=int64)"
      ]
     },
     "execution_count": 79,
     "metadata": {},
     "output_type": "execute_result"
    }
   ],
   "source": [
    "np.argmax(model.predict(X_test[:10])[1],axis=1)"
   ]
  },
  {
   "cell_type": "code",
   "execution_count": null,
   "metadata": {},
   "outputs": [],
   "source": []
  }
 ],
 "metadata": {
  "kernelspec": {
   "display_name": "Python 3",
   "language": "python",
   "name": "python3"
  },
  "language_info": {
   "codemirror_mode": {
    "name": "ipython",
    "version": 3
   },
   "file_extension": ".py",
   "mimetype": "text/x-python",
   "name": "python",
   "nbconvert_exporter": "python",
   "pygments_lexer": "ipython3",
   "version": "3.7.3"
  }
 },
 "nbformat": 4,
 "nbformat_minor": 2
}
