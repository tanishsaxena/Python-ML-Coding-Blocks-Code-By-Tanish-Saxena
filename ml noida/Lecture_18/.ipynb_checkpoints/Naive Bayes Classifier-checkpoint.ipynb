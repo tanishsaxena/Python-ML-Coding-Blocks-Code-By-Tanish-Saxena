{
 "cells": [
  {
   "cell_type": "code",
   "execution_count": 166,
   "metadata": {},
   "outputs": [],
   "source": [
    "import numpy as np\n",
    "import pandas as pd\n",
    "from sklearn.preprocessing import LabelEncoder\n",
    "from sklearn.model_selection import train_test_split"
   ]
  },
  {
   "cell_type": "code",
   "execution_count": 167,
   "metadata": {},
   "outputs": [],
   "source": [
    "df=pd.read_csv(\"mushrooms.csv\")"
   ]
  },
  {
   "cell_type": "code",
   "execution_count": 168,
   "metadata": {},
   "outputs": [
    {
     "data": {
      "text/html": [
       "<div>\n",
       "<style scoped>\n",
       "    .dataframe tbody tr th:only-of-type {\n",
       "        vertical-align: middle;\n",
       "    }\n",
       "\n",
       "    .dataframe tbody tr th {\n",
       "        vertical-align: top;\n",
       "    }\n",
       "\n",
       "    .dataframe thead th {\n",
       "        text-align: right;\n",
       "    }\n",
       "</style>\n",
       "<table border=\"1\" class=\"dataframe\">\n",
       "  <thead>\n",
       "    <tr style=\"text-align: right;\">\n",
       "      <th></th>\n",
       "      <th>type</th>\n",
       "      <th>cap_shape</th>\n",
       "      <th>cap_surface</th>\n",
       "      <th>cap_color</th>\n",
       "      <th>bruises</th>\n",
       "      <th>odor</th>\n",
       "      <th>gill_attachment</th>\n",
       "      <th>gill_spacing</th>\n",
       "      <th>gill_size</th>\n",
       "      <th>gill_color</th>\n",
       "      <th>...</th>\n",
       "      <th>stalk_surface_below_ring</th>\n",
       "      <th>stalk_color_above_ring</th>\n",
       "      <th>stalk_color_below_ring</th>\n",
       "      <th>veil_type</th>\n",
       "      <th>veil_color</th>\n",
       "      <th>ring_number</th>\n",
       "      <th>ring_type</th>\n",
       "      <th>spore_print_color</th>\n",
       "      <th>population</th>\n",
       "      <th>habitat</th>\n",
       "    </tr>\n",
       "  </thead>\n",
       "  <tbody>\n",
       "    <tr>\n",
       "      <th>0</th>\n",
       "      <td>p</td>\n",
       "      <td>x</td>\n",
       "      <td>s</td>\n",
       "      <td>n</td>\n",
       "      <td>t</td>\n",
       "      <td>p</td>\n",
       "      <td>f</td>\n",
       "      <td>c</td>\n",
       "      <td>n</td>\n",
       "      <td>k</td>\n",
       "      <td>...</td>\n",
       "      <td>s</td>\n",
       "      <td>w</td>\n",
       "      <td>w</td>\n",
       "      <td>p</td>\n",
       "      <td>w</td>\n",
       "      <td>o</td>\n",
       "      <td>p</td>\n",
       "      <td>k</td>\n",
       "      <td>s</td>\n",
       "      <td>u</td>\n",
       "    </tr>\n",
       "    <tr>\n",
       "      <th>1</th>\n",
       "      <td>e</td>\n",
       "      <td>x</td>\n",
       "      <td>s</td>\n",
       "      <td>y</td>\n",
       "      <td>t</td>\n",
       "      <td>a</td>\n",
       "      <td>f</td>\n",
       "      <td>c</td>\n",
       "      <td>b</td>\n",
       "      <td>k</td>\n",
       "      <td>...</td>\n",
       "      <td>s</td>\n",
       "      <td>w</td>\n",
       "      <td>w</td>\n",
       "      <td>p</td>\n",
       "      <td>w</td>\n",
       "      <td>o</td>\n",
       "      <td>p</td>\n",
       "      <td>n</td>\n",
       "      <td>n</td>\n",
       "      <td>g</td>\n",
       "    </tr>\n",
       "    <tr>\n",
       "      <th>2</th>\n",
       "      <td>e</td>\n",
       "      <td>b</td>\n",
       "      <td>s</td>\n",
       "      <td>w</td>\n",
       "      <td>t</td>\n",
       "      <td>l</td>\n",
       "      <td>f</td>\n",
       "      <td>c</td>\n",
       "      <td>b</td>\n",
       "      <td>n</td>\n",
       "      <td>...</td>\n",
       "      <td>s</td>\n",
       "      <td>w</td>\n",
       "      <td>w</td>\n",
       "      <td>p</td>\n",
       "      <td>w</td>\n",
       "      <td>o</td>\n",
       "      <td>p</td>\n",
       "      <td>n</td>\n",
       "      <td>n</td>\n",
       "      <td>m</td>\n",
       "    </tr>\n",
       "    <tr>\n",
       "      <th>3</th>\n",
       "      <td>p</td>\n",
       "      <td>x</td>\n",
       "      <td>y</td>\n",
       "      <td>w</td>\n",
       "      <td>t</td>\n",
       "      <td>p</td>\n",
       "      <td>f</td>\n",
       "      <td>c</td>\n",
       "      <td>n</td>\n",
       "      <td>n</td>\n",
       "      <td>...</td>\n",
       "      <td>s</td>\n",
       "      <td>w</td>\n",
       "      <td>w</td>\n",
       "      <td>p</td>\n",
       "      <td>w</td>\n",
       "      <td>o</td>\n",
       "      <td>p</td>\n",
       "      <td>k</td>\n",
       "      <td>s</td>\n",
       "      <td>u</td>\n",
       "    </tr>\n",
       "    <tr>\n",
       "      <th>4</th>\n",
       "      <td>e</td>\n",
       "      <td>x</td>\n",
       "      <td>s</td>\n",
       "      <td>g</td>\n",
       "      <td>f</td>\n",
       "      <td>n</td>\n",
       "      <td>f</td>\n",
       "      <td>w</td>\n",
       "      <td>b</td>\n",
       "      <td>k</td>\n",
       "      <td>...</td>\n",
       "      <td>s</td>\n",
       "      <td>w</td>\n",
       "      <td>w</td>\n",
       "      <td>p</td>\n",
       "      <td>w</td>\n",
       "      <td>o</td>\n",
       "      <td>e</td>\n",
       "      <td>n</td>\n",
       "      <td>a</td>\n",
       "      <td>g</td>\n",
       "    </tr>\n",
       "  </tbody>\n",
       "</table>\n",
       "<p>5 rows × 23 columns</p>\n",
       "</div>"
      ],
      "text/plain": [
       "  type cap_shape cap_surface cap_color bruises odor gill_attachment  \\\n",
       "0    p         x           s         n       t    p               f   \n",
       "1    e         x           s         y       t    a               f   \n",
       "2    e         b           s         w       t    l               f   \n",
       "3    p         x           y         w       t    p               f   \n",
       "4    e         x           s         g       f    n               f   \n",
       "\n",
       "  gill_spacing gill_size gill_color  ... stalk_surface_below_ring  \\\n",
       "0            c         n          k  ...                        s   \n",
       "1            c         b          k  ...                        s   \n",
       "2            c         b          n  ...                        s   \n",
       "3            c         n          n  ...                        s   \n",
       "4            w         b          k  ...                        s   \n",
       "\n",
       "  stalk_color_above_ring stalk_color_below_ring veil_type veil_color  \\\n",
       "0                      w                      w         p          w   \n",
       "1                      w                      w         p          w   \n",
       "2                      w                      w         p          w   \n",
       "3                      w                      w         p          w   \n",
       "4                      w                      w         p          w   \n",
       "\n",
       "  ring_number ring_type spore_print_color population habitat  \n",
       "0           o         p                 k          s       u  \n",
       "1           o         p                 n          n       g  \n",
       "2           o         p                 n          n       m  \n",
       "3           o         p                 k          s       u  \n",
       "4           o         e                 n          a       g  \n",
       "\n",
       "[5 rows x 23 columns]"
      ]
     },
     "execution_count": 168,
     "metadata": {},
     "output_type": "execute_result"
    }
   ],
   "source": [
    "df.head()"
   ]
  },
  {
   "cell_type": "code",
   "execution_count": 169,
   "metadata": {},
   "outputs": [],
   "source": [
    "le=LabelEncoder()"
   ]
  },
  {
   "cell_type": "code",
   "execution_count": 170,
   "metadata": {},
   "outputs": [],
   "source": [
    "df=df.apply(le.fit_transform)"
   ]
  },
  {
   "cell_type": "code",
   "execution_count": 171,
   "metadata": {},
   "outputs": [
    {
     "data": {
      "text/plain": [
       "Index(['type', 'cap_shape', 'cap_surface', 'cap_color', 'bruises', 'odor',\n",
       "       'gill_attachment', 'gill_spacing', 'gill_size', 'gill_color',\n",
       "       'stalk_shape', 'stalk_root', 'stalk_surface_above_ring',\n",
       "       'stalk_surface_below_ring', 'stalk_color_above_ring',\n",
       "       'stalk_color_below_ring', 'veil_type', 'veil_color', 'ring_number',\n",
       "       'ring_type', 'spore_print_color', 'population', 'habitat'],\n",
       "      dtype='object')"
      ]
     },
     "execution_count": 171,
     "metadata": {},
     "output_type": "execute_result"
    }
   ],
   "source": [
    "df.columns"
   ]
  },
  {
   "cell_type": "code",
   "execution_count": 40,
   "metadata": {},
   "outputs": [],
   "source": [
    "X=df.drop([\"type\"],axis=1)\n",
    "y=df[\"type\"]"
   ]
  },
  {
   "cell_type": "code",
   "execution_count": 172,
   "metadata": {},
   "outputs": [
    {
     "data": {
      "text/plain": [
       "Index(['cap_shape', 'cap_surface', 'cap_color', 'bruises', 'odor',\n",
       "       'gill_attachment', 'gill_spacing', 'gill_size', 'gill_color',\n",
       "       'stalk_shape', 'stalk_root', 'stalk_surface_above_ring',\n",
       "       'stalk_surface_below_ring', 'stalk_color_above_ring',\n",
       "       'stalk_color_below_ring', 'veil_type', 'veil_color', 'ring_number',\n",
       "       'ring_type', 'spore_print_color', 'population', 'habitat'],\n",
       "      dtype='object')"
      ]
     },
     "execution_count": 172,
     "metadata": {},
     "output_type": "execute_result"
    }
   ],
   "source": [
    "X.columns"
   ]
  },
  {
   "cell_type": "code",
   "execution_count": 41,
   "metadata": {},
   "outputs": [
    {
     "data": {
      "text/plain": [
       "pandas.core.series.Series"
      ]
     },
     "execution_count": 41,
     "metadata": {},
     "output_type": "execute_result"
    }
   ],
   "source": [
    "type(y)  #Individual column are always series"
   ]
  },
  {
   "cell_type": "code",
   "execution_count": 147,
   "metadata": {},
   "outputs": [],
   "source": [
    "# X.info()"
   ]
  },
  {
   "cell_type": "code",
   "execution_count": 148,
   "metadata": {},
   "outputs": [],
   "source": [
    "X_train, X_test, y_train, y_test = train_test_split(X, y, test_size=0.33, random_state=42)"
   ]
  },
  {
   "cell_type": "code",
   "execution_count": 43,
   "metadata": {},
   "outputs": [
    {
     "data": {
      "text/plain": [
       "array(['d', 'g', 'l', 'm', 'p', 'u', 'w'], dtype=object)"
      ]
     },
     "execution_count": 43,
     "metadata": {},
     "output_type": "execute_result"
    }
   ],
   "source": [
    "le.classes_"
   ]
  },
  {
   "cell_type": "code",
   "execution_count": 46,
   "metadata": {},
   "outputs": [
    {
     "data": {
      "text/html": [
       "<div>\n",
       "<style scoped>\n",
       "    .dataframe tbody tr th:only-of-type {\n",
       "        vertical-align: middle;\n",
       "    }\n",
       "\n",
       "    .dataframe tbody tr th {\n",
       "        vertical-align: top;\n",
       "    }\n",
       "\n",
       "    .dataframe thead th {\n",
       "        text-align: right;\n",
       "    }\n",
       "</style>\n",
       "<table border=\"1\" class=\"dataframe\">\n",
       "  <thead>\n",
       "    <tr style=\"text-align: right;\">\n",
       "      <th></th>\n",
       "      <th>type</th>\n",
       "      <th>cap_shape</th>\n",
       "      <th>cap_surface</th>\n",
       "      <th>cap_color</th>\n",
       "      <th>bruises</th>\n",
       "      <th>odor</th>\n",
       "      <th>gill_attachment</th>\n",
       "      <th>gill_spacing</th>\n",
       "      <th>gill_size</th>\n",
       "      <th>gill_color</th>\n",
       "      <th>...</th>\n",
       "      <th>stalk_surface_below_ring</th>\n",
       "      <th>stalk_color_above_ring</th>\n",
       "      <th>stalk_color_below_ring</th>\n",
       "      <th>veil_type</th>\n",
       "      <th>veil_color</th>\n",
       "      <th>ring_number</th>\n",
       "      <th>ring_type</th>\n",
       "      <th>spore_print_color</th>\n",
       "      <th>population</th>\n",
       "      <th>habitat</th>\n",
       "    </tr>\n",
       "  </thead>\n",
       "  <tbody>\n",
       "    <tr>\n",
       "      <th>0</th>\n",
       "      <td>1</td>\n",
       "      <td>5</td>\n",
       "      <td>2</td>\n",
       "      <td>4</td>\n",
       "      <td>1</td>\n",
       "      <td>6</td>\n",
       "      <td>1</td>\n",
       "      <td>0</td>\n",
       "      <td>1</td>\n",
       "      <td>4</td>\n",
       "      <td>...</td>\n",
       "      <td>2</td>\n",
       "      <td>7</td>\n",
       "      <td>7</td>\n",
       "      <td>0</td>\n",
       "      <td>2</td>\n",
       "      <td>1</td>\n",
       "      <td>4</td>\n",
       "      <td>2</td>\n",
       "      <td>3</td>\n",
       "      <td>5</td>\n",
       "    </tr>\n",
       "    <tr>\n",
       "      <th>1</th>\n",
       "      <td>0</td>\n",
       "      <td>5</td>\n",
       "      <td>2</td>\n",
       "      <td>9</td>\n",
       "      <td>1</td>\n",
       "      <td>0</td>\n",
       "      <td>1</td>\n",
       "      <td>0</td>\n",
       "      <td>0</td>\n",
       "      <td>4</td>\n",
       "      <td>...</td>\n",
       "      <td>2</td>\n",
       "      <td>7</td>\n",
       "      <td>7</td>\n",
       "      <td>0</td>\n",
       "      <td>2</td>\n",
       "      <td>1</td>\n",
       "      <td>4</td>\n",
       "      <td>3</td>\n",
       "      <td>2</td>\n",
       "      <td>1</td>\n",
       "    </tr>\n",
       "    <tr>\n",
       "      <th>2</th>\n",
       "      <td>0</td>\n",
       "      <td>0</td>\n",
       "      <td>2</td>\n",
       "      <td>8</td>\n",
       "      <td>1</td>\n",
       "      <td>3</td>\n",
       "      <td>1</td>\n",
       "      <td>0</td>\n",
       "      <td>0</td>\n",
       "      <td>5</td>\n",
       "      <td>...</td>\n",
       "      <td>2</td>\n",
       "      <td>7</td>\n",
       "      <td>7</td>\n",
       "      <td>0</td>\n",
       "      <td>2</td>\n",
       "      <td>1</td>\n",
       "      <td>4</td>\n",
       "      <td>3</td>\n",
       "      <td>2</td>\n",
       "      <td>3</td>\n",
       "    </tr>\n",
       "    <tr>\n",
       "      <th>3</th>\n",
       "      <td>1</td>\n",
       "      <td>5</td>\n",
       "      <td>3</td>\n",
       "      <td>8</td>\n",
       "      <td>1</td>\n",
       "      <td>6</td>\n",
       "      <td>1</td>\n",
       "      <td>0</td>\n",
       "      <td>1</td>\n",
       "      <td>5</td>\n",
       "      <td>...</td>\n",
       "      <td>2</td>\n",
       "      <td>7</td>\n",
       "      <td>7</td>\n",
       "      <td>0</td>\n",
       "      <td>2</td>\n",
       "      <td>1</td>\n",
       "      <td>4</td>\n",
       "      <td>2</td>\n",
       "      <td>3</td>\n",
       "      <td>5</td>\n",
       "    </tr>\n",
       "    <tr>\n",
       "      <th>4</th>\n",
       "      <td>0</td>\n",
       "      <td>5</td>\n",
       "      <td>2</td>\n",
       "      <td>3</td>\n",
       "      <td>0</td>\n",
       "      <td>5</td>\n",
       "      <td>1</td>\n",
       "      <td>1</td>\n",
       "      <td>0</td>\n",
       "      <td>4</td>\n",
       "      <td>...</td>\n",
       "      <td>2</td>\n",
       "      <td>7</td>\n",
       "      <td>7</td>\n",
       "      <td>0</td>\n",
       "      <td>2</td>\n",
       "      <td>1</td>\n",
       "      <td>0</td>\n",
       "      <td>3</td>\n",
       "      <td>0</td>\n",
       "      <td>1</td>\n",
       "    </tr>\n",
       "  </tbody>\n",
       "</table>\n",
       "<p>5 rows × 23 columns</p>\n",
       "</div>"
      ],
      "text/plain": [
       "   type  cap_shape  cap_surface  cap_color  bruises  odor  gill_attachment  \\\n",
       "0     1          5            2          4        1     6                1   \n",
       "1     0          5            2          9        1     0                1   \n",
       "2     0          0            2          8        1     3                1   \n",
       "3     1          5            3          8        1     6                1   \n",
       "4     0          5            2          3        0     5                1   \n",
       "\n",
       "   gill_spacing  gill_size  gill_color  ...  stalk_surface_below_ring  \\\n",
       "0             0          1           4  ...                         2   \n",
       "1             0          0           4  ...                         2   \n",
       "2             0          0           5  ...                         2   \n",
       "3             0          1           5  ...                         2   \n",
       "4             1          0           4  ...                         2   \n",
       "\n",
       "   stalk_color_above_ring  stalk_color_below_ring  veil_type  veil_color  \\\n",
       "0                       7                       7          0           2   \n",
       "1                       7                       7          0           2   \n",
       "2                       7                       7          0           2   \n",
       "3                       7                       7          0           2   \n",
       "4                       7                       7          0           2   \n",
       "\n",
       "   ring_number  ring_type  spore_print_color  population  habitat  \n",
       "0            1          4                  2           3        5  \n",
       "1            1          4                  3           2        1  \n",
       "2            1          4                  3           2        3  \n",
       "3            1          4                  2           3        5  \n",
       "4            1          0                  3           0        1  \n",
       "\n",
       "[5 rows x 23 columns]"
      ]
     },
     "execution_count": 46,
     "metadata": {},
     "output_type": "execute_result"
    }
   ],
   "source": [
    "df.head()"
   ]
  },
  {
   "cell_type": "code",
   "execution_count": 75,
   "metadata": {},
   "outputs": [],
   "source": []
  },
  {
   "cell_type": "code",
   "execution_count": 76,
   "metadata": {},
   "outputs": [
    {
     "data": {
      "text/plain": [
       "0.517971442639094"
      ]
     },
     "execution_count": 76,
     "metadata": {},
     "output_type": "execute_result"
    }
   ],
   "source": [
    "check_prior(y,0) #Probablity that data is zero"
   ]
  },
  {
   "cell_type": "code",
   "execution_count": 77,
   "metadata": {},
   "outputs": [
    {
     "data": {
      "text/plain": [
       "0.48202855736090594"
      ]
     },
     "execution_count": 77,
     "metadata": {},
     "output_type": "execute_result"
    }
   ],
   "source": [
    "check_prior(y,1) #Probablity that data is zero"
   ]
  },
  {
   "cell_type": "code",
   "execution_count": 57,
   "metadata": {},
   "outputs": [
    {
     "data": {
      "text/plain": [
       "cap_shape                   5\n",
       "cap_surface                 2\n",
       "cap_color                   4\n",
       "bruises                     1\n",
       "odor                        6\n",
       "gill_attachment             1\n",
       "gill_spacing                0\n",
       "gill_size                   1\n",
       "gill_color                  4\n",
       "stalk_shape                 0\n",
       "stalk_root                  3\n",
       "stalk_surface_above_ring    2\n",
       "stalk_surface_below_ring    2\n",
       "stalk_color_above_ring      7\n",
       "stalk_color_below_ring      7\n",
       "veil_type                   0\n",
       "veil_color                  2\n",
       "ring_number                 1\n",
       "ring_type                   4\n",
       "spore_print_color           2\n",
       "population                  3\n",
       "habitat                     5\n",
       "Name: 0, dtype: int32"
      ]
     },
     "execution_count": 57,
     "metadata": {},
     "output_type": "execute_result"
    }
   ],
   "source": [
    "X.loc[0] #This is the data of single row`"
   ]
  },
  {
   "cell_type": "code",
   "execution_count": 72,
   "metadata": {},
   "outputs": [],
   "source": []
  },
  {
   "cell_type": "code",
   "execution_count": 79,
   "metadata": {},
   "outputs": [],
   "source": [
    "def check_prior(data,value):\n",
    "    return np.sum(data==value) /len(data)"
   ]
  },
  {
   "cell_type": "code",
   "execution_count": 74,
   "metadata": {},
   "outputs": [
    {
     "data": {
      "text/plain": [
       "{0: {'cap_shape': {0: 0.05563761693746923,\n",
       "   1: 0.0004923682914820286,\n",
       "   2: 0.3879862136878385,\n",
       "   3: 0.1019202363367799,\n",
       "   4: 0.003938946331856229,\n",
       "   5: 0.4500246184145741},\n",
       "  'cap_surface': {0: 0.28557360905957657,\n",
       "   1: 0.0004923682914820286,\n",
       "   2: 0.31462333825701627,\n",
       "   3: 0.3993106843919252},\n",
       "  'cap_color': {0: 0.0206794682422452,\n",
       "   1: 0.0054160512063023145,\n",
       "   2: 0.18463810930576072,\n",
       "   3: 0.22648941408173315,\n",
       "   4: 0.2811422944362383,\n",
       "   5: 0.01772525849335303,\n",
       "   6: 0.0019694731659281144,\n",
       "   7: 0.0019694731659281144,\n",
       "   8: 0.12801575578532742,\n",
       "   9: 0.13195470211718366},\n",
       "  'bruises': {0: 0.5844411619891678, 1: 0.4155588380108321},\n",
       "  'odor': {0: 0.049236829148202856,\n",
       "   1: 0.023633677991137372,\n",
       "   2: 0.2658788774002954,\n",
       "   3: 0.049236829148202856,\n",
       "   4: 0.004431314623338257,\n",
       "   5: 0.4342688330871492,\n",
       "   6: 0.03151157065484983,\n",
       "   7: 0.07090103397341212,\n",
       "   8: 0.07090103397341212},\n",
       "  'gill_attachment': {0: 0.0258493353028065, 1: 0.9741506646971935},\n",
       "  'gill_spacing': {0: 0.8385032003938946, 1: 0.16149679960610536},\n",
       "  'gill_size': {0: 0.690792712949286, 1: 0.30920728705071393},\n",
       "  'gill_color': {0: 0.21270310192023634,\n",
       "   1: 0.011816838995568686,\n",
       "   2: 0.09256523879862137,\n",
       "   3: 0.09010339734121123,\n",
       "   4: 0.050221565731166914,\n",
       "   5: 0.12900049236829148,\n",
       "   6: 0.007877892663712457,\n",
       "   7: 0.18365337272279667,\n",
       "   8: 0.0029542097488921715,\n",
       "   9: 0.060561299852289516,\n",
       "   10: 0.1479566715903496,\n",
       "   11: 0.010585918266863614},\n",
       "  'stalk_shape': {0: 0.4327917282127031, 1: 0.5672082717872969},\n",
       "  'stalk_root': {0: 0.3052683407188577,\n",
       "   1: 0.464795667159035,\n",
       "   2: 0.06843919251600197,\n",
       "   3: 0.137863121614968,\n",
       "   4: 0.023633677991137372},\n",
       "  'stalk_surface_above_ring': {0: 0.06794682422451995,\n",
       "   1: 0.2919743968488429,\n",
       "   2: 0.637124569177745,\n",
       "   3: 0.0029542097488921715},\n",
       "  'stalk_surface_below_ring': {0: 0.07385524372230429,\n",
       "   1: 0.28360413589364847,\n",
       "   2: 0.6075824716888233,\n",
       "   3: 0.034958148695224026},\n",
       "  'stalk_color_above_ring': {0: 0.053175775480059084,\n",
       "   1: 0.004431314623338257,\n",
       "   2: 0.011816838995568686,\n",
       "   3: 0.07090103397341212,\n",
       "   4: 0.055145248645987195,\n",
       "   5: 0.023633677991137372,\n",
       "   6: 0.23042836041358936,\n",
       "   7: 0.5494830132939439,\n",
       "   8: 0.0009847365829640572},\n",
       "  'stalk_color_below_ring': {0: 0.053175775480059084,\n",
       "   1: 0.004431314623338257,\n",
       "   2: 0.011816838995568686,\n",
       "   3: 0.07090103397341212,\n",
       "   4: 0.06302314130969966,\n",
       "   5: 0.023633677991137372,\n",
       "   6: 0.23042836041358936,\n",
       "   7: 0.5396356474643033,\n",
       "   8: 0.0029542097488921715},\n",
       "  'veil_type': {0: 1.0},\n",
       "  'veil_color': {0: 0.011816838995568686,\n",
       "   1: 0.011816838995568686,\n",
       "   2: 0.9753815854258986,\n",
       "   3: 0.0009847365829640572},\n",
       "  'ring_number': {0: 0.004431314623338257,\n",
       "   1: 0.9217134416543574,\n",
       "   2: 0.07385524372230429},\n",
       "  'ring_type': {0: 0.3417035942885278,\n",
       "   1: 0.005908419497784343,\n",
       "   2: 0.15952732644017725,\n",
       "   3: 0.004431314623338257,\n",
       "   4: 0.48842934515017233},\n",
       "  'spore_print_color': {0: 0.005908419497784343,\n",
       "   1: 0.20088626292466766,\n",
       "   2: 0.23042836041358936,\n",
       "   3: 0.24224519940915806,\n",
       "   4: 0.005908419497784343,\n",
       "   5: 0.008862629246676515,\n",
       "   6: 0.005908419497784343,\n",
       "   7: 0.29394387001477107,\n",
       "   8: 0.005908419497784343},\n",
       "  'population': {0: 0.047267355982274745,\n",
       "   1: 0.041851304775972424,\n",
       "   2: 0.049236829148202856,\n",
       "   3: 0.1536189069423929,\n",
       "   4: 0.49729197439684886,\n",
       "   5: 0.21073362875430823},\n",
       "  'habitat': {0: 0.38749384539635645,\n",
       "   1: 0.26440177252584934,\n",
       "   2: 0.10241260462826195,\n",
       "   3: 0.035942885278188084,\n",
       "   4: 0.14081733136386015,\n",
       "   5: 0.04529788281634663,\n",
       "   6: 0.023633677991137372}},\n",
       " 1: {'cap_shape': {0: 0.05563761693746923,\n",
       "   1: 0.0004923682914820286,\n",
       "   2: 0.3879862136878385,\n",
       "   3: 0.1019202363367799,\n",
       "   4: 0.003938946331856229,\n",
       "   5: 0.4500246184145741},\n",
       "  'cap_surface': {0: 0.28557360905957657,\n",
       "   1: 0.0004923682914820286,\n",
       "   2: 0.31462333825701627,\n",
       "   3: 0.3993106843919252},\n",
       "  'cap_color': {0: 0.0206794682422452,\n",
       "   1: 0.0054160512063023145,\n",
       "   2: 0.18463810930576072,\n",
       "   3: 0.22648941408173315,\n",
       "   4: 0.2811422944362383,\n",
       "   5: 0.01772525849335303,\n",
       "   6: 0.0019694731659281144,\n",
       "   7: 0.0019694731659281144,\n",
       "   8: 0.12801575578532742,\n",
       "   9: 0.13195470211718366},\n",
       "  'bruises': {0: 0.5844411619891678, 1: 0.4155588380108321},\n",
       "  'odor': {0: 0.049236829148202856,\n",
       "   1: 0.023633677991137372,\n",
       "   2: 0.2658788774002954,\n",
       "   3: 0.049236829148202856,\n",
       "   4: 0.004431314623338257,\n",
       "   5: 0.4342688330871492,\n",
       "   6: 0.03151157065484983,\n",
       "   7: 0.07090103397341212,\n",
       "   8: 0.07090103397341212},\n",
       "  'gill_attachment': {0: 0.0258493353028065, 1: 0.9741506646971935},\n",
       "  'gill_spacing': {0: 0.8385032003938946, 1: 0.16149679960610536},\n",
       "  'gill_size': {0: 0.690792712949286, 1: 0.30920728705071393},\n",
       "  'gill_color': {0: 0.21270310192023634,\n",
       "   1: 0.011816838995568686,\n",
       "   2: 0.09256523879862137,\n",
       "   3: 0.09010339734121123,\n",
       "   4: 0.050221565731166914,\n",
       "   5: 0.12900049236829148,\n",
       "   6: 0.007877892663712457,\n",
       "   7: 0.18365337272279667,\n",
       "   8: 0.0029542097488921715,\n",
       "   9: 0.060561299852289516,\n",
       "   10: 0.1479566715903496,\n",
       "   11: 0.010585918266863614},\n",
       "  'stalk_shape': {0: 0.4327917282127031, 1: 0.5672082717872969},\n",
       "  'stalk_root': {0: 0.3052683407188577,\n",
       "   1: 0.464795667159035,\n",
       "   2: 0.06843919251600197,\n",
       "   3: 0.137863121614968,\n",
       "   4: 0.023633677991137372},\n",
       "  'stalk_surface_above_ring': {0: 0.06794682422451995,\n",
       "   1: 0.2919743968488429,\n",
       "   2: 0.637124569177745,\n",
       "   3: 0.0029542097488921715},\n",
       "  'stalk_surface_below_ring': {0: 0.07385524372230429,\n",
       "   1: 0.28360413589364847,\n",
       "   2: 0.6075824716888233,\n",
       "   3: 0.034958148695224026},\n",
       "  'stalk_color_above_ring': {0: 0.053175775480059084,\n",
       "   1: 0.004431314623338257,\n",
       "   2: 0.011816838995568686,\n",
       "   3: 0.07090103397341212,\n",
       "   4: 0.055145248645987195,\n",
       "   5: 0.023633677991137372,\n",
       "   6: 0.23042836041358936,\n",
       "   7: 0.5494830132939439,\n",
       "   8: 0.0009847365829640572},\n",
       "  'stalk_color_below_ring': {0: 0.053175775480059084,\n",
       "   1: 0.004431314623338257,\n",
       "   2: 0.011816838995568686,\n",
       "   3: 0.07090103397341212,\n",
       "   4: 0.06302314130969966,\n",
       "   5: 0.023633677991137372,\n",
       "   6: 0.23042836041358936,\n",
       "   7: 0.5396356474643033,\n",
       "   8: 0.0029542097488921715},\n",
       "  'veil_type': {0: 1.0},\n",
       "  'veil_color': {0: 0.011816838995568686,\n",
       "   1: 0.011816838995568686,\n",
       "   2: 0.9753815854258986,\n",
       "   3: 0.0009847365829640572},\n",
       "  'ring_number': {0: 0.004431314623338257,\n",
       "   1: 0.9217134416543574,\n",
       "   2: 0.07385524372230429},\n",
       "  'ring_type': {0: 0.3417035942885278,\n",
       "   1: 0.005908419497784343,\n",
       "   2: 0.15952732644017725,\n",
       "   3: 0.004431314623338257,\n",
       "   4: 0.48842934515017233},\n",
       "  'spore_print_color': {0: 0.005908419497784343,\n",
       "   1: 0.20088626292466766,\n",
       "   2: 0.23042836041358936,\n",
       "   3: 0.24224519940915806,\n",
       "   4: 0.005908419497784343,\n",
       "   5: 0.008862629246676515,\n",
       "   6: 0.005908419497784343,\n",
       "   7: 0.29394387001477107,\n",
       "   8: 0.005908419497784343},\n",
       "  'population': {0: 0.047267355982274745,\n",
       "   1: 0.041851304775972424,\n",
       "   2: 0.049236829148202856,\n",
       "   3: 0.1536189069423929,\n",
       "   4: 0.49729197439684886,\n",
       "   5: 0.21073362875430823},\n",
       "  'habitat': {0: 0.38749384539635645,\n",
       "   1: 0.26440177252584934,\n",
       "   2: 0.10241260462826195,\n",
       "   3: 0.035942885278188084,\n",
       "   4: 0.14081733136386015,\n",
       "   5: 0.04529788281634663,\n",
       "   6: 0.023633677991137372}}}"
      ]
     },
     "execution_count": 74,
     "metadata": {},
     "output_type": "execute_result"
    }
   ],
   "source": [
    "model"
   ]
  },
  {
   "cell_type": "code",
   "execution_count": 80,
   "metadata": {},
   "outputs": [
    {
     "data": {
      "text/plain": [
       "{0: 0.517971442639094, 1: 0.48202855736090594}"
      ]
     },
     "execution_count": 80,
     "metadata": {},
     "output_type": "execute_result"
    }
   ],
   "source": [
    "prior"
   ]
  },
  {
   "cell_type": "code",
   "execution_count": 155,
   "metadata": {},
   "outputs": [],
   "source": [
    "class NB:\n",
    "    def __init__(self):\n",
    "        pass\n",
    "    \n",
    "    def fit(self,X,y):\n",
    "        model={}\n",
    "        prior={}\n",
    "        kclasses=set(y)\n",
    "        for kclass in kclasses: #Class 0 or 1\n",
    "            model[kclass]={}\n",
    "            for col in X.columns: # column which one\n",
    "                model[kclass][col]={}\n",
    "                for val in set(X[col]): #unique values in that column\n",
    "                    select=X.loc[y==kclass]\n",
    "                    prob=np.sum(select[col]==val)/len(select)\n",
    "                    model[kclass][col][val]=prob\n",
    "\n",
    "        for kclass in kclasses:\n",
    "            prior[kclass]=np.sum(y==kclass)/len(y)\n",
    "        self.model=model\n",
    "        self.prior=prior\n",
    "    def predict_point(self,point):\n",
    "        probs=[]\n",
    "        for kclass in self.prior:\n",
    "            p=self.prior[kclass]\n",
    "            for col in self.model[kclass]:\n",
    "                p*=self.model[kclass][col][point[col]]\n",
    "            probs.append(p)\n",
    "        return np.argmax(probs)\n",
    "    def predict(self,X):\n",
    "        y=[]\n",
    "        for index,row in X.iterrows():\n",
    "            y.append(self.predict_point(row))\n",
    "        return np.array(y)\n",
    "    def score(self,X,y):\n",
    "        yp=self.predict(X)\n",
    "        return np.mean(y==yp)"
   ]
  },
  {
   "cell_type": "code",
   "execution_count": 156,
   "metadata": {},
   "outputs": [],
   "source": [
    "nb=NB()"
   ]
  },
  {
   "cell_type": "code",
   "execution_count": 157,
   "metadata": {},
   "outputs": [],
   "source": [
    "nb.fit(X_train,y_train)"
   ]
  },
  {
   "cell_type": "code",
   "execution_count": 173,
   "metadata": {},
   "outputs": [
    {
     "data": {
      "text/plain": [
       "array([0, 1, 1, 0, 1, 1, 1, 1, 0, 0], dtype=int64)"
      ]
     },
     "execution_count": 173,
     "metadata": {},
     "output_type": "execute_result"
    }
   ],
   "source": [
    "nb.predict(X_test[:10])"
   ]
  },
  {
   "cell_type": "code",
   "execution_count": 174,
   "metadata": {},
   "outputs": [
    {
     "data": {
      "text/plain": [
       "1971    0\n",
       "6654    1\n",
       "5606    1\n",
       "3332    0\n",
       "6988    1\n",
       "5761    1\n",
       "5798    1\n",
       "3064    1\n",
       "1811    0\n",
       "3422    0\n",
       "Name: type, dtype: int32"
      ]
     },
     "execution_count": 174,
     "metadata": {},
     "output_type": "execute_result"
    }
   ],
   "source": [
    "y_test[:10]"
   ]
  },
  {
   "cell_type": "code",
   "execution_count": 175,
   "metadata": {},
   "outputs": [
    {
     "data": {
      "text/plain": [
       "0.9973890339425587"
      ]
     },
     "execution_count": 175,
     "metadata": {},
     "output_type": "execute_result"
    }
   ],
   "source": [
    "nb.score(X_test,y_test)"
   ]
  },
  {
   "cell_type": "code",
   "execution_count": null,
   "metadata": {},
   "outputs": [],
   "source": []
  }
 ],
 "metadata": {
  "kernelspec": {
   "display_name": "Python 3",
   "language": "python",
   "name": "python3"
  },
  "language_info": {
   "codemirror_mode": {
    "name": "ipython",
    "version": 3
   },
   "file_extension": ".py",
   "mimetype": "text/x-python",
   "name": "python",
   "nbconvert_exporter": "python",
   "pygments_lexer": "ipython3",
   "version": "3.7.3"
  }
 },
 "nbformat": 4,
 "nbformat_minor": 2
}
