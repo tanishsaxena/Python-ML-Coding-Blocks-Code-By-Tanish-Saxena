{
 "cells": [
  {
   "cell_type": "code",
   "execution_count": 2,
   "metadata": {},
   "outputs": [],
   "source": [
    "from keras.models import Model,Sequential\n",
    "from keras.layers import Dense,LeakyReLU\n",
    "import pandas as pd\n",
    "import matplotlib.pyplot as plt\n",
    "import numpy as np"
   ]
  },
  {
   "cell_type": "code",
   "execution_count": 7,
   "metadata": {},
   "outputs": [],
   "source": [
    "def create_generator():\n",
    "    model = Sequential()\n",
    "    model.add(Dense(128,input_dim=100))\n",
    "    model.add(LeakyReLU(.2))\n",
    "    model.add(Dense(256))\n",
    "    model.add(LeakyReLU(.2))\n",
    "    model.add(Dense(512))\n",
    "    model.add(LeakyReLU(.2))\n",
    "    model.add(Dense(1024))\n",
    "    model.add(LeakyReLU(.2))\n",
    "    model.add(Dense(784,activation=\"sigmoid\"))\n",
    "    \n",
    "    model.compile(optimizer=\"adam\",loss=\"binary_crossentropy\")\n",
    "    \n",
    "    return model"
   ]
  },
  {
   "cell_type": "code",
   "execution_count": 9,
   "metadata": {},
   "outputs": [],
   "source": [
    "gen = create_generator()\n"
   ]
  },
  {
   "cell_type": "code",
   "execution_count": 11,
   "metadata": {},
   "outputs": [
    {
     "name": "stdout",
     "output_type": "stream",
     "text": [
      "_________________________________________________________________\n",
      "Layer (type)                 Output Shape              Param #   \n",
      "=================================================================\n",
      "dense_11 (Dense)             (None, 128)               12928     \n",
      "_________________________________________________________________\n",
      "leaky_re_lu_9 (LeakyReLU)    (None, 128)               0         \n",
      "_________________________________________________________________\n",
      "dense_12 (Dense)             (None, 256)               33024     \n",
      "_________________________________________________________________\n",
      "leaky_re_lu_10 (LeakyReLU)   (None, 256)               0         \n",
      "_________________________________________________________________\n",
      "dense_13 (Dense)             (None, 512)               131584    \n",
      "_________________________________________________________________\n",
      "leaky_re_lu_11 (LeakyReLU)   (None, 512)               0         \n",
      "_________________________________________________________________\n",
      "dense_14 (Dense)             (None, 1024)              525312    \n",
      "_________________________________________________________________\n",
      "leaky_re_lu_12 (LeakyReLU)   (None, 1024)              0         \n",
      "_________________________________________________________________\n",
      "dense_15 (Dense)             (None, 784)               803600    \n",
      "=================================================================\n",
      "Total params: 1,506,448\n",
      "Trainable params: 1,506,448\n",
      "Non-trainable params: 0\n",
      "_________________________________________________________________\n"
     ]
    }
   ],
   "source": [
    "gen.summary()"
   ]
  },
  {
   "cell_type": "code",
   "execution_count": null,
   "metadata": {},
   "outputs": [],
   "source": [
    "def create_discriminator():\n",
    "    model = Sequential()\n",
    "    model.add(Dense(512,input_dim=784))\n",
    "    model.add(LeakyReLU(.2))\n",
    "    model.add(Dense(224))\n",
    "    model.add(LeakyReLU(.2))\n",
    "    model.add(Dense(64))\n",
    "    model.add(LeakyReLU(.2))\n",
    "    \n",
    "    model.add(Dense(2,activation=\"sigmoid\"))\n",
    "    \n",
    "    model.compile(optimizer=\"adam\",loss=\"binary_crossentropy\")\n",
    "    \n",
    "    return model"
   ]
  }
 ],
 "metadata": {
  "kernelspec": {
   "display_name": "Python 3",
   "language": "python",
   "name": "python3"
  },
  "language_info": {
   "codemirror_mode": {
    "name": "ipython",
    "version": 3
   },
   "file_extension": ".py",
   "mimetype": "text/x-python",
   "name": "python",
   "nbconvert_exporter": "python",
   "pygments_lexer": "ipython3",
   "version": "3.6.8"
  }
 },
 "nbformat": 4,
 "nbformat_minor": 2
}
