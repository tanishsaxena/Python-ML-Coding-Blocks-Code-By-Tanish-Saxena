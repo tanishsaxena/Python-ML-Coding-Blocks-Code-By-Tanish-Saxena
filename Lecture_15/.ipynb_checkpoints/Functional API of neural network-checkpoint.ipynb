{
 "cells": [
  {
   "cell_type": "code",
   "execution_count": 63,
   "metadata": {},
   "outputs": [],
   "source": [
    "from keras.models import Model\n",
    "from keras.layers import Dense #This is the layer which shows the layer is connected to all previous neuron\n",
    "from keras.layers import Input\n",
    "#from sklearn.datasets import make_circles\n",
    "#from keras.losses import categorical_crossentropy\n",
    "from sklearn.model_selection import train_test_split\n",
    "import matplotlib.pyplot as plt\n",
    "from sklearn.preprocessing import OneHotEncoder\n",
    "import pandas as pd\n",
    "import numpy as np"
   ]
  },
  {
   "cell_type": "code",
   "execution_count": 13,
   "metadata": {},
   "outputs": [],
   "source": [
    "data=pd.read_csv(\"mnist_train_small.csv\").values"
   ]
  },
  {
   "cell_type": "code",
   "execution_count": 14,
   "metadata": {},
   "outputs": [],
   "source": [
    "X=data[:,2:]"
   ]
  },
  {
   "cell_type": "code",
   "execution_count": 15,
   "metadata": {},
   "outputs": [],
   "source": [
    "y=data[:,1]"
   ]
  },
  {
   "cell_type": "code",
   "execution_count": 16,
   "metadata": {},
   "outputs": [],
   "source": [
    "ohe=OneHotEncoder(categories=\"auto\")"
   ]
  },
  {
   "cell_type": "code",
   "execution_count": 17,
   "metadata": {},
   "outputs": [],
   "source": [
    "y_hot=ohe.fit_transform(y.reshape(-1,1))"
   ]
  },
  {
   "cell_type": "code",
   "execution_count": 46,
   "metadata": {},
   "outputs": [],
   "source": [
    "X_train, X_test, y_train, y_test = train_test_split(X, y_hot, test_size=0.33, random_state=42)"
   ]
  },
  {
   "cell_type": "code",
   "execution_count": 47,
   "metadata": {},
   "outputs": [],
   "source": [
    "model=Model()"
   ]
  },
  {
   "cell_type": "code",
   "execution_count": 48,
   "metadata": {},
   "outputs": [
    {
     "data": {
      "text/plain": [
       "(8000, 784)"
      ]
     },
     "execution_count": 48,
     "metadata": {},
     "output_type": "execute_result"
    }
   ],
   "source": [
    "X.shape"
   ]
  },
  {
   "cell_type": "code",
   "execution_count": 69,
   "metadata": {},
   "outputs": [],
   "source": [
    "in_layer=Input(shape=[784])# This is showing inputs of first layer\n",
    "layer_1=Dense(200,activation=\"relu\")(in_layer)\n",
    "layer_2=Dense(50,activation=\"relu\")(layer_1)  #This shows it is connected to layer 1 and this is called functinal api that means layer 1 is function of layer 1 in this\n",
    "layer_3=Dense(10,activation=\"softmax\")(layer_2)"
   ]
  },
  {
   "cell_type": "code",
   "execution_count": 70,
   "metadata": {},
   "outputs": [],
   "source": [
    "model=Model(inputs=[in_layer],outputs=[layer_3])"
   ]
  },
  {
   "cell_type": "code",
   "execution_count": 71,
   "metadata": {},
   "outputs": [
    {
     "name": "stdout",
     "output_type": "stream",
     "text": [
      "_________________________________________________________________\n",
      "Layer (type)                 Output Shape              Param #   \n",
      "=================================================================\n",
      "input_6 (InputLayer)         (None, 784)               0         \n",
      "_________________________________________________________________\n",
      "dense_21 (Dense)             (None, 200)               157000    \n",
      "_________________________________________________________________\n",
      "dense_22 (Dense)             (None, 50)                10050     \n",
      "_________________________________________________________________\n",
      "dense_23 (Dense)             (None, 10)                510       \n",
      "=================================================================\n",
      "Total params: 167,560\n",
      "Trainable params: 167,560\n",
      "Non-trainable params: 0\n",
      "_________________________________________________________________\n"
     ]
    }
   ],
   "source": [
    "model.summary()"
   ]
  },
  {
   "cell_type": "code",
   "execution_count": 72,
   "metadata": {},
   "outputs": [],
   "source": [
    "model.compile(optimizer=\"adam\",loss=\"categorical_crossentropy\",metrics=[\"accuracy\"])"
   ]
  },
  {
   "cell_type": "code",
   "execution_count": null,
   "metadata": {},
   "outputs": [],
   "source": []
  },
  {
   "cell_type": "code",
   "execution_count": 73,
   "metadata": {},
   "outputs": [
    {
     "name": "stdout",
     "output_type": "stream",
     "text": [
      "Epoch 1/10\n",
      "5360/5360 [==============================] - 1s 154us/step - loss: 10.3037 - acc: 0.3466\n",
      "Epoch 2/10\n",
      "5360/5360 [==============================] - 0s 64us/step - loss: 7.2568 - acc: 0.5397\n",
      "Epoch 3/10\n",
      "5360/5360 [==============================] - 0s 63us/step - loss: 6.3000 - acc: 0.6021\n",
      "Epoch 4/10\n",
      "5360/5360 [==============================] - 0s 59us/step - loss: 5.9674 - acc: 0.6256\n",
      "Epoch 5/10\n",
      "5360/5360 [==============================] - 0s 65us/step - loss: 5.7823 - acc: 0.6354\n",
      "Epoch 6/10\n",
      "5360/5360 [==============================] - 0s 62us/step - loss: 5.7525 - acc: 0.6394\n",
      "Epoch 7/10\n",
      "5360/5360 [==============================] - 0s 62us/step - loss: 5.6715 - acc: 0.6446\n",
      "Epoch 8/10\n",
      "5360/5360 [==============================] - 0s 66us/step - loss: 5.5877 - acc: 0.6494\n",
      "Epoch 9/10\n",
      "5360/5360 [==============================] - 0s 76us/step - loss: 5.4930 - acc: 0.6563\n",
      "Epoch 10/10\n",
      "5360/5360 [==============================] - 0s 80us/step - loss: 5.4832 - acc: 0.6558\n"
     ]
    }
   ],
   "source": [
    "hist=model.fit(X_train,y_train,epochs=10,batch_size=200)"
   ]
  },
  {
   "cell_type": "code",
   "execution_count": 74,
   "metadata": {},
   "outputs": [],
   "source": [
    "hist_accu=hist.history[\"acc\"]"
   ]
  },
  {
   "cell_type": "code",
   "execution_count": 75,
   "metadata": {},
   "outputs": [
    {
     "data": {
      "text/plain": [
       "[<matplotlib.lines.Line2D at 0x25b60ae60b8>]"
      ]
     },
     "execution_count": 75,
     "metadata": {},
     "output_type": "execute_result"
    },
    {
     "data": {
      "image/png": "[encoded data removed]",
      "text/plain": [
       "<Figure size 432x288 with 1 Axes>"
      ]
     },
     "metadata": {
      "needs_background": "light"
     },
     "output_type": "display_data"
    }
   ],
   "source": [
    "plt.plot(hist_accu)"
   ]
  },
  {
   "cell_type": "code",
   "execution_count": 76,
   "metadata": {},
   "outputs": [],
   "source": [
    "hist_loss=hist.history[\"loss\"]"
   ]
  },
  {
   "cell_type": "code",
   "execution_count": 77,
   "metadata": {},
   "outputs": [
    {
     "data": {
      "text/plain": [
       "[<matplotlib.lines.Line2D at 0x25b60e70588>]"
      ]
     },
     "execution_count": 77,
     "metadata": {},
     "output_type": "execute_result"
    },
    {
     "data": {
      "image/png": "[encoded data removed]",
      "text/plain": [
       "<Figure size 432x288 with 1 Axes>"
      ]
     },
     "metadata": {
      "needs_background": "light"
     },
     "output_type": "display_data"
    }
   ],
   "source": [
    "plt.plot(hist_loss)"
   ]
  }
 ],
 "metadata": {
  "kernelspec": {
   "display_name": "Python 3",
   "language": "python",
   "name": "python3"
  },
  "language_info": {
   "codemirror_mode": {
    "name": "ipython",
    "version": 3
   },
   "file_extension": ".py",
   "mimetype": "text/x-python",
   "name": "python",
   "nbconvert_exporter": "python",
   "pygments_lexer": "ipython3",
   "version": "3.7.3"
  }
 },
 "nbformat": 4,
 "nbformat_minor": 2
}
