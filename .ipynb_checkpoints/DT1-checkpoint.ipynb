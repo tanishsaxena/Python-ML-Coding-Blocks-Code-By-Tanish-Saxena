{
 "cells": [
  {
   "cell_type": "code",
   "execution_count": 162,
   "metadata": {},
   "outputs": [],
   "source": [
    "import numpy as np\n",
    "import matplotlib.pyplot as plt\n",
    "import pandas as pd\n",
    "from sklearn.preprocessing import LabelEncoder as LE"
   ]
  },
  {
   "cell_type": "code",
   "execution_count": 163,
   "metadata": {},
   "outputs": [],
   "source": [
    "data=pd.read_csv(\"titanic_train.csv\")"
   ]
  },
  {
   "cell_type": "code",
   "execution_count": 164,
   "metadata": {},
   "outputs": [
    {
     "data": {
      "text/html": [
       "<div>\n",
       "<style scoped>\n",
       "    .dataframe tbody tr th:only-of-type {\n",
       "        vertical-align: middle;\n",
       "    }\n",
       "\n",
       "    .dataframe tbody tr th {\n",
       "        vertical-align: top;\n",
       "    }\n",
       "\n",
       "    .dataframe thead th {\n",
       "        text-align: right;\n",
       "    }\n",
       "</style>\n",
       "<table border=\"1\" class=\"dataframe\">\n",
       "  <thead>\n",
       "    <tr style=\"text-align: right;\">\n",
       "      <th></th>\n",
       "      <th>PassengerId</th>\n",
       "      <th>Survived</th>\n",
       "      <th>Pclass</th>\n",
       "      <th>Name</th>\n",
       "      <th>Sex</th>\n",
       "      <th>Age</th>\n",
       "      <th>SibSp</th>\n",
       "      <th>Parch</th>\n",
       "      <th>Ticket</th>\n",
       "      <th>Fare</th>\n",
       "      <th>Cabin</th>\n",
       "      <th>Embarked</th>\n",
       "    </tr>\n",
       "  </thead>\n",
       "  <tbody>\n",
       "    <tr>\n",
       "      <th>0</th>\n",
       "      <td>1</td>\n",
       "      <td>0</td>\n",
       "      <td>3</td>\n",
       "      <td>Braund, Mr. Owen Harris</td>\n",
       "      <td>male</td>\n",
       "      <td>22.0</td>\n",
       "      <td>1</td>\n",
       "      <td>0</td>\n",
       "      <td>A/5 21171</td>\n",
       "      <td>7.2500</td>\n",
       "      <td>NaN</td>\n",
       "      <td>S</td>\n",
       "    </tr>\n",
       "    <tr>\n",
       "      <th>1</th>\n",
       "      <td>2</td>\n",
       "      <td>1</td>\n",
       "      <td>1</td>\n",
       "      <td>Cumings, Mrs. John Bradley (Florence Briggs Th...</td>\n",
       "      <td>female</td>\n",
       "      <td>38.0</td>\n",
       "      <td>1</td>\n",
       "      <td>0</td>\n",
       "      <td>PC 17599</td>\n",
       "      <td>71.2833</td>\n",
       "      <td>C85</td>\n",
       "      <td>C</td>\n",
       "    </tr>\n",
       "  </tbody>\n",
       "</table>\n",
       "</div>"
      ],
      "text/plain": [
       "   PassengerId  Survived  Pclass  \\\n",
       "0            1         0       3   \n",
       "1            2         1       1   \n",
       "\n",
       "                                                Name     Sex   Age  SibSp  \\\n",
       "0                            Braund, Mr. Owen Harris    male  22.0      1   \n",
       "1  Cumings, Mrs. John Bradley (Florence Briggs Th...  female  38.0      1   \n",
       "\n",
       "   Parch     Ticket     Fare Cabin Embarked  \n",
       "0      0  A/5 21171   7.2500   NaN        S  \n",
       "1      0   PC 17599  71.2833   C85        C  "
      ]
     },
     "execution_count": 164,
     "metadata": {},
     "output_type": "execute_result"
    }
   ],
   "source": [
    "data.head(2)"
   ]
  },
  {
   "cell_type": "code",
   "execution_count": 165,
   "metadata": {},
   "outputs": [
    {
     "data": {
      "text/plain": [
       "Index(['PassengerId', 'Survived', 'Pclass', 'Name', 'Sex', 'Age', 'SibSp',\n",
       "       'Parch', 'Ticket', 'Fare', 'Cabin', 'Embarked'],\n",
       "      dtype='object')"
      ]
     },
     "execution_count": 165,
     "metadata": {},
     "output_type": "execute_result"
    }
   ],
   "source": [
    "data.columns"
   ]
  },
  {
   "cell_type": "code",
   "execution_count": 166,
   "metadata": {},
   "outputs": [],
   "source": [
    "data.Age.fillna(np.mean(data.Age,axis=0),inplace=True)"
   ]
  },
  {
   "cell_type": "code",
   "execution_count": 167,
   "metadata": {},
   "outputs": [
    {
     "name": "stdout",
     "output_type": "stream",
     "text": [
      "<class 'pandas.core.frame.DataFrame'>\n",
      "RangeIndex: 891 entries, 0 to 890\n",
      "Data columns (total 12 columns):\n",
      "PassengerId    891 non-null int64\n",
      "Survived       891 non-null int64\n",
      "Pclass         891 non-null int64\n",
      "Name           891 non-null object\n",
      "Sex            891 non-null object\n",
      "Age            891 non-null float64\n",
      "SibSp          891 non-null int64\n",
      "Parch          891 non-null int64\n",
      "Ticket         891 non-null object\n",
      "Fare           891 non-null float64\n",
      "Cabin          204 non-null object\n",
      "Embarked       889 non-null object\n",
      "dtypes: float64(2), int64(5), object(5)\n",
      "memory usage: 83.6+ KB\n"
     ]
    }
   ],
   "source": [
    "data.info()"
   ]
  },
  {
   "cell_type": "code",
   "execution_count": 168,
   "metadata": {},
   "outputs": [],
   "source": [
    "X=data.loc[:,['Pclass', 'Sex', 'Age', 'SibSp',\n",
    "       'Parch']]"
   ]
  },
  {
   "cell_type": "code",
   "execution_count": 169,
   "metadata": {},
   "outputs": [],
   "source": [
    "y=data['Survived']"
   ]
  },
  {
   "cell_type": "code",
   "execution_count": 170,
   "metadata": {},
   "outputs": [],
   "source": [
    "le=LE()\n",
    "X[\"Sex\"]=le.fit_transform(X.Sex)"
   ]
  },
  {
   "cell_type": "code",
   "execution_count": 171,
   "metadata": {},
   "outputs": [],
   "source": [
    "def entropy(columns):\n",
    "    val,count=np.unique(columns,return_counts=True)\n",
    "    entropy=0\n",
    "    for count in count:\n",
    "        p=count/len(columns)\n",
    "        entropy+=p*np.log2(p)\n",
    "    return -entropy"
   ]
  },
  {
   "cell_type": "code",
   "execution_count": 172,
   "metadata": {},
   "outputs": [
    {
     "data": {
      "text/plain": [
       "0.9362046432498521"
      ]
     },
     "execution_count": 172,
     "metadata": {},
     "output_type": "execute_result"
    }
   ],
   "source": [
    "entropy(X.Sex)"
   ]
  },
  {
   "cell_type": "code",
   "execution_count": 173,
   "metadata": {},
   "outputs": [],
   "source": [
    "def info_gain(X,y,label):\n",
    "    pivot=np.mean(X[label])\n",
    "    y_left=y[X[label]<pivot]\n",
    "    y_right=y[X[label]>=pivot]\n",
    "    if(len(y_left)==0) or (len(y_right)==0):\n",
    "        return -1000\n",
    "    p_left=len(y_left)/len(y)\n",
    "    p_right=len(y_right)/len(y)\n",
    "    \n",
    "    info_gain=entropy(y)-p_left*entropy(y_left)-p_right*entropy(y_right)\n",
    "    return info_gain"
   ]
  },
  {
   "cell_type": "code",
   "execution_count": 174,
   "metadata": {},
   "outputs": [
    {
     "name": "stdout",
     "output_type": "stream",
     "text": [
      "Pclass 0.07579362743608165\n",
      "Sex 0.2176601066606143\n",
      "Age 0.001158644038169343\n",
      "SibSp 0.009584541813400127\n",
      "Parch 0.015380754493137666\n"
     ]
    }
   ],
   "source": [
    "for label in X.columns:\n",
    "    print(label,info_gain(X,y,label))"
   ]
  },
  {
   "cell_type": "code",
   "execution_count": 175,
   "metadata": {},
   "outputs": [],
   "source": [
    "class Node:\n",
    "    def __init__(self,label=None,value=None,result=None):\n",
    "        self.label=label\n",
    "        self.value=value\n",
    "        self.result=result\n",
    "        "
   ]
  },
  {
   "cell_type": "code",
   "execution_count": 188,
   "metadata": {},
   "outputs": [],
   "source": [
    "class DecisionTree:\n",
    "    \n",
    "    def __init__(self,max_depth):\n",
    "        self.max_depth=max_depth\n",
    "    \n",
    "    def fit(self,X,y):\n",
    "        self.root=self.generate(X,y,self.max_depth)\n",
    "    \n",
    "    def generate(self,X,y,depth):\n",
    "        if depth==1:\n",
    "            return Node(result=np.mean(y))\n",
    "        \n",
    "        gains=[]\n",
    "        for label in X.columns:\n",
    "            gain=info_gain(X,y,label)\n",
    "            gains.append((gain,label))\n",
    "        \n",
    "        selected=max(gains)[1]\n",
    "        pivot=np.mean(X[selected])\n",
    " \n",
    "        #node=Node(selected,pivot)\n",
    "        X_right=X[X[selected]>=pivot]\n",
    "        X_left=X[X[selected]<pivot]\n",
    "        y_right=y[X[selected]>=pivot]\n",
    "        y_left=y[X[selected]<pivot]\n",
    "        \n",
    "        if (len(y_left)==0) or (len(y_right)==0):\n",
    "            return Node(result=np.mean(y))\n",
    "        \n",
    "        node=Node(selected,pivot)\n",
    "        node.right=self.generate(X_right,y_right,depth-1)\n",
    "        node.left=self.generate(X_left,y_left,depth-1)\n",
    "        return node\n",
    "    \n",
    "    def display(self,node,indent=\"\"):\n",
    "        if node.label==None:\n",
    "            if node.result<0.5:\n",
    "                print(indent,\"Died\")\n",
    "            else:\n",
    "                print(indent,\"Survived\")\n",
    "            return\n",
    "        \n",
    "        print(indent,node.label,node.value)\n",
    "        \n",
    "        self.display(node.left,indent+\"\\t\")\n",
    "        self.display(node.right,indent+\"\\t\")"
   ]
  },
  {
   "cell_type": "code",
   "execution_count": 189,
   "metadata": {},
   "outputs": [],
   "source": [
    "model=DecisionTree(5)"
   ]
  },
  {
   "cell_type": "code",
   "execution_count": 190,
   "metadata": {},
   "outputs": [],
   "source": [
    "model.fit(X,y)"
   ]
  },
  {
   "cell_type": "code",
   "execution_count": 191,
   "metadata": {},
   "outputs": [
    {
     "name": "stdout",
     "output_type": "stream",
     "text": [
      " Sex 0.6475869809203143\n",
      "\t Pclass 2.159235668789809\n",
      "\t\t Pclass 1.4470588235294117\n",
      "\t\t\t Parch 0.4574468085106383\n",
      "\t\t\t\t Survived\n",
      "\t\t\t\t Survived\n",
      "\t\t\t Parch 0.6052631578947368\n",
      "\t\t\t\t Survived\n",
      "\t\t\t\t Survived\n",
      "\t\t Parch 0.7986111111111112\n",
      "\t\t\t Age 26.090266435986155\n",
      "\t\t\t\t Survived\n",
      "\t\t\t\t Survived\n",
      "\t\t\t SibSp 1.694915254237288\n",
      "\t\t\t\t Died\n",
      "\t\t\t\t Died\n",
      "\t Pclass 2.389948006932409\n",
      "\t\t Pclass 1.4695652173913043\n",
      "\t\t\t Age 39.287716972034715\n",
      "\t\t\t\t Died\n",
      "\t\t\t\t Died\n",
      "\t\t\t Parch 0.2222222222222222\n",
      "\t\t\t\t Died\n",
      "\t\t\t\t Died\n",
      "\t\t Parch 0.22478386167146974\n",
      "\t\t\t Age 29.07305445151033\n",
      "\t\t\t\t Died\n",
      "\t\t\t\t Died\n",
      "\t\t\t SibSp 2.607843137254902\n",
      "\t\t\t\t Died\n",
      "\t\t\t\t Died\n"
     ]
    }
   ],
   "source": [
    "model.display(model.root)"
   ]
  },
  {
   "cell_type": "code",
   "execution_count": null,
   "metadata": {},
   "outputs": [],
   "source": []
  }
 ],
 "metadata": {
  "kernelspec": {
   "display_name": "Python 3",
   "language": "python",
   "name": "python3"
  },
  "language_info": {
   "codemirror_mode": {
    "name": "ipython",
    "version": 3
   },
   "file_extension": ".py",
   "mimetype": "text/x-python",
   "name": "python",
   "nbconvert_exporter": "python",
   "pygments_lexer": "ipython3",
   "version": "3.7.3"
  }
 },
 "nbformat": 4,
 "nbformat_minor": 2
}
