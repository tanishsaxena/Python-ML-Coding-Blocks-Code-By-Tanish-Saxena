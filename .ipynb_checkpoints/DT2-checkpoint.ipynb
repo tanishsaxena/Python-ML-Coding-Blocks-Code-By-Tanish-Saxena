{
 "cells": [
  {
   "cell_type": "code",
   "execution_count": 22,
   "metadata": {},
   "outputs": [],
   "source": [
    "import numpy as np\n",
    "import matplotlib.pyplot as plt\n",
    "import pandas as pd\n",
    "from sklearn.preprocessing import LabelEncoder as LE"
   ]
  },
  {
   "cell_type": "code",
   "execution_count": 23,
   "metadata": {},
   "outputs": [],
   "source": [
    "data=pd.read_csv(\"titanic_train.csv\")"
   ]
  },
  {
   "cell_type": "code",
   "execution_count": 24,
   "metadata": {},
   "outputs": [],
   "source": [
    "data=data.loc[:,['Survived', 'Pclass', 'Sex', 'Age', 'SibSp','Parch']]"
   ]
  },
  {
   "cell_type": "code",
   "execution_count": 25,
   "metadata": {},
   "outputs": [],
   "source": [
    "X=data.loc[:,['Pclass', 'Sex', 'Age', 'SibSp','Parch']]"
   ]
  },
  {
   "cell_type": "code",
   "execution_count": 26,
   "metadata": {},
   "outputs": [],
   "source": [
    "y=data.loc[:,'Survived']"
   ]
  },
  {
   "cell_type": "code",
   "execution_count": 35,
   "metadata": {},
   "outputs": [],
   "source": [
    "le=LE()"
   ]
  },
  {
   "cell_type": "code",
   "execution_count": 38,
   "metadata": {},
   "outputs": [],
   "source": [
    "X[\"Sex\"]=le.fit_transform(X.Sex)"
   ]
  },
  {
   "cell_type": "code",
   "execution_count": 40,
   "metadata": {},
   "outputs": [],
   "source": [
    "X.Age.fillna(np.mean(X.Age),inplace=True)"
   ]
  },
  {
   "cell_type": "code",
   "execution_count": null,
   "metadata": {},
   "outputs": [],
   "source": []
  },
  {
   "cell_type": "code",
   "execution_count": 42,
   "metadata": {},
   "outputs": [],
   "source": [
    "def gini_impurity(columns):\n",
    "    val,counts=np.unique(columns,return_counts=True)\n",
    "    gini_impurity=0\n",
    "    for count in counts:\n",
    "        p=count/len(columns)\n",
    "        gini_impurity+=p*(1-p)\n",
    "    return gini_impurity"
   ]
  },
  {
   "cell_type": "code",
   "execution_count": 92,
   "metadata": {},
   "outputs": [],
   "source": [
    "def gini_gini(X,y,label):\n",
    "    pivot= np.mean(X[label])\n",
    "    y_left=y[X[label]<pivot]\n",
    "    y_right=y[X[label]>=pivot]\n",
    "    if len(y_left)==0 or len(y_right)==0:\n",
    "        return -1000\n",
    "    gini_gini=gini_impurity(y)-gini_impurity(y_left)-gini_impurity(y_right)\n",
    "    \n",
    "    return -gini_gini"
   ]
  },
  {
   "cell_type": "code",
   "execution_count": 93,
   "metadata": {},
   "outputs": [
    {
     "data": {
      "text/plain": [
       "0.21626576181475737"
      ]
     },
     "execution_count": 93,
     "metadata": {},
     "output_type": "execute_result"
    }
   ],
   "source": [
    "gini_gini(X,y,\"Sex\")"
   ]
  },
  {
   "cell_type": "code",
   "execution_count": 94,
   "metadata": {},
   "outputs": [],
   "source": [
    "class Node:\n",
    "    def __init__(self,Label=None,value=None,result=None):\n",
    "        self.label=Label\n",
    "        self.value=value\n",
    "        self.result=result"
   ]
  },
  {
   "cell_type": "code",
   "execution_count": null,
   "metadata": {
    "collapsed": true
   },
   "outputs": [],
   "source": []
  },
  {
   "cell_type": "markdown",
   "metadata": {},
   "source": []
  },
  {
   "cell_type": "code",
   "execution_count": 108,
   "metadata": {},
   "outputs": [],
   "source": [
    "class DeciTreeGini:\n",
    "    def __init__(self,max_depth):\n",
    "        self.max_depth=max_depth\n",
    "        \n",
    "    def fit(self,X,y):\n",
    "        self.X=X\n",
    "        self.y=y\n",
    "        self.root=self.generator(self.X,self.y,self.max_depth)\n",
    "    def generator(self,X,y,depth):\n",
    "        \n",
    "        if depth==1:\n",
    "            return Node(result=np.mean(y))\n",
    "        \n",
    "        gains=[]\n",
    "        for label in X.columns:\n",
    "            gain=gini_gini(X,y,label)\n",
    "            gains.append((gain,label))\n",
    "            \n",
    "        selected=min(gains)[1]\n",
    "        pivot=np.mean(X[selected])\n",
    "        \n",
    "        X_right=X[X[selected]>=pivot]\n",
    "        y_right=y[X[selected]>=pivot]\n",
    "        X_left=X[X[selected]<pivot]\n",
    "        y_left=y[X[selected]<pivot]\n",
    "        \n",
    "        if (len(y_left)==0) or (len(y_right)==0):\n",
    "            return Node(result=np.mean(y))\n",
    "        \n",
    "        node=Node(selected,pivot)\n",
    "        node.left=self.generator(X_left,y_left,depth-1)\n",
    "        node.right=self.generator(X_right,y_right,depth-1)\n",
    "        \n",
    "        return node\n",
    "    \n",
    "    def display(self,node,indent=\"\"):\n",
    "        if node.label==None:\n",
    "            if node.result<0.5:\n",
    "                print(indent,\"Died\")\n",
    "            else:\n",
    "                print(indent,\"Survived\")\n",
    "            return\n",
    "                \n",
    "        print(indent,node.label,node.value)\n",
    "            \n",
    "        self.display(node.left,indent+\"\\t\")\n",
    "        self.display(node.right,indent+\"\\t\")\n",
    "            \n",
    "    def predict_one(self,item,node):\n",
    "        if node.label==None:\n",
    "            return node.result\n",
    "        pivot=node.value\n",
    "        if(item[node.label]<pivot):\n",
    "            return self.predict_one(item,node.left)\n",
    "        else:\n",
    "            return self.predict_one(item,node.right)\n",
    "        \n",
    "    def predict(self,X):\n",
    "        y=[]\n",
    "        for row in X.iterrows():\n",
    "            results=self.predict_one(row[1],self.root)\n",
    "            y.append(int(results>=0.5))\n",
    "        return np.array(y)\n",
    "        \n",
    "         \n",
    "    def score(self,X,y):\n",
    "        yp=self.predict(X)\n",
    "        return sum(y.values==yp)/len(y)\n",
    "        "
   ]
  },
  {
   "cell_type": "code",
   "execution_count": 109,
   "metadata": {},
   "outputs": [],
   "source": [
    "model=DeciTreeGini(5)"
   ]
  },
  {
   "cell_type": "code",
   "execution_count": 110,
   "metadata": {},
   "outputs": [],
   "source": [
    "model.fit(X,y)"
   ]
  },
  {
   "cell_type": "code",
   "execution_count": 111,
   "metadata": {},
   "outputs": [
    {
     "name": "stdout",
     "output_type": "stream",
     "text": [
      " Sex 0.6475869809203143\n",
      "\t Survived\n",
      "\t Died\n"
     ]
    }
   ],
   "source": [
    "model.display(model.root)"
   ]
  },
  {
   "cell_type": "code",
   "execution_count": 112,
   "metadata": {},
   "outputs": [
    {
     "data": {
      "text/plain": [
       "0.7867564534231201"
      ]
     },
     "execution_count": 112,
     "metadata": {},
     "output_type": "execute_result"
    }
   ],
   "source": [
    "model.score(X,y)"
   ]
  },
  {
   "cell_type": "code",
   "execution_count": null,
   "metadata": {},
   "outputs": [],
   "source": []
  },
  {
   "cell_type": "code",
   "execution_count": null,
   "metadata": {},
   "outputs": [],
   "source": []
  },
  {
   "cell_type": "code",
   "execution_count": null,
   "metadata": {},
   "outputs": [],
   "source": []
  },
  {
   "cell_type": "code",
   "execution_count": null,
   "metadata": {},
   "outputs": [],
   "source": []
  },
  {
   "cell_type": "code",
   "execution_count": null,
   "metadata": {},
   "outputs": [],
   "source": []
  },
  {
   "cell_type": "code",
   "execution_count": null,
   "metadata": {},
   "outputs": [],
   "source": []
  },
  {
   "cell_type": "code",
   "execution_count": null,
   "metadata": {},
   "outputs": [],
   "source": []
  },
  {
   "cell_type": "code",
   "execution_count": 2,
   "metadata": {},
   "outputs": [],
   "source": [
    "class Node:\n",
    "    def __init__(self,label=None,value=None,result=None):\n",
    "        self.label=label\n",
    "        self.value=value\n",
    "        self.result=result"
   ]
  },
  {
   "cell_type": "code",
   "execution_count": null,
   "metadata": {},
   "outputs": [],
   "source": [
    "class DT:\n",
    "    \n",
    "    def __init__(self, max_depth=5):\n",
    "        self.max_depth=max_depth\n",
    "        \n",
    "    def fit(self,X,y):\n",
    "        self.X=X\n",
    "        self.y=y\n",
    "        self.root=self.generate(self.X,self.y,self.max_depth)\n",
    "        \n",
    "    def generate(self,X,y,depth):\n",
    "        if depth==1:\n",
    "            return Node(result=np.mean(y))\n",
    "        \n",
    "        gains=[]\n",
    "        for column in X.columns:\n",
    "            gain=info_gain(column)\n",
    "            gains.append(gain,)"
   ]
  }
 ],
 "metadata": {
  "kernelspec": {
   "display_name": "Python 3",
   "language": "python",
   "name": "python3"
  },
  "language_info": {
   "codemirror_mode": {
    "name": "ipython",
    "version": 3
   },
   "file_extension": ".py",
   "mimetype": "text/x-python",
   "name": "python",
   "nbconvert_exporter": "python",
   "pygments_lexer": "ipython3",
   "version": "3.7.3"
  }
 },
 "nbformat": 4,
 "nbformat_minor": 2
}
